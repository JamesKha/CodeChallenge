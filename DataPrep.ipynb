{
 "cells": [
  {
   "cell_type": "code",
   "execution_count": 13,
   "metadata": {},
   "outputs": [],
   "source": [
    "import pandas as pd \n",
    "import requests\n",
    "from bs4 import BeautifulSoup"
   ]
  },
  {
   "cell_type": "code",
   "execution_count": 14,
   "metadata": {},
   "outputs": [],
   "source": [
    "URL = \"https://www.zumper.com/apartments-for-rent/vancouver-bc/west-end/studios\"\n",
    "requestURL = requests.get(URL)"
   ]
  },
  {
   "cell_type": "code",
   "execution_count": 15,
   "metadata": {},
   "outputs": [],
   "source": [
    "content = requestURL.content"
   ]
  },
  {
   "cell_type": "code",
   "execution_count": 16,
   "metadata": {},
   "outputs": [],
   "source": [
    "soup = BeautifulSoup(content, \"html.parser\")"
   ]
  },
  {
   "cell_type": "code",
   "execution_count": 17,
   "metadata": {},
   "outputs": [],
   "source": [
    "rent = [x.text for x in soup.find_all(\"div\", class_=\"css-uzc059\")]\n",
    "bath = [x.text for x in soup.find_all(\"div\", class_=\"css-1iq6kk8\")]\n",
    "\n"
   ]
  },
  {
   "cell_type": "code",
   "execution_count": 18,
   "metadata": {},
   "outputs": [],
   "source": [
    "dict = {'Monthly': rent, 'Number of baths': bath}\n",
    "df= pd.DataFrame(dict)"
   ]
  },
  {
   "cell_type": "code",
   "execution_count": 19,
   "metadata": {},
   "outputs": [
    {
     "name": "stderr",
     "output_type": "stream",
     "text": [
      "C:\\Users\\Jimmy\\AppData\\Local\\Temp/ipykernel_9092/424978522.py:1: FutureWarning: The default value of regex will change from True to False in a future version.\n",
      "  df['Monthly'] = df['Monthly'].str.replace('\\D+', '')\n"
     ]
    }
   ],
   "source": [
    "df['Monthly'] = df['Monthly'].str.replace('\\D+', '')"
   ]
  },
  {
   "cell_type": "code",
   "execution_count": 20,
   "metadata": {},
   "outputs": [
    {
     "data": {
      "text/html": [
       "<div>\n",
       "<style scoped>\n",
       "    .dataframe tbody tr th:only-of-type {\n",
       "        vertical-align: middle;\n",
       "    }\n",
       "\n",
       "    .dataframe tbody tr th {\n",
       "        vertical-align: top;\n",
       "    }\n",
       "\n",
       "    .dataframe thead th {\n",
       "        text-align: right;\n",
       "    }\n",
       "</style>\n",
       "<table border=\"1\" class=\"dataframe\">\n",
       "  <thead>\n",
       "    <tr style=\"text-align: right;\">\n",
       "      <th></th>\n",
       "      <th>Monthly</th>\n",
       "      <th>Number of baths</th>\n",
       "    </tr>\n",
       "  </thead>\n",
       "  <tbody>\n",
       "    <tr>\n",
       "      <th>0</th>\n",
       "      <td>1900</td>\n",
       "      <td>Studio • 1 Bath</td>\n",
       "    </tr>\n",
       "    <tr>\n",
       "      <th>1</th>\n",
       "      <td>2369</td>\n",
       "      <td>Studio • 1 Bath</td>\n",
       "    </tr>\n",
       "    <tr>\n",
       "      <th>2</th>\n",
       "      <td>2268</td>\n",
       "      <td>Studio • 1 Bath</td>\n",
       "    </tr>\n",
       "    <tr>\n",
       "      <th>3</th>\n",
       "      <td>2570</td>\n",
       "      <td>Studio • 1 Bath</td>\n",
       "    </tr>\n",
       "    <tr>\n",
       "      <th>4</th>\n",
       "      <td>2650</td>\n",
       "      <td>Studio • 1 Bath</td>\n",
       "    </tr>\n",
       "    <tr>\n",
       "      <th>5</th>\n",
       "      <td>2450</td>\n",
       "      <td>Studio • 1 Bath</td>\n",
       "    </tr>\n",
       "    <tr>\n",
       "      <th>6</th>\n",
       "      <td>2495</td>\n",
       "      <td>Studio • 1 Bath</td>\n",
       "    </tr>\n",
       "    <tr>\n",
       "      <th>7</th>\n",
       "      <td>3500</td>\n",
       "      <td>Studio • 1 Bath</td>\n",
       "    </tr>\n",
       "    <tr>\n",
       "      <th>8</th>\n",
       "      <td>2700</td>\n",
       "      <td>Studio • 1 Bath</td>\n",
       "    </tr>\n",
       "    <tr>\n",
       "      <th>9</th>\n",
       "      <td>2375</td>\n",
       "      <td>Studio • 1 Bath</td>\n",
       "    </tr>\n",
       "    <tr>\n",
       "      <th>10</th>\n",
       "      <td>2500</td>\n",
       "      <td>Studio • 1 Bath</td>\n",
       "    </tr>\n",
       "    <tr>\n",
       "      <th>11</th>\n",
       "      <td>2095</td>\n",
       "      <td>Studio • 1 Bath</td>\n",
       "    </tr>\n",
       "    <tr>\n",
       "      <th>12</th>\n",
       "      <td>2200</td>\n",
       "      <td>Studio • 1 Bath</td>\n",
       "    </tr>\n",
       "    <tr>\n",
       "      <th>13</th>\n",
       "      <td>1625</td>\n",
       "      <td>Studio • 1 Bath</td>\n",
       "    </tr>\n",
       "    <tr>\n",
       "      <th>14</th>\n",
       "      <td>2000</td>\n",
       "      <td>Studio • 1 Bath</td>\n",
       "    </tr>\n",
       "    <tr>\n",
       "      <th>15</th>\n",
       "      <td>2650</td>\n",
       "      <td>Studio • 1 Bath</td>\n",
       "    </tr>\n",
       "  </tbody>\n",
       "</table>\n",
       "</div>"
      ],
      "text/plain": [
       "   Monthly  Number of baths\n",
       "0     1900  Studio • 1 Bath\n",
       "1     2369  Studio • 1 Bath\n",
       "2     2268  Studio • 1 Bath\n",
       "3     2570  Studio • 1 Bath\n",
       "4     2650  Studio • 1 Bath\n",
       "5     2450  Studio • 1 Bath\n",
       "6     2495  Studio • 1 Bath\n",
       "7     3500  Studio • 1 Bath\n",
       "8     2700  Studio • 1 Bath\n",
       "9     2375  Studio • 1 Bath\n",
       "10    2500  Studio • 1 Bath\n",
       "11    2095  Studio • 1 Bath\n",
       "12    2200  Studio • 1 Bath\n",
       "13    1625  Studio • 1 Bath\n",
       "14    2000  Studio • 1 Bath\n",
       "15    2650  Studio • 1 Bath"
      ]
     },
     "execution_count": 20,
     "metadata": {},
     "output_type": "execute_result"
    }
   ],
   "source": [
    "df"
   ]
  },
  {
   "cell_type": "code",
   "execution_count": 21,
   "metadata": {},
   "outputs": [],
   "source": [
    "URL2 = \"https://www.kijiji.ca/b-apartments-condos/vancouver-downtown-west-end/studios/k0c37l1700292?rb=true\"\n",
    "requestURL2 = requests.get(URL2)\n",
    "content2 = requestURL2.content\n",
    "\n",
    "soup2 = BeautifulSoup(content2, \"html.parser\")"
   ]
  },
  {
   "cell_type": "markdown",
   "metadata": {},
   "source": [
    "# Getting real estate listings\n"
   ]
  },
  {
   "cell_type": "code",
   "execution_count": 22,
   "metadata": {},
   "outputs": [],
   "source": [
    "realEstate = soup2.findAll(\"div\", class_=\"container-results large-images\")[1]\n",
    "realEstate2 = [x.find('div', class_=\"info\") for x in realEstate.findAll(\"div\", attrs={\"data-listing-id\":True})]\n"
   ]
  },
  {
   "cell_type": "code",
   "execution_count": 23,
   "metadata": {},
   "outputs": [],
   "source": [
    "\n",
    "\n",
    "realEstateLinks = [x.find('div', class_=[\"title\"]) for x in realEstate2]\n",
    "realEstateLinks1 = [x.find('a', attrs={\"href\":True}) for x in realEstate2]\n",
    "realEstateLinks = [\"https://www.kijiji.ca\"+ x['href'] for x in realEstateLinks1]\n",
    "\n",
    "\n",
    "\n",
    "#realEstatePrices = [x.find('div', class_=[\"price\"]) for x in realEstate4]\n",
    "#realEstatePrices = [x.text.strip() for x in realEstatePrices]"
   ]
  },
  {
   "cell_type": "code",
   "execution_count": 28,
   "metadata": {},
   "outputs": [],
   "source": [
    "dfKijiji = pd.DataFrame(columns=['Monthly', 'Number of baths'])\n",
    "\n",
    "for i in range(len(realEstateLinks)):\n",
    "    requestsIterate = requests.get(realEstateLinks[i])\n",
    "    soup3 = BeautifulSoup(requestsIterate.text, \"html.parser\")\n",
    "\n",
    "\n",
    "    for x in soup3.find_all('div', class_=['realEstateTitle-1440881021']):\n",
    "        monthlyNum = x.find('span')['content']\n",
    "        bathroomNum = x.findAll('span', class_=\"noLabelValue-3861810455\")[-1].text\n",
    "\n",
    "        dfKijiji = dfKijiji.append({'Monthly': monthlyNum, 'Number of baths': bathroomNum}, ignore_index=True)\n",
    "    "
   ]
  },
  {
   "cell_type": "code",
   "execution_count": 29,
   "metadata": {},
   "outputs": [
    {
     "data": {
      "text/html": [
       "<div>\n",
       "<style scoped>\n",
       "    .dataframe tbody tr th:only-of-type {\n",
       "        vertical-align: middle;\n",
       "    }\n",
       "\n",
       "    .dataframe tbody tr th {\n",
       "        vertical-align: top;\n",
       "    }\n",
       "\n",
       "    .dataframe thead th {\n",
       "        text-align: right;\n",
       "    }\n",
       "</style>\n",
       "<table border=\"1\" class=\"dataframe\">\n",
       "  <thead>\n",
       "    <tr style=\"text-align: right;\">\n",
       "      <th></th>\n",
       "      <th>Monthly</th>\n",
       "      <th>Number of baths</th>\n",
       "    </tr>\n",
       "  </thead>\n",
       "  <tbody>\n",
       "    <tr>\n",
       "      <th>0</th>\n",
       "      <td>2369.</td>\n",
       "      <td>Bathrooms: 1</td>\n",
       "    </tr>\n",
       "    <tr>\n",
       "      <th>1</th>\n",
       "      <td>2650.</td>\n",
       "      <td>Bathrooms: 1</td>\n",
       "    </tr>\n",
       "    <tr>\n",
       "      <th>2</th>\n",
       "      <td>1640.</td>\n",
       "      <td>Bathrooms: 1</td>\n",
       "    </tr>\n",
       "    <tr>\n",
       "      <th>3</th>\n",
       "      <td>2369.</td>\n",
       "      <td>Bathrooms: 1</td>\n",
       "    </tr>\n",
       "    <tr>\n",
       "      <th>4</th>\n",
       "      <td>2195.</td>\n",
       "      <td>Bathrooms: 1</td>\n",
       "    </tr>\n",
       "    <tr>\n",
       "      <th>5</th>\n",
       "      <td>2375.</td>\n",
       "      <td>Bathrooms: 1</td>\n",
       "    </tr>\n",
       "    <tr>\n",
       "      <th>6</th>\n",
       "      <td>3485.</td>\n",
       "      <td>Bathrooms: 2</td>\n",
       "    </tr>\n",
       "    <tr>\n",
       "      <th>7</th>\n",
       "      <td>2495.</td>\n",
       "      <td>Bathrooms: 1</td>\n",
       "    </tr>\n",
       "    <tr>\n",
       "      <th>8</th>\n",
       "      <td>2325.</td>\n",
       "      <td>Bathrooms: 1</td>\n",
       "    </tr>\n",
       "    <tr>\n",
       "      <th>9</th>\n",
       "      <td>2900.</td>\n",
       "      <td>Bathrooms: 1</td>\n",
       "    </tr>\n",
       "    <tr>\n",
       "      <th>10</th>\n",
       "      <td>2268.</td>\n",
       "      <td>Bathrooms: 1</td>\n",
       "    </tr>\n",
       "    <tr>\n",
       "      <th>11</th>\n",
       "      <td>2570.</td>\n",
       "      <td>Bathrooms: 1</td>\n",
       "    </tr>\n",
       "    <tr>\n",
       "      <th>12</th>\n",
       "      <td>2510.</td>\n",
       "      <td>Bathrooms: 1</td>\n",
       "    </tr>\n",
       "    <tr>\n",
       "      <th>13</th>\n",
       "      <td>2650.</td>\n",
       "      <td>Bathrooms: 1</td>\n",
       "    </tr>\n",
       "    <tr>\n",
       "      <th>14</th>\n",
       "      <td>2450.</td>\n",
       "      <td>Bathrooms: 1</td>\n",
       "    </tr>\n",
       "    <tr>\n",
       "      <th>15</th>\n",
       "      <td>2450.</td>\n",
       "      <td>Bathrooms: 1</td>\n",
       "    </tr>\n",
       "    <tr>\n",
       "      <th>16</th>\n",
       "      <td>2480.</td>\n",
       "      <td>Bathrooms: 1</td>\n",
       "    </tr>\n",
       "    <tr>\n",
       "      <th>17</th>\n",
       "      <td>2980.</td>\n",
       "      <td>Bathrooms: 1</td>\n",
       "    </tr>\n",
       "  </tbody>\n",
       "</table>\n",
       "</div>"
      ],
      "text/plain": [
       "   Monthly Number of baths\n",
       "0    2369.    Bathrooms: 1\n",
       "1    2650.    Bathrooms: 1\n",
       "2    1640.    Bathrooms: 1\n",
       "3    2369.    Bathrooms: 1\n",
       "4    2195.    Bathrooms: 1\n",
       "5    2375.    Bathrooms: 1\n",
       "6    3485.    Bathrooms: 2\n",
       "7    2495.    Bathrooms: 1\n",
       "8    2325.    Bathrooms: 1\n",
       "9    2900.    Bathrooms: 1\n",
       "10   2268.    Bathrooms: 1\n",
       "11   2570.    Bathrooms: 1\n",
       "12   2510.    Bathrooms: 1\n",
       "13   2650.    Bathrooms: 1\n",
       "14   2450.    Bathrooms: 1\n",
       "15   2450.    Bathrooms: 1\n",
       "16   2480.    Bathrooms: 1\n",
       "17   2980.    Bathrooms: 1"
      ]
     },
     "execution_count": 29,
     "metadata": {},
     "output_type": "execute_result"
    }
   ],
   "source": [
    "dfKijiji"
   ]
  }
 ],
 "metadata": {
  "kernelspec": {
   "display_name": "Python 3.10.0 64-bit ('jobby': venv)",
   "language": "python",
   "name": "python3"
  },
  "language_info": {
   "codemirror_mode": {
    "name": "ipython",
    "version": 3
   },
   "file_extension": ".py",
   "mimetype": "text/x-python",
   "name": "python",
   "nbconvert_exporter": "python",
   "pygments_lexer": "ipython3",
   "version": "3.10.0"
  },
  "orig_nbformat": 4,
  "vscode": {
   "interpreter": {
    "hash": "48d350f5f181397a19360741f9002fc700ff8626a9f57dcf745937f45eb19683"
   }
  }
 },
 "nbformat": 4,
 "nbformat_minor": 2
}
