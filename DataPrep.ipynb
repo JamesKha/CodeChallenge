{
 "cells": [
  {
   "cell_type": "code",
   "execution_count": 47,
   "metadata": {},
   "outputs": [],
   "source": [
    "import pandas as pd \n",
    "import requests\n",
    "from bs4 import BeautifulSoup"
   ]
  },
  {
   "cell_type": "markdown",
   "metadata": {},
   "source": [
    "# Getting real estate listings\n"
   ]
  },
  {
   "cell_type": "markdown",
   "metadata": {},
   "source": [
    "## Zumber"
   ]
  },
  {
   "cell_type": "code",
   "execution_count": 121,
   "metadata": {},
   "outputs": [],
   "source": [
    "def Zumber(content): \n",
    "    soup = BeautifulSoup(content, \"html.parser\")\n",
    "    rent = [x.text for x in soup.find_all(\"div\", class_=\"css-uzc059\")]\n",
    "    bath = [x.text for x in soup.find_all(\"div\", class_=\"css-1iq6kk8\")]\n",
    "\n",
    "\n",
    "    dict = {'Monthly': rent, 'Number of baths': bath}\n",
    "    df= pd.DataFrame(dict)\n",
    "    df.loc[df['Monthly'].str.contains('%'), 'Monthly'] = df['Monthly'].str[:6]\n",
    "    \n",
    "    df['Monthly'] = df['Monthly'].apply(lambda x:x.replace('$','').replace(',','').replace(\"+\",'').strip())\n",
    "    df['Monthly']= df['Monthly'].replace({'K':'*1e3'}, regex=True).map(pd.eval)\n",
    "    return df"
   ]
  },
  {
   "cell_type": "markdown",
   "metadata": {},
   "source": [
    "### Studios"
   ]
  },
  {
   "cell_type": "code",
   "execution_count": 122,
   "metadata": {},
   "outputs": [],
   "source": [
    "URL = \"https://www.zumper.com/apartments-for-rent/vancouver-bc/west-end/studios\"\n",
    "requestURL = requests.get(URL)\n",
    "content = requestURL.content"
   ]
  },
  {
   "cell_type": "markdown",
   "metadata": {},
   "source": [
    "### 1 bed"
   ]
  },
  {
   "cell_type": "code",
   "execution_count": 123,
   "metadata": {},
   "outputs": [],
   "source": [
    "URL2 = \"https://www.zumper.com/apartments-for-rent/vancouver-bc/west-end/1-beds\"\n",
    "requestURL2 = requests.get(URL2)\n",
    "content2 = requestURL2.content"
   ]
  },
  {
   "cell_type": "code",
   "execution_count": 124,
   "metadata": {},
   "outputs": [
    {
     "name": "stdout",
     "output_type": "stream",
     "text": [
      "0                        $3,875\n",
      "1                       $2,450+\n",
      "2                        $3,450\n",
      "3                        $2,600\n",
      "4                       $2,300+\n",
      "5                       $2,375+\n",
      "6                       $2,680+\n",
      "7                        $2,400\n",
      "8                       $2,200+\n",
      "9                       $2,750+\n",
      "10                       $2,614\n",
      "11                       $3,000\n",
      "12                       $2,629\n",
      "13                       $3,700\n",
      "14                       $2,706\n",
      "15                       $2,743\n",
      "16                       $3,000\n",
      "17                       $2,695\n",
      "18                       $2,532\n",
      "19                       $1,775\n",
      "20    $1,90025% below avg price\n",
      "21                      $2,355+\n",
      "22                       $2,750\n",
      "23                       $2,825\n",
      "24                       $2,600\n",
      "25                       $2,200\n",
      "26                       $2,850\n",
      "27                       $2,361\n",
      "28                       $2,889\n",
      "29                       $2,550\n",
      "30                      $2,325+\n",
      "31                       $2,550\n",
      "32                       $3,300\n",
      "33     $2,4952% below avg price\n",
      "34                       $4,200\n",
      "35                       $3,200\n",
      "36                       $2,700\n",
      "37                       $2,950\n",
      "38                       $2,800\n",
      "39                       $2,650\n",
      "40                       $2,600\n",
      "41                       $2,900\n",
      "Name: Monthly, dtype: object\n"
     ]
    },
    {
     "data": {
      "text/html": [
       "<div>\n",
       "<style scoped>\n",
       "    .dataframe tbody tr th:only-of-type {\n",
       "        vertical-align: middle;\n",
       "    }\n",
       "\n",
       "    .dataframe tbody tr th {\n",
       "        vertical-align: top;\n",
       "    }\n",
       "\n",
       "    .dataframe thead th {\n",
       "        text-align: right;\n",
       "    }\n",
       "</style>\n",
       "<table border=\"1\" class=\"dataframe\">\n",
       "  <thead>\n",
       "    <tr style=\"text-align: right;\">\n",
       "      <th></th>\n",
       "      <th>Monthly</th>\n",
       "      <th>Number of baths</th>\n",
       "    </tr>\n",
       "  </thead>\n",
       "  <tbody>\n",
       "    <tr>\n",
       "      <th>0</th>\n",
       "      <td>3875</td>\n",
       "      <td>1 Bed • 1 Bath</td>\n",
       "    </tr>\n",
       "    <tr>\n",
       "      <th>1</th>\n",
       "      <td>2450</td>\n",
       "      <td>1 Bed • 1 Bath</td>\n",
       "    </tr>\n",
       "    <tr>\n",
       "      <th>2</th>\n",
       "      <td>3450</td>\n",
       "      <td>1 Bed • 1 Bath</td>\n",
       "    </tr>\n",
       "    <tr>\n",
       "      <th>3</th>\n",
       "      <td>2600</td>\n",
       "      <td>1 Bed • 1 Bath</td>\n",
       "    </tr>\n",
       "    <tr>\n",
       "      <th>4</th>\n",
       "      <td>2300</td>\n",
       "      <td>1 Bed • 1 Bath</td>\n",
       "    </tr>\n",
       "    <tr>\n",
       "      <th>5</th>\n",
       "      <td>2375</td>\n",
       "      <td>1 Bed • 1 Bath</td>\n",
       "    </tr>\n",
       "    <tr>\n",
       "      <th>6</th>\n",
       "      <td>2680</td>\n",
       "      <td>1 Bed • 1 Bath</td>\n",
       "    </tr>\n",
       "    <tr>\n",
       "      <th>7</th>\n",
       "      <td>2400</td>\n",
       "      <td>1 Bed • 1 Bath</td>\n",
       "    </tr>\n",
       "    <tr>\n",
       "      <th>8</th>\n",
       "      <td>2200</td>\n",
       "      <td>1 Bed • 1 - 2 Baths</td>\n",
       "    </tr>\n",
       "    <tr>\n",
       "      <th>9</th>\n",
       "      <td>2750</td>\n",
       "      <td>1 Bed • 1 Bath</td>\n",
       "    </tr>\n",
       "    <tr>\n",
       "      <th>10</th>\n",
       "      <td>2614</td>\n",
       "      <td>1 Bed • 1 Bath</td>\n",
       "    </tr>\n",
       "    <tr>\n",
       "      <th>11</th>\n",
       "      <td>3000</td>\n",
       "      <td>1 Bed • 1 Bath</td>\n",
       "    </tr>\n",
       "    <tr>\n",
       "      <th>12</th>\n",
       "      <td>2629</td>\n",
       "      <td>1 Bed • 1 Bath</td>\n",
       "    </tr>\n",
       "    <tr>\n",
       "      <th>13</th>\n",
       "      <td>3700</td>\n",
       "      <td>1 Bed • 1 Bath</td>\n",
       "    </tr>\n",
       "    <tr>\n",
       "      <th>14</th>\n",
       "      <td>2706</td>\n",
       "      <td>1 Bed • 1 Bath</td>\n",
       "    </tr>\n",
       "    <tr>\n",
       "      <th>15</th>\n",
       "      <td>2743</td>\n",
       "      <td>1 Bed • 1 Bath</td>\n",
       "    </tr>\n",
       "    <tr>\n",
       "      <th>16</th>\n",
       "      <td>3000</td>\n",
       "      <td>1 Bed • 1 Bath</td>\n",
       "    </tr>\n",
       "    <tr>\n",
       "      <th>17</th>\n",
       "      <td>2695</td>\n",
       "      <td>1 Bed • 1 Bath</td>\n",
       "    </tr>\n",
       "    <tr>\n",
       "      <th>18</th>\n",
       "      <td>2532</td>\n",
       "      <td>1 Bed • 1 Bath</td>\n",
       "    </tr>\n",
       "    <tr>\n",
       "      <th>19</th>\n",
       "      <td>1775</td>\n",
       "      <td>1 Bed • 1 Bath</td>\n",
       "    </tr>\n",
       "    <tr>\n",
       "      <th>20</th>\n",
       "      <td>1900</td>\n",
       "      <td>1 Bed • 1 Bath</td>\n",
       "    </tr>\n",
       "    <tr>\n",
       "      <th>21</th>\n",
       "      <td>2355</td>\n",
       "      <td>1 Bed • 1 Bath</td>\n",
       "    </tr>\n",
       "    <tr>\n",
       "      <th>22</th>\n",
       "      <td>2750</td>\n",
       "      <td>1 Bed • 1 Bath</td>\n",
       "    </tr>\n",
       "    <tr>\n",
       "      <th>23</th>\n",
       "      <td>2825</td>\n",
       "      <td>1 Bed • 1 Bath</td>\n",
       "    </tr>\n",
       "    <tr>\n",
       "      <th>24</th>\n",
       "      <td>2600</td>\n",
       "      <td>1 Bed • 1 Bath</td>\n",
       "    </tr>\n",
       "    <tr>\n",
       "      <th>25</th>\n",
       "      <td>2200</td>\n",
       "      <td>1 Bed • 1 Bath</td>\n",
       "    </tr>\n",
       "    <tr>\n",
       "      <th>26</th>\n",
       "      <td>2850</td>\n",
       "      <td>1 Bed • 1 Bath</td>\n",
       "    </tr>\n",
       "    <tr>\n",
       "      <th>27</th>\n",
       "      <td>2361</td>\n",
       "      <td>1 Bed • 1 Bath</td>\n",
       "    </tr>\n",
       "    <tr>\n",
       "      <th>28</th>\n",
       "      <td>2889</td>\n",
       "      <td>1 Bed • 1 Bath</td>\n",
       "    </tr>\n",
       "    <tr>\n",
       "      <th>29</th>\n",
       "      <td>2550</td>\n",
       "      <td>1 Bed • 1 Bath</td>\n",
       "    </tr>\n",
       "    <tr>\n",
       "      <th>30</th>\n",
       "      <td>2325</td>\n",
       "      <td>1 Bed • 1 Bath</td>\n",
       "    </tr>\n",
       "    <tr>\n",
       "      <th>31</th>\n",
       "      <td>2550</td>\n",
       "      <td>1 Bed • 1 Bath</td>\n",
       "    </tr>\n",
       "    <tr>\n",
       "      <th>32</th>\n",
       "      <td>3300</td>\n",
       "      <td>1 Bed • 1 Bath</td>\n",
       "    </tr>\n",
       "    <tr>\n",
       "      <th>33</th>\n",
       "      <td>2495</td>\n",
       "      <td>1 Bed • 1 Bath</td>\n",
       "    </tr>\n",
       "    <tr>\n",
       "      <th>34</th>\n",
       "      <td>4200</td>\n",
       "      <td>1 Bed • 1 Bath</td>\n",
       "    </tr>\n",
       "    <tr>\n",
       "      <th>35</th>\n",
       "      <td>3200</td>\n",
       "      <td>1 Bed • 1 Bath</td>\n",
       "    </tr>\n",
       "    <tr>\n",
       "      <th>36</th>\n",
       "      <td>2700</td>\n",
       "      <td>1 Bed • 1 Bath</td>\n",
       "    </tr>\n",
       "    <tr>\n",
       "      <th>37</th>\n",
       "      <td>2950</td>\n",
       "      <td>1 Bed • 1 Bath</td>\n",
       "    </tr>\n",
       "    <tr>\n",
       "      <th>38</th>\n",
       "      <td>2800</td>\n",
       "      <td>1 Bed • 1 Bath</td>\n",
       "    </tr>\n",
       "    <tr>\n",
       "      <th>39</th>\n",
       "      <td>2650</td>\n",
       "      <td>1 Bed • 1 Bath</td>\n",
       "    </tr>\n",
       "    <tr>\n",
       "      <th>40</th>\n",
       "      <td>2600</td>\n",
       "      <td>1 Bed • 1 Bath</td>\n",
       "    </tr>\n",
       "    <tr>\n",
       "      <th>41</th>\n",
       "      <td>2900</td>\n",
       "      <td>1 Bed • 1 Bath</td>\n",
       "    </tr>\n",
       "  </tbody>\n",
       "</table>\n",
       "</div>"
      ],
      "text/plain": [
       "    Monthly      Number of baths\n",
       "0      3875       1 Bed • 1 Bath\n",
       "1      2450       1 Bed • 1 Bath\n",
       "2      3450       1 Bed • 1 Bath\n",
       "3      2600       1 Bed • 1 Bath\n",
       "4      2300       1 Bed • 1 Bath\n",
       "5      2375       1 Bed • 1 Bath\n",
       "6      2680       1 Bed • 1 Bath\n",
       "7      2400       1 Bed • 1 Bath\n",
       "8      2200  1 Bed • 1 - 2 Baths\n",
       "9      2750       1 Bed • 1 Bath\n",
       "10     2614       1 Bed • 1 Bath\n",
       "11     3000       1 Bed • 1 Bath\n",
       "12     2629       1 Bed • 1 Bath\n",
       "13     3700       1 Bed • 1 Bath\n",
       "14     2706       1 Bed • 1 Bath\n",
       "15     2743       1 Bed • 1 Bath\n",
       "16     3000       1 Bed • 1 Bath\n",
       "17     2695       1 Bed • 1 Bath\n",
       "18     2532       1 Bed • 1 Bath\n",
       "19     1775       1 Bed • 1 Bath\n",
       "20     1900       1 Bed • 1 Bath\n",
       "21     2355       1 Bed • 1 Bath\n",
       "22     2750       1 Bed • 1 Bath\n",
       "23     2825       1 Bed • 1 Bath\n",
       "24     2600       1 Bed • 1 Bath\n",
       "25     2200       1 Bed • 1 Bath\n",
       "26     2850       1 Bed • 1 Bath\n",
       "27     2361       1 Bed • 1 Bath\n",
       "28     2889       1 Bed • 1 Bath\n",
       "29     2550       1 Bed • 1 Bath\n",
       "30     2325       1 Bed • 1 Bath\n",
       "31     2550       1 Bed • 1 Bath\n",
       "32     3300       1 Bed • 1 Bath\n",
       "33     2495       1 Bed • 1 Bath\n",
       "34     4200       1 Bed • 1 Bath\n",
       "35     3200       1 Bed • 1 Bath\n",
       "36     2700       1 Bed • 1 Bath\n",
       "37     2950       1 Bed • 1 Bath\n",
       "38     2800       1 Bed • 1 Bath\n",
       "39     2650       1 Bed • 1 Bath\n",
       "40     2600       1 Bed • 1 Bath\n",
       "41     2900       1 Bed • 1 Bath"
      ]
     },
     "execution_count": 124,
     "metadata": {},
     "output_type": "execute_result"
    }
   ],
   "source": [
    "Zumber(content2)"
   ]
  },
  {
   "cell_type": "markdown",
   "metadata": {},
   "source": [
    "## 2 Beds"
   ]
  },
  {
   "cell_type": "code",
   "execution_count": 125,
   "metadata": {},
   "outputs": [],
   "source": [
    "URL3 = \"https://www.zumper.com/apartments-for-rent/vancouver-bc/west-end/2-beds\"\n",
    "requestURL3 = requests.get(URL3)\n",
    "content3 = requestURL3.content\n"
   ]
  },
  {
   "cell_type": "code",
   "execution_count": 126,
   "metadata": {},
   "outputs": [
    {
     "name": "stdout",
     "output_type": "stream",
     "text": [
      "0                       $4,500+\n",
      "1                       $4,100+\n",
      "2                       $4,300+\n",
      "3                        $3,799\n",
      "4                       $3,500+\n",
      "5                        $3,400\n",
      "6                       $3,300+\n",
      "7                        $7,800\n",
      "8     $2,65027% below avg price\n",
      "9                        $4,900\n",
      "10                       $3,895\n",
      "11                       $4,850\n",
      "12                       $3,428\n",
      "13                       $3,050\n",
      "14                       $3,599\n",
      "15                       $3,262\n",
      "16                       $3,495\n",
      "17                       $3,450\n",
      "18                       $7,500\n",
      "19                      $3,650+\n",
      "20                         $11K\n",
      "21                       $3,900\n",
      "22    $3,25011% below avg price\n",
      "23                       $5,200\n",
      "24                       $3,980\n",
      "25    $3,15014% below avg price\n",
      "26                       $4,000\n",
      "27                       $5,800\n",
      "28                       $6,500\n",
      "29     $3,4007% below avg price\n",
      "30     $3,5004% below avg price\n",
      "31                       $3,600\n",
      "Name: Monthly, dtype: object\n"
     ]
    },
    {
     "data": {
      "text/html": [
       "<div>\n",
       "<style scoped>\n",
       "    .dataframe tbody tr th:only-of-type {\n",
       "        vertical-align: middle;\n",
       "    }\n",
       "\n",
       "    .dataframe tbody tr th {\n",
       "        vertical-align: top;\n",
       "    }\n",
       "\n",
       "    .dataframe thead th {\n",
       "        text-align: right;\n",
       "    }\n",
       "</style>\n",
       "<table border=\"1\" class=\"dataframe\">\n",
       "  <thead>\n",
       "    <tr style=\"text-align: right;\">\n",
       "      <th></th>\n",
       "      <th>Monthly</th>\n",
       "      <th>Number of baths</th>\n",
       "    </tr>\n",
       "  </thead>\n",
       "  <tbody>\n",
       "    <tr>\n",
       "      <th>0</th>\n",
       "      <td>4500.0</td>\n",
       "      <td>2 Beds • 2 Baths</td>\n",
       "    </tr>\n",
       "    <tr>\n",
       "      <th>1</th>\n",
       "      <td>4100.0</td>\n",
       "      <td>2 Beds • 1 - 2 Baths</td>\n",
       "    </tr>\n",
       "    <tr>\n",
       "      <th>2</th>\n",
       "      <td>4300.0</td>\n",
       "      <td>2 Beds • 1 - 2 Baths</td>\n",
       "    </tr>\n",
       "    <tr>\n",
       "      <th>3</th>\n",
       "      <td>3799.0</td>\n",
       "      <td>2 Beds • 1 Bath</td>\n",
       "    </tr>\n",
       "    <tr>\n",
       "      <th>4</th>\n",
       "      <td>3500.0</td>\n",
       "      <td>2 Beds • 1 - 2 Baths</td>\n",
       "    </tr>\n",
       "    <tr>\n",
       "      <th>5</th>\n",
       "      <td>3400.0</td>\n",
       "      <td>2 Beds • 1 Bath</td>\n",
       "    </tr>\n",
       "    <tr>\n",
       "      <th>6</th>\n",
       "      <td>3300.0</td>\n",
       "      <td>2 Beds • 1 - 2 Baths</td>\n",
       "    </tr>\n",
       "    <tr>\n",
       "      <th>7</th>\n",
       "      <td>7800.0</td>\n",
       "      <td>2 Beds • 2 Baths</td>\n",
       "    </tr>\n",
       "    <tr>\n",
       "      <th>8</th>\n",
       "      <td>2650.0</td>\n",
       "      <td>2 Beds • 1 Bath</td>\n",
       "    </tr>\n",
       "    <tr>\n",
       "      <th>9</th>\n",
       "      <td>4900.0</td>\n",
       "      <td>2 Beds • 2 Baths</td>\n",
       "    </tr>\n",
       "    <tr>\n",
       "      <th>10</th>\n",
       "      <td>3895.0</td>\n",
       "      <td>2 Beds • 2 Baths</td>\n",
       "    </tr>\n",
       "    <tr>\n",
       "      <th>11</th>\n",
       "      <td>4850.0</td>\n",
       "      <td>2 Beds • 2 Baths</td>\n",
       "    </tr>\n",
       "    <tr>\n",
       "      <th>12</th>\n",
       "      <td>3428.0</td>\n",
       "      <td>2 Beds • 1 Bath</td>\n",
       "    </tr>\n",
       "    <tr>\n",
       "      <th>13</th>\n",
       "      <td>3050.0</td>\n",
       "      <td>2 Beds • 1 Bath</td>\n",
       "    </tr>\n",
       "    <tr>\n",
       "      <th>14</th>\n",
       "      <td>3599.0</td>\n",
       "      <td>2 Beds • 1 Bath</td>\n",
       "    </tr>\n",
       "    <tr>\n",
       "      <th>15</th>\n",
       "      <td>3262.0</td>\n",
       "      <td>2 Beds • 1 Bath</td>\n",
       "    </tr>\n",
       "    <tr>\n",
       "      <th>16</th>\n",
       "      <td>3495.0</td>\n",
       "      <td>2 Beds • 1 Bath</td>\n",
       "    </tr>\n",
       "    <tr>\n",
       "      <th>17</th>\n",
       "      <td>3450.0</td>\n",
       "      <td>2 Beds • 2 Baths</td>\n",
       "    </tr>\n",
       "    <tr>\n",
       "      <th>18</th>\n",
       "      <td>7500.0</td>\n",
       "      <td>2 Beds • 2 Baths</td>\n",
       "    </tr>\n",
       "    <tr>\n",
       "      <th>19</th>\n",
       "      <td>3650.0</td>\n",
       "      <td>2 Beds • 1 Bath</td>\n",
       "    </tr>\n",
       "    <tr>\n",
       "      <th>20</th>\n",
       "      <td>11000.0</td>\n",
       "      <td>2 Beds • 3 Baths</td>\n",
       "    </tr>\n",
       "    <tr>\n",
       "      <th>21</th>\n",
       "      <td>3900.0</td>\n",
       "      <td>2 Beds • 2 Baths</td>\n",
       "    </tr>\n",
       "    <tr>\n",
       "      <th>22</th>\n",
       "      <td>3250.0</td>\n",
       "      <td>2 Beds • 2 Baths</td>\n",
       "    </tr>\n",
       "    <tr>\n",
       "      <th>23</th>\n",
       "      <td>5200.0</td>\n",
       "      <td>2 Beds • 2 Baths</td>\n",
       "    </tr>\n",
       "    <tr>\n",
       "      <th>24</th>\n",
       "      <td>3980.0</td>\n",
       "      <td>2 Beds • 2 Baths</td>\n",
       "    </tr>\n",
       "    <tr>\n",
       "      <th>25</th>\n",
       "      <td>3150.0</td>\n",
       "      <td>2 Beds • 1 Bath</td>\n",
       "    </tr>\n",
       "    <tr>\n",
       "      <th>26</th>\n",
       "      <td>4000.0</td>\n",
       "      <td>2 Beds • 2 Baths</td>\n",
       "    </tr>\n",
       "    <tr>\n",
       "      <th>27</th>\n",
       "      <td>5800.0</td>\n",
       "      <td>2 Beds • 2 Baths</td>\n",
       "    </tr>\n",
       "    <tr>\n",
       "      <th>28</th>\n",
       "      <td>6500.0</td>\n",
       "      <td>2 Beds • 2 Baths</td>\n",
       "    </tr>\n",
       "    <tr>\n",
       "      <th>29</th>\n",
       "      <td>3400.0</td>\n",
       "      <td>2 Beds • 1 Bath</td>\n",
       "    </tr>\n",
       "    <tr>\n",
       "      <th>30</th>\n",
       "      <td>3500.0</td>\n",
       "      <td>2 Beds • 1 Bath</td>\n",
       "    </tr>\n",
       "    <tr>\n",
       "      <th>31</th>\n",
       "      <td>3600.0</td>\n",
       "      <td>2 Beds • 1 Bath</td>\n",
       "    </tr>\n",
       "  </tbody>\n",
       "</table>\n",
       "</div>"
      ],
      "text/plain": [
       "    Monthly       Number of baths\n",
       "0    4500.0      2 Beds • 2 Baths\n",
       "1    4100.0  2 Beds • 1 - 2 Baths\n",
       "2    4300.0  2 Beds • 1 - 2 Baths\n",
       "3    3799.0       2 Beds • 1 Bath\n",
       "4    3500.0  2 Beds • 1 - 2 Baths\n",
       "5    3400.0       2 Beds • 1 Bath\n",
       "6    3300.0  2 Beds • 1 - 2 Baths\n",
       "7    7800.0      2 Beds • 2 Baths\n",
       "8    2650.0       2 Beds • 1 Bath\n",
       "9    4900.0      2 Beds • 2 Baths\n",
       "10   3895.0      2 Beds • 2 Baths\n",
       "11   4850.0      2 Beds • 2 Baths\n",
       "12   3428.0       2 Beds • 1 Bath\n",
       "13   3050.0       2 Beds • 1 Bath\n",
       "14   3599.0       2 Beds • 1 Bath\n",
       "15   3262.0       2 Beds • 1 Bath\n",
       "16   3495.0       2 Beds • 1 Bath\n",
       "17   3450.0      2 Beds • 2 Baths\n",
       "18   7500.0      2 Beds • 2 Baths\n",
       "19   3650.0       2 Beds • 1 Bath\n",
       "20  11000.0      2 Beds • 3 Baths\n",
       "21   3900.0      2 Beds • 2 Baths\n",
       "22   3250.0      2 Beds • 2 Baths\n",
       "23   5200.0      2 Beds • 2 Baths\n",
       "24   3980.0      2 Beds • 2 Baths\n",
       "25   3150.0       2 Beds • 1 Bath\n",
       "26   4000.0      2 Beds • 2 Baths\n",
       "27   5800.0      2 Beds • 2 Baths\n",
       "28   6500.0      2 Beds • 2 Baths\n",
       "29   3400.0       2 Beds • 1 Bath\n",
       "30   3500.0       2 Beds • 1 Bath\n",
       "31   3600.0       2 Beds • 1 Bath"
      ]
     },
     "execution_count": 126,
     "metadata": {},
     "output_type": "execute_result"
    }
   ],
   "source": [
    "Zumber(content3)"
   ]
  },
  {
   "cell_type": "markdown",
   "metadata": {},
   "source": [
    "### 3 beds"
   ]
  },
  {
   "cell_type": "code",
   "execution_count": null,
   "metadata": {},
   "outputs": [],
   "source": [
    "URL4 = \"https://www.zumper.com/apartments-for-rent/vancouver-bc/west-end/3-beds\"\n",
    "requestURL4 = requests.get(URL4)\n",
    "content4 = requestURL4.content\n"
   ]
  },
  {
   "cell_type": "code",
   "execution_count": null,
   "metadata": {},
   "outputs": [],
   "source": [
    "Zumber(content4)"
   ]
  },
  {
   "cell_type": "markdown",
   "metadata": {},
   "source": [
    "## Kijiji"
   ]
  },
  {
   "cell_type": "code",
   "execution_count": null,
   "metadata": {},
   "outputs": [],
   "source": [
    "def kijiji(content): \n",
    "    soup = BeautifulSoup(content, \"lxml\")\n",
    "    realEstate = soup.findAll(\"div\", class_=\"container-results large-images\")[1]\n",
    "    realEstate2 = [x.find('div', class_=\"info\") for x in realEstate.findAll(\"div\", attrs={\"data-listing-id\":True})]\n",
    "\n",
    "    realEstateLinks = [x.find('div', class_=[\"title\"]) for x in realEstate2]\n",
    "    realEstateLinks1 = [x.find('a', attrs={\"href\":True}) for x in realEstate2]\n",
    "    realEstateLinks = [\"https://www.kijiji.ca\"+ x['href'] for x in realEstateLinks1]\n",
    "\n",
    "    dfKijiji = pd.DataFrame(columns=['Monthly', 'Number of baths'])\n",
    "\n",
    "    for i in range(len(realEstateLinks)):\n",
    "        requestsIterate = requests.get(realEstateLinks[i])\n",
    "        soup3 = BeautifulSoup(requestsIterate.text, \"html.parser\")\n",
    "\n",
    "\n",
    "        for x in soup3.find_all('div', class_=['realEstateTitle-1440881021']):\n",
    "            monthlyNum = x.find('span')['content']\n",
    "            bathroomNum = x.findAll('span', class_=\"noLabelValue-3861810455\")[-1].text\n",
    "\n",
    "            dfKijiji = dfKijiji.append({'Monthly': monthlyNum, 'Number of baths': bathroomNum}, ignore_index=True)\n",
    "    return dfKijiji\n",
    "    \n",
    "\n"
   ]
  },
  {
   "cell_type": "markdown",
   "metadata": {},
   "source": [
    "### Studios"
   ]
  },
  {
   "cell_type": "code",
   "execution_count": null,
   "metadata": {},
   "outputs": [],
   "source": [
    "URL2 = \"https://www.kijiji.ca/b-apartments-condos/vancouver-downtown-west-end/bachelor+studio/c37l1700292a27949001\"\n",
    "requestURL2 = requests.get(URL2)\n",
    "content2 = requestURL2.content"
   ]
  },
  {
   "cell_type": "code",
   "execution_count": null,
   "metadata": {},
   "outputs": [],
   "source": [
    "kijiji(content2)"
   ]
  },
  {
   "cell_type": "markdown",
   "metadata": {},
   "source": [
    "### 1 bedroom"
   ]
  },
  {
   "cell_type": "code",
   "execution_count": null,
   "metadata": {},
   "outputs": [],
   "source": [
    "URL2 = \"https://www.kijiji.ca/b-apartments-condos/vancouver-downtown-west-end/1+bedroom/c37l1700292a27949001\"\n",
    "requestURL2 = requests.get(URL2)\n",
    "contentOneBedRoom = requestURL2.content"
   ]
  },
  {
   "cell_type": "code",
   "execution_count": null,
   "metadata": {},
   "outputs": [],
   "source": [
    "kijiji(contentOneBedRoom)"
   ]
  },
  {
   "cell_type": "markdown",
   "metadata": {},
   "source": [
    "### 2 bed"
   ]
  },
  {
   "cell_type": "code",
   "execution_count": null,
   "metadata": {},
   "outputs": [],
   "source": [
    "URL2 = \"https://www.kijiji.ca/b-apartments-condos/vancouver-downtown-west-end/2+bedrooms-apartment/c37l1700292a27949001a29276001\"\n",
    "requestURL2 = requests.get(URL2)\n",
    "contentTwoBedRoom = requestURL2.content"
   ]
  },
  {
   "cell_type": "code",
   "execution_count": null,
   "metadata": {},
   "outputs": [],
   "source": [
    "kijiji(contentTwoBedRoom)"
   ]
  },
  {
   "cell_type": "markdown",
   "metadata": {},
   "source": [
    "### 3 bed"
   ]
  },
  {
   "cell_type": "code",
   "execution_count": null,
   "metadata": {},
   "outputs": [],
   "source": [
    "URL2 = \"https://www.kijiji.ca/b-apartments-condos/vancouver-downtown-west-end/3+bedroom/c37l1700292a27949001\"\n",
    "requestURL2 = requests.get(URL2)\n",
    "contentThreeBedRoom = requestURL2.content"
   ]
  },
  {
   "cell_type": "code",
   "execution_count": null,
   "metadata": {},
   "outputs": [],
   "source": [
    "kijiji(contentThreeBedRoom)"
   ]
  },
  {
   "cell_type": "markdown",
   "metadata": {},
   "source": [
    "## Pad Mapper"
   ]
  },
  {
   "cell_type": "code",
   "execution_count": null,
   "metadata": {},
   "outputs": [],
   "source": [
    "def padMapper(content): \n",
    "    soupPad = BeautifulSoup(content, \"html.parser\").find('body')\n",
    "\n",
    "    realEstate = soupPad.findAll(\"div\", class_=\"ListItemMobile_text__3KFu_\")\n",
    "    realEstate2 = [x.text.strip() for x in realEstate]\n",
    "    return realEstate2"
   ]
  },
  {
   "cell_type": "markdown",
   "metadata": {},
   "source": [
    "### Studio "
   ]
  },
  {
   "cell_type": "code",
   "execution_count": null,
   "metadata": {},
   "outputs": [],
   "source": [
    "URL3 = \"https://www.padmapper.com/apartments/vancouver-bc/west-end/studios\"\n",
    "requestURL3 = requests.get(URL3)\n",
    "content3 = requestURL3.content"
   ]
  },
  {
   "cell_type": "code",
   "execution_count": null,
   "metadata": {},
   "outputs": [],
   "source": [
    "padMapper(content3)"
   ]
  },
  {
   "cell_type": "markdown",
   "metadata": {},
   "source": [
    "### 1 bathrooms"
   ]
  },
  {
   "cell_type": "code",
   "execution_count": null,
   "metadata": {},
   "outputs": [],
   "source": [
    "URL4 = \"https://www.padmapper.com/apartments/vancouver-bc/west-end/1-beds\"\n",
    "requestURL4 = requests.get(URL4)\n",
    "content4 = requestURL4.content\n",
    "\n",
    "padMapper(content4)"
   ]
  },
  {
   "cell_type": "markdown",
   "metadata": {},
   "source": [
    "### 2 bathrooms"
   ]
  },
  {
   "cell_type": "code",
   "execution_count": null,
   "metadata": {},
   "outputs": [],
   "source": [
    "URL4 = \"https://www.padmapper.com/apartments/vancouver-bc/west-end/2-beds\"\n",
    "requestURL4 = requests.get(URL4)\n",
    "content4 = requestURL4.content\n",
    "\n",
    "padMapper(content4)"
   ]
  },
  {
   "cell_type": "code",
   "execution_count": null,
   "metadata": {},
   "outputs": [],
   "source": [
    "URL4 = \"https://www.padmapper.com/apartments/vancouver-bc/west-end/3-beds\"\n",
    "requestURL4 = requests.get(URL4)\n",
    "content4 = requestURL4.content\n",
    "\n",
    "padMapper(content4)"
   ]
  },
  {
   "cell_type": "markdown",
   "metadata": {},
   "source": [
    "## Rent cafe"
   ]
  },
  {
   "cell_type": "code",
   "execution_count": null,
   "metadata": {},
   "outputs": [],
   "source": [
    "def rentCafe(content): \n",
    "    soupCafe = BeautifulSoup(content)\n",
    "    realEstate = soupCafe.findAll(\"li\", class_=\"data-rent\")\n",
    "    realEstate2 = [x.text.strip() for x in realEstate]\n",
    "    return realEstate2\n",
    "    "
   ]
  },
  {
   "cell_type": "code",
   "execution_count": null,
   "metadata": {},
   "outputs": [],
   "source": [
    "URLCafe1 = \"https://www.rentcafe.com/studio-apartments-for-rent/ca/bc/vancouver/west-end-vancouver/\"\n",
    "requestURLCafe1 = requests.get(URLCafe1)\n",
    "contentCafe1 = requestURLCafe1.content\n",
    "\n",
    "rentCafe(contentCafe1)"
   ]
  },
  {
   "cell_type": "code",
   "execution_count": null,
   "metadata": {},
   "outputs": [],
   "source": [
    "URLCafe1 = \"https://www.rentcafe.com/1-bedroom-apartments-for-rent/ca/bc/vancouver/west-end-vancouver/\"\n",
    "requestURLCafe1 = requests.get(URLCafe1)\n",
    "contentCafe1 = requestURLCafe1.content\n",
    "\n",
    "rentCafe(contentCafe1)"
   ]
  },
  {
   "cell_type": "code",
   "execution_count": null,
   "metadata": {},
   "outputs": [],
   "source": [
    "URLCafe1 = \"https://www.rentcafe.com/2-bedroom-apartments-for-rent/ca/bc/vancouver/west-end-vancouver/\"\n",
    "requestURLCafe1 = requests.get(URLCafe1)\n",
    "contentCafe1 = requestURLCafe1.content\n",
    "\n",
    "rentCafe(contentCafe1)"
   ]
  },
  {
   "cell_type": "code",
   "execution_count": null,
   "metadata": {},
   "outputs": [],
   "source": [
    "URLCafe1 = \"https://www.rentcafe.com/3-bedroom-apartments-for-rent/ca/bc/vancouver/west-end-vancouver/\"\n",
    "requestURLCafe1 = requests.get(URLCafe1)\n",
    "contentCafe1 = requestURLCafe1.content\n",
    "\n",
    "rentCafe(contentCafe1)"
   ]
  }
 ],
 "metadata": {
  "kernelspec": {
   "display_name": "Python 3.10.0 64-bit ('jobby': venv)",
   "language": "python",
   "name": "python3"
  },
  "language_info": {
   "codemirror_mode": {
    "name": "ipython",
    "version": 3
   },
   "file_extension": ".py",
   "mimetype": "text/x-python",
   "name": "python",
   "nbconvert_exporter": "python",
   "pygments_lexer": "ipython3",
   "version": "3.10.0"
  },
  "orig_nbformat": 4,
  "vscode": {
   "interpreter": {
    "hash": "48d350f5f181397a19360741f9002fc700ff8626a9f57dcf745937f45eb19683"
   }
  }
 },
 "nbformat": 4,
 "nbformat_minor": 2
}
