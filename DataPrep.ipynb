{
 "cells": [
  {
   "cell_type": "code",
   "execution_count": 1,
   "metadata": {},
   "outputs": [],
   "source": [
    "import pandas as pd \n",
    "import requests\n",
    "from bs4 import BeautifulSoup\n",
    "import re"
   ]
  },
  {
   "cell_type": "markdown",
   "metadata": {},
   "source": [
    "# Getting real estate listings\n"
   ]
  },
  {
   "cell_type": "markdown",
   "metadata": {},
   "source": [
    "## Zumber"
   ]
  },
  {
   "cell_type": "code",
   "execution_count": 2,
   "metadata": {},
   "outputs": [],
   "source": [
    "def Zumber(content): \n",
    "    soup = BeautifulSoup(content, \"html.parser\")\n",
    "    PostalCode =  [x.text.replace(',', '').strip() for x in soup.find_all(\"span\", class_=\"css-wmtwp4\")]\n",
    "    rent = [x.text for x in soup.find_all(\"div\", class_=\"css-uzc059\")]\n",
    "    bed_bath = [x.text for x in soup.find_all(\"div\", class_=\"css-1iq6kk8\")]\n",
    "    dateListed = [x.text for x in soup.find_all('div', 'css-174pdh3')]\n",
    "    bed,bath = [x.split('•')[0] for x in bed_bath],  [x.split('•')[1] for x in bed_bath]\n",
    "\n",
    "\n",
    "    dict = {'DateListed': dateListed, 'PostalCode':PostalCode,'Monthly': rent,  'Number of beds': bed, 'Number of baths': bath}\n",
    "    df= pd.DataFrame(dict)\n",
    "    df.loc[df['Monthly'].astype(str).str.contains('%'), 'Monthly'] = df['Monthly'].astype(str).str[:6]\n",
    "    \n",
    "    df['Monthly'] = df['Monthly'].apply(lambda x:x.replace('$','').replace(',','').replace(\"+\",'').strip())\n",
    "    df['Monthly']= df['Monthly'].replace({'K':'*1e3'}, regex=True).map(pd.eval)\n",
    "    return df"
   ]
  },
  {
   "cell_type": "markdown",
   "metadata": {},
   "source": [
    "### Studios"
   ]
  },
  {
   "cell_type": "code",
   "execution_count": 3,
   "metadata": {},
   "outputs": [],
   "source": [
    "URL = \"https://www.zumper.com/apartments-for-rent/vancouver-bc/west-end/studios\"\n",
    "requestURL = requests.get(URL)\n",
    "content = requestURL.content"
   ]
  },
  {
   "cell_type": "code",
   "execution_count": 4,
   "metadata": {},
   "outputs": [],
   "source": [
    "zumber0 = Zumber(content)"
   ]
  },
  {
   "cell_type": "markdown",
   "metadata": {},
   "source": [
    "### 1 bed"
   ]
  },
  {
   "cell_type": "code",
   "execution_count": 5,
   "metadata": {},
   "outputs": [],
   "source": [
    "URL2 = \"https://www.zumper.com/apartments-for-rent/vancouver-bc/west-end/1-beds\"\n",
    "requestURL2 = requests.get(URL2)\n",
    "content2 = requestURL2.content"
   ]
  },
  {
   "cell_type": "code",
   "execution_count": 6,
   "metadata": {},
   "outputs": [],
   "source": [
    "zumber1= Zumber(content2)"
   ]
  },
  {
   "cell_type": "markdown",
   "metadata": {},
   "source": [
    "## 2 Beds"
   ]
  },
  {
   "cell_type": "code",
   "execution_count": 7,
   "metadata": {},
   "outputs": [],
   "source": [
    "URL3 = \"https://www.zumper.com/apartments-for-rent/vancouver-bc/west-end/2-beds\"\n",
    "requestURL3 = requests.get(URL3)\n",
    "content3 = requestURL3.content\n"
   ]
  },
  {
   "cell_type": "code",
   "execution_count": 8,
   "metadata": {},
   "outputs": [],
   "source": [
    "zumber2 = Zumber(content3)"
   ]
  },
  {
   "cell_type": "markdown",
   "metadata": {},
   "source": [
    "### 3 beds"
   ]
  },
  {
   "cell_type": "code",
   "execution_count": 9,
   "metadata": {},
   "outputs": [],
   "source": [
    "URL4 = \"https://www.zumper.com/apartments-for-rent/vancouver-bc/west-end/3-beds\"\n",
    "requestURL4 = requests.get(URL4)\n",
    "content4 = requestURL4.content\n"
   ]
  },
  {
   "cell_type": "code",
   "execution_count": 10,
   "metadata": {},
   "outputs": [],
   "source": [
    "zumber3 = Zumber(content4)"
   ]
  },
  {
   "cell_type": "markdown",
   "metadata": {},
   "source": [
    "# Evaluation"
   ]
  },
  {
   "cell_type": "code",
   "execution_count": 11,
   "metadata": {},
   "outputs": [],
   "source": [
    "mainZumberDF = pd.concat([zumber0, zumber1, zumber2, zumber3])"
   ]
  },
  {
   "cell_type": "code",
   "execution_count": 12,
   "metadata": {},
   "outputs": [
    {
     "data": {
      "text/html": [
       "<div>\n",
       "<style scoped>\n",
       "    .dataframe tbody tr th:only-of-type {\n",
       "        vertical-align: middle;\n",
       "    }\n",
       "\n",
       "    .dataframe tbody tr th {\n",
       "        vertical-align: top;\n",
       "    }\n",
       "\n",
       "    .dataframe thead th {\n",
       "        text-align: right;\n",
       "    }\n",
       "</style>\n",
       "<table border=\"1\" class=\"dataframe\">\n",
       "  <thead>\n",
       "    <tr style=\"text-align: right;\">\n",
       "      <th></th>\n",
       "      <th>DateListed</th>\n",
       "      <th>PostalCode</th>\n",
       "      <th>Monthly</th>\n",
       "      <th>Number of beds</th>\n",
       "      <th>Number of baths</th>\n",
       "    </tr>\n",
       "  </thead>\n",
       "  <tbody>\n",
       "    <tr>\n",
       "      <th>0</th>\n",
       "      <td>1d ago</td>\n",
       "      <td>V6G 1P5</td>\n",
       "      <td>1900.0</td>\n",
       "      <td>Studio</td>\n",
       "      <td>1 Bath</td>\n",
       "    </tr>\n",
       "    <tr>\n",
       "      <th>1</th>\n",
       "      <td>10h ago</td>\n",
       "      <td>V6E 1H1</td>\n",
       "      <td>2700.0</td>\n",
       "      <td>Studio</td>\n",
       "      <td>1 Bath</td>\n",
       "    </tr>\n",
       "    <tr>\n",
       "      <th>2</th>\n",
       "      <td>1d ago</td>\n",
       "      <td>V6G 1G2</td>\n",
       "      <td>2500.0</td>\n",
       "      <td>Studio</td>\n",
       "      <td>1 Bath</td>\n",
       "    </tr>\n",
       "    <tr>\n",
       "      <th>3</th>\n",
       "      <td>1d ago</td>\n",
       "      <td>V6G 0C4</td>\n",
       "      <td>2095.0</td>\n",
       "      <td>Studio</td>\n",
       "      <td>1 Bath</td>\n",
       "    </tr>\n",
       "    <tr>\n",
       "      <th>4</th>\n",
       "      <td>1d ago</td>\n",
       "      <td>V6G 2A1</td>\n",
       "      <td>2200.0</td>\n",
       "      <td>Studio</td>\n",
       "      <td>1 Bath</td>\n",
       "    </tr>\n",
       "    <tr>\n",
       "      <th>...</th>\n",
       "      <td>...</td>\n",
       "      <td>...</td>\n",
       "      <td>...</td>\n",
       "      <td>...</td>\n",
       "      <td>...</td>\n",
       "    </tr>\n",
       "    <tr>\n",
       "      <th>19</th>\n",
       "      <td>5d+ ago</td>\n",
       "      <td>V6G 3H7</td>\n",
       "      <td>8500.0</td>\n",
       "      <td>3 Beds</td>\n",
       "      <td>2 Baths</td>\n",
       "    </tr>\n",
       "    <tr>\n",
       "      <th>20</th>\n",
       "      <td>5d+ ago</td>\n",
       "      <td>V6B 3E1</td>\n",
       "      <td>6700.0</td>\n",
       "      <td>3 Beds</td>\n",
       "      <td>3 Baths</td>\n",
       "    </tr>\n",
       "    <tr>\n",
       "      <th>21</th>\n",
       "      <td>9h ago</td>\n",
       "      <td>V6Z 1C3</td>\n",
       "      <td>8000.0</td>\n",
       "      <td>3 Beds</td>\n",
       "      <td>3 Baths</td>\n",
       "    </tr>\n",
       "    <tr>\n",
       "      <th>22</th>\n",
       "      <td>5d+ ago</td>\n",
       "      <td>V6G 3J6</td>\n",
       "      <td>5500.0</td>\n",
       "      <td>3 Beds</td>\n",
       "      <td>2 Baths</td>\n",
       "    </tr>\n",
       "    <tr>\n",
       "      <th>23</th>\n",
       "      <td>2d ago</td>\n",
       "      <td>V6Z 2Z3</td>\n",
       "      <td>4950.0</td>\n",
       "      <td>3 Beds</td>\n",
       "      <td>2 Baths</td>\n",
       "    </tr>\n",
       "  </tbody>\n",
       "</table>\n",
       "<p>115 rows × 5 columns</p>\n",
       "</div>"
      ],
      "text/plain": [
       "   DateListed PostalCode  Monthly Number of beds Number of baths\n",
       "0      1d ago    V6G 1P5   1900.0        Studio           1 Bath\n",
       "1     10h ago    V6E 1H1   2700.0        Studio           1 Bath\n",
       "2      1d ago    V6G 1G2   2500.0        Studio           1 Bath\n",
       "3      1d ago    V6G 0C4   2095.0        Studio           1 Bath\n",
       "4      1d ago    V6G 2A1   2200.0        Studio           1 Bath\n",
       "..        ...        ...      ...            ...             ...\n",
       "19    5d+ ago    V6G 3H7   8500.0        3 Beds          2 Baths\n",
       "20    5d+ ago    V6B 3E1   6700.0        3 Beds          3 Baths\n",
       "21     9h ago    V6Z 1C3   8000.0        3 Beds          3 Baths\n",
       "22    5d+ ago    V6G 3J6   5500.0        3 Beds          2 Baths\n",
       "23     2d ago    V6Z 2Z3   4950.0        3 Beds          2 Baths\n",
       "\n",
       "[115 rows x 5 columns]"
      ]
     },
     "execution_count": 12,
     "metadata": {},
     "output_type": "execute_result"
    }
   ],
   "source": [
    "mainZumberDF"
   ]
  },
  {
   "cell_type": "code",
   "execution_count": 13,
   "metadata": {},
   "outputs": [],
   "source": [
    "import seaborn as sns"
   ]
  },
  {
   "cell_type": "code",
   "execution_count": 14,
   "metadata": {},
   "outputs": [
    {
     "data": {
      "text/plain": [
       "<AxesSubplot: xlabel='Number of beds', ylabel='Monthly'>"
      ]
     },
     "execution_count": 14,
     "metadata": {},
     "output_type": "execute_result"
    },
    {
     "data": {
      "image/png": "[encoded data removed]",
      "text/plain": [
       "<Figure size 432x288 with 1 Axes>"
      ]
     },
     "metadata": {
      "needs_background": "light"
     },
     "output_type": "display_data"
    }
   ],
   "source": [
    "sns.boxplot(x='Number of beds', y='Monthly', data= mainZumberDF)"
   ]
  },
  {
   "cell_type": "markdown",
   "metadata": {},
   "source": [
    "## Kijiji"
   ]
  },
  {
   "cell_type": "code",
   "execution_count": 39,
   "metadata": {},
   "outputs": [],
   "source": [
    "def kijiji(content): \n",
    "    soup = BeautifulSoup(content, \"lxml\")\n",
    "    realEstate = soup.findAll(\"div\", class_=\"container-results large-images\")[1]\n",
    "    realEstate2 = [x.find('div', class_=\"info\") for x in realEstate.findAll(\"div\", attrs={\"data-listing-id\":True})]\n",
    "\n",
    "    realEstateLinks = [x.find('div', class_=[\"title\"]) for x in realEstate2]\n",
    "    realEstateLinks1 = [x.find('a', attrs={\"href\":True}) for x in realEstate2]\n",
    "    realEstateLinks = [\"https://www.kijiji.ca\"+ x['href'] for x in realEstateLinks1]\n",
    "\n",
    "    dfKijiji = pd.DataFrame(columns=['DateListed','Postal Code','Monthly', 'Number of beds', 'Number of baths'])\n",
    "\n",
    "    for i in range(len(realEstateLinks)):\n",
    "        requestsIterate = requests.get(realEstateLinks[i])\n",
    "        soup3 = BeautifulSoup(requestsIterate.text, \"html.parser\")\n",
    "\n",
    "\n",
    "        for x in soup3.find_all('div', class_=['realEstateTitle-1440881021']):\n",
    "            monthlyNum = x.find('span').text\n",
    "            bedAndBath = [section.text for section in x.findAll('span', class_='noLabelValue-3861810455')]\n",
    "            bedroomNum,bathroomNum = bedAndBath[1], bedAndBath[2]\n",
    "            if x.find('time') is not None: \n",
    "                DateListed = x.find('time').text\n",
    "            else:\n",
    "                DateListed = \"\"\n",
    "            if bool(re.match('V[0-9][A-Z] [0-9][A-Z][0-9]', x.find('span', class_=\"address-3617944557\").text[-7:])):\n",
    "                PostalCode = x.find('span', class_=\"address-3617944557\").text[-7:]\n",
    "            else:\n",
    "                PostalCode = \"\"\n",
    "            dfKijiji = dfKijiji.append({'DateListed':DateListed, 'Postal Code':PostalCode, 'Monthly': monthlyNum, 'Number of beds': bedroomNum,  'Number of baths': bathroomNum}, ignore_index=True)\n",
    "    \n",
    "    \n",
    "    dfKijiji = dfKijiji.replace({'Number of beds': 'Bedrooms: Bachelor/Studio', 'Number of baths': 'Bathrooms: '}, \n",
    "    {'Number of beds': 'Studio', 'Number of baths': ''}, regex=True)\n",
    "\n",
    "    dfKijiji['Number of baths'] = dfKijiji['Number of baths'] + \" baths\"\n",
    "\n",
    "    dfKijiji['Monthly'] = dfKijiji['Monthly'].apply(lambda x:x.replace('$','').replace(',','').replace(\"+\",'').strip())\n",
    "    dfKijiji['Monthly']= dfKijiji['Monthly'].replace({'K':'*1e3'}, regex=True).map(pd.eval)\n",
    "    \n",
    "    return dfKijiji\n",
    "    \n",
    "\n"
   ]
  },
  {
   "cell_type": "markdown",
   "metadata": {},
   "source": [
    "### Studios"
   ]
  },
  {
   "cell_type": "code",
   "execution_count": 16,
   "metadata": {},
   "outputs": [],
   "source": [
    "URL2 = \"https://www.kijiji.ca/b-apartments-condos/vancouver-downtown-west-end/bachelor+studio/c37l1700292a27949001\"\n",
    "requestURL2 = requests.get(URL2)\n",
    "content2 = requestURL2.content"
   ]
  },
  {
   "cell_type": "code",
   "execution_count": 56,
   "metadata": {},
   "outputs": [],
   "source": [
    "kijijiStudios = kijiji(content2)"
   ]
  },
  {
   "cell_type": "markdown",
   "metadata": {},
   "source": [
    "### 1 bedroom"
   ]
  },
  {
   "cell_type": "code",
   "execution_count": 18,
   "metadata": {},
   "outputs": [],
   "source": [
    "URL2 = \"https://www.kijiji.ca/b-apartments-condos/vancouver-downtown-west-end/1+bedroom/c37l1700292a27949001\"\n",
    "requestURL2 = requests.get(URL2)\n",
    "contentOneBedRoom = requestURL2.content"
   ]
  },
  {
   "cell_type": "code",
   "execution_count": 57,
   "metadata": {},
   "outputs": [],
   "source": [
    "kijijiOne = kijiji(contentOneBedRoom)"
   ]
  },
  {
   "cell_type": "markdown",
   "metadata": {},
   "source": [
    "### 2 bed"
   ]
  },
  {
   "cell_type": "code",
   "execution_count": 29,
   "metadata": {},
   "outputs": [],
   "source": [
    "URL2 = \"https://www.kijiji.ca/b-apartments-condos/vancouver-downtown-west-end/2+bedrooms/c37l1700292a27949001\"\n",
    "requestURL2 = requests.get(URL2)\n",
    "contentTwoBedRoom = requestURL2.content"
   ]
  },
  {
   "cell_type": "code",
   "execution_count": 58,
   "metadata": {},
   "outputs": [],
   "source": [
    "kijijiTwo = kijiji(contentTwoBedRoom)"
   ]
  },
  {
   "cell_type": "markdown",
   "metadata": {},
   "source": [
    "### 3 bed"
   ]
  },
  {
   "cell_type": "code",
   "execution_count": 122,
   "metadata": {},
   "outputs": [],
   "source": [
    "URL2 = \"https://www.kijiji.ca/b-apartments-condos/vancouver-downtown-west-end/3+bedrooms/c37l1700292a27949001\"\n",
    "requestURL2 = requests.get(URL2)\n",
    "contentThreeBedRoom = requestURL2.content"
   ]
  },
  {
   "cell_type": "code",
   "execution_count": 123,
   "metadata": {},
   "outputs": [],
   "source": [
    "kijijiThree = kijiji(contentThreeBedRoom)"
   ]
  },
  {
   "cell_type": "code",
   "execution_count": 124,
   "metadata": {},
   "outputs": [],
   "source": [
    "\n",
    "mainKijiji = pd.concat([kijijiStudios, kijijiOne, kijijiTwo, kijijiThree])"
   ]
  },
  {
   "cell_type": "code",
   "execution_count": 125,
   "metadata": {},
   "outputs": [
    {
     "data": {
      "text/plain": [
       "<AxesSubplot: xlabel='Number of beds', ylabel='Monthly'>"
      ]
     },
     "execution_count": 125,
     "metadata": {},
     "output_type": "execute_result"
    },
    {
     "data": {
      "image/png": "[encoded data removed]",
      "text/plain": [
       "<Figure size 432x288 with 1 Axes>"
      ]
     },
     "metadata": {
      "needs_background": "light"
     },
     "output_type": "display_data"
    }
   ],
   "source": [
    "sns.boxplot(x='Number of beds', y='Monthly', data= mainKijiji)"
   ]
  },
  {
   "cell_type": "markdown",
   "metadata": {},
   "source": [
    "## Pad Mapper"
   ]
  },
  {
   "cell_type": "code",
   "execution_count": 146,
   "metadata": {},
   "outputs": [],
   "source": [
    "def padMapper(content): \n",
    "    #dict = {'DateListed': dateListed, 'PostalCode':PostalCode,'Monthly': rent,  'Number of beds': bed, 'Number of baths': bath}\n",
    "    #df= pd.DataFrame(dict)\n",
    "    soupPad = BeautifulSoup(content, \"html.parser\").find('body')\n",
    "\n",
    "    rent = [x.text.strip() for x in soupPad.findAll(\"div\", class_=\"ListItemMobile_text__3KFu_\")]\n",
    "    infoBubble= soupPad.findAll('script')[1].text\n",
    "    linksInfo = [\"https://www.padmapper.com/buildings/\"+ x['href'].split(\"/\")[2] for x in soupPad.findAll(\"a\", class_='ListItemMobile_bubbleLink__fWhNX')]\n",
    "    dateListedTotal, bedTotal, bathTotal,postalCodeTotal= [], [],[], []\n",
    "    for i in range(len(linksInfo)):\n",
    "        requestsIterate = requests.get(linksInfo[i])\n",
    "        soup3 = BeautifulSoup(requestsIterate.text, \"html.parser\")\n",
    "        if soup3.find('div', class_='Floorplan_title__2BJq9') is not None: \n",
    "            bedTotal.append(soup3.find('div', class_='Floorplan_title__2BJq9').text)\n",
    "        else:\n",
    "            bedTotal.append(\"\")\n",
    "        \n",
    "        print(soup3.find(\"div\",class_='Floorplan_pFloorplanFull__SIXh2'))\n",
    "        \n",
    "        # if soup3.find('span', class_='Floorplan_specLabel__2WIE2') is not None: \n",
    "        #     bathTotal.append(soup3.find('span', class_='Floorplan_specLabel__2WIE2').text)\n",
    "        # else:\n",
    "        #     bathTotal.append(\"\")\n",
    "\n",
    "        if soup3.find(\"meta\", attrs={'name': \"place:postal_code\"}) is not None: \n",
    "            postalCodeTotal.append(soup3.find(\"meta\", attrs={'name': \"place:postal_code\"})['content'])\n",
    "        else:\n",
    "            postalCodeTotal.append(\"\")\n",
    "        dateListedTotal.append(\"-\")\n",
    "\n",
    "    dateListed,bed,bath =\"\", \"\",\"\"\n",
    "\n",
    "    dict = {'DateListed': dateListed, 'PostalCode':postalCodeTotal,'Monthly': rent,  'Number of beds': bedTotal, 'Number of baths': bathTotal}\n",
    "    df= pd.DataFrame(dict)\n",
    "\n",
    "    df['Monthly'] = df['Monthly'].apply(lambda x:x.replace('$','').replace(',','').replace(\"+\",'').strip())\n",
    "    df['Monthly']= df['Monthly'].replace({'K':'*1e3'}, regex=True).map(pd.eval)\n",
    "    return df"
   ]
  },
  {
   "cell_type": "markdown",
   "metadata": {},
   "source": [
    "### Studio "
   ]
  },
  {
   "cell_type": "code",
   "execution_count": 67,
   "metadata": {},
   "outputs": [],
   "source": [
    "URL3 = \"https://www.padmapper.com/apartments/vancouver-bc/west-end/studios\"\n",
    "requestURL3 = requests.get(URL3)\n",
    "content3 = requestURL3.content"
   ]
  },
  {
   "cell_type": "code",
   "execution_count": 147,
   "metadata": {},
   "outputs": [
    {
     "name": "stdout",
     "output_type": "stream",
     "text": [
      "<div class=\"Floorplan_pFloorplanFull__SIXh2\"><div class=\"Floorplan_floorplansContainer__o-p9u\"><div aria-expanded=\"false\" class=\"Floorplan_floorplanPanel__3QVPS\" role=\"button\" tabindex=\"0\"><div class=\"Floorplan_panelContent__1hNpz\"><div class=\"Floorplan_title__2BJq9\">Studios</div><div class=\"Floorplan_availabilityCount__1ssf1\"><span>1</span> AVAILABLE</div><div class=\"Floorplan_priceRange__1f4P7\">RENT <span>$1,900—$1,975</span></div></div><div class=\"Floorplan_panelToggleIcon__2J6w1\"><span class=\"Floorplan_viewHide__35PG3\">View</span></div></div></div><div class=\"Floorplan_floorplansContainer__o-p9u\"><div aria-expanded=\"false\" class=\"Floorplan_floorplanPanel__3QVPS\" role=\"button\" tabindex=\"0\"><div class=\"Floorplan_panelContent__1hNpz\"><div class=\"Floorplan_title__2BJq9\">1 Bedrooms</div><div class=\"Floorplan_availabilityCount__1ssf1\"><span>1</span> AVAILABLE</div><div class=\"Floorplan_priceRange__1f4P7\">RENT <span>$2,450</span></div></div><div class=\"Floorplan_panelToggleIcon__2J6w1\"><span class=\"Floorplan_viewHide__35PG3\">View</span></div></div></div></div>\n",
      "<div class=\"Floorplan_pFloorplanFull__SIXh2\"><div class=\"Floorplan_floorplansContainer__o-p9u\"><div aria-expanded=\"false\" class=\"Floorplan_floorplanPanel__3QVPS\" role=\"button\" tabindex=\"0\"><div class=\"Floorplan_panelContent__1hNpz\"><div class=\"Floorplan_title__2BJq9\">Studios</div><div class=\"Floorplan_availabilityCount__1ssf1\"><span>2</span> AVAILABLE</div><div class=\"Floorplan_priceRange__1f4P7\">RENT <span>$2,650—$2,900</span></div></div><div class=\"Floorplan_panelToggleIcon__2J6w1\"><span class=\"Floorplan_viewHide__35PG3\">View</span></div></div></div><div class=\"Floorplan_floorplansContainer__o-p9u\"><div aria-expanded=\"false\" class=\"Floorplan_floorplanPanel__3QVPS\" role=\"button\" tabindex=\"0\"><div class=\"Floorplan_panelContent__1hNpz\"><div class=\"Floorplan_title__2BJq9\">1 Bedrooms</div><div class=\"Floorplan_availabilityCount__1ssf1\"><span>2</span> AVAILABLE</div><div class=\"Floorplan_priceRange__1f4P7\">RENT <span>$2,800—$3,600</span></div></div><div class=\"Floorplan_panelToggleIcon__2J6w1\"><span class=\"Floorplan_viewHide__35PG3\">View</span></div></div></div><div class=\"Floorplan_floorplansContainer__o-p9u\"><div aria-expanded=\"false\" class=\"Floorplan_floorplanPanel__3QVPS\" role=\"button\" tabindex=\"0\"><div class=\"Floorplan_panelContent__1hNpz\"><div class=\"Floorplan_title__2BJq9\">2 Bedrooms</div><div class=\"Floorplan_availabilityCount__1ssf1\"><span>1</span> AVAILABLE</div><div class=\"Floorplan_priceRange__1f4P7\">RENT <span>$3,650—$3,900</span></div></div><div class=\"Floorplan_panelToggleIcon__2J6w1\"><span class=\"Floorplan_viewHide__35PG3\">View</span></div></div></div></div>\n",
      "<div class=\"Floorplan_pFloorplanFull__SIXh2\"><div class=\"Floorplan_floorplansContainer__o-p9u\"><div aria-expanded=\"false\" class=\"Floorplan_floorplanPanel__3QVPS\" role=\"button\" tabindex=\"0\"><div class=\"Floorplan_panelContent__1hNpz\"><div class=\"Floorplan_title__2BJq9\">Studios</div><div class=\"Floorplan_availabilityCount__1ssf1\"><span>1</span> AVAILABLE</div><div class=\"Floorplan_priceRange__1f4P7\">RENT <span>$2,200</span></div></div><div class=\"Floorplan_panelToggleIcon__2J6w1\"><span class=\"Floorplan_viewHide__35PG3\">View</span></div></div></div></div>\n",
      "<div class=\"Floorplan_pFloorplanFull__SIXh2\"><div class=\"Floorplan_floorplansContainer__o-p9u\"><div aria-expanded=\"false\" class=\"Floorplan_floorplanPanel__3QVPS\" role=\"button\" tabindex=\"0\"><div class=\"Floorplan_panelContent__1hNpz\"><div class=\"Floorplan_title__2BJq9\">Studios</div><div class=\"Floorplan_availabilityCount__1ssf1\"><span>1</span> AVAILABLE</div><div class=\"Floorplan_priceRange__1f4P7\">RENT <span>$2,369</span></div></div><div class=\"Floorplan_panelToggleIcon__2J6w1\"><span class=\"Floorplan_viewHide__35PG3\">View</span></div></div></div><div class=\"Floorplan_floorplansContainer__o-p9u\"><div aria-expanded=\"false\" class=\"Floorplan_floorplanPanel__3QVPS\" role=\"button\" tabindex=\"0\"><div class=\"Floorplan_panelContent__1hNpz\"><div class=\"Floorplan_title__2BJq9\">1 Bedrooms</div><div class=\"Floorplan_availabilityCount__1ssf1\"><span>1</span> AVAILABLE</div><div class=\"Floorplan_priceRange__1f4P7\">RENT <span>$2,600</span></div></div><div class=\"Floorplan_panelToggleIcon__2J6w1\"><span class=\"Floorplan_viewHide__35PG3\">View</span></div></div></div></div>\n",
      "<div class=\"Floorplan_pFloorplanFull__SIXh2\"><div class=\"Floorplan_floorplansContainer__o-p9u\"><div aria-expanded=\"false\" class=\"Floorplan_floorplanPanel__3QVPS\" role=\"button\" tabindex=\"0\"><div class=\"Floorplan_panelContent__1hNpz\"><div class=\"Floorplan_title__2BJq9\">Studios</div><div class=\"Floorplan_availabilityCount__1ssf1\"><span>1</span> AVAILABLE</div><div class=\"Floorplan_priceRange__1f4P7\">RENT <span>$2,495</span></div></div><div class=\"Floorplan_panelToggleIcon__2J6w1\"><span class=\"Floorplan_viewHide__35PG3\">View</span></div></div></div><div class=\"Floorplan_floorplansContainer__o-p9u\"><div aria-expanded=\"false\" class=\"Floorplan_floorplanPanel__3QVPS\" role=\"button\" tabindex=\"0\"><div class=\"Floorplan_panelContent__1hNpz\"><div class=\"Floorplan_title__2BJq9\">1 Bedrooms</div><div class=\"Floorplan_availabilityCount__1ssf1\"><span>1</span> AVAILABLE</div><div class=\"Floorplan_priceRange__1f4P7\">RENT <span>$2,850</span></div></div><div class=\"Floorplan_panelToggleIcon__2J6w1\"><span class=\"Floorplan_viewHide__35PG3\">View</span></div></div></div><div class=\"Floorplan_floorplansContainer__o-p9u\"><div aria-expanded=\"false\" class=\"Floorplan_floorplanPanel__3QVPS\" role=\"button\" tabindex=\"0\"><div class=\"Floorplan_panelContent__1hNpz\"><div class=\"Floorplan_title__2BJq9\">2 Bedrooms</div><div class=\"Floorplan_availabilityCount__1ssf1\"><span>1</span> AVAILABLE</div><div class=\"Floorplan_priceRange__1f4P7\">RENT <span>$3,895</span></div></div><div class=\"Floorplan_panelToggleIcon__2J6w1\"><span class=\"Floorplan_viewHide__35PG3\">View</span></div></div></div><div class=\"Floorplan_floorplansContainer__o-p9u\"><div aria-expanded=\"false\" class=\"Floorplan_floorplanPanel__3QVPS\" role=\"button\" tabindex=\"0\"><div class=\"Floorplan_panelContent__1hNpz\"><div class=\"Floorplan_title__2BJq9\">3 Bedrooms</div><div class=\"Floorplan_availabilityCount__1ssf1\"><span>1</span> AVAILABLE</div><div class=\"Floorplan_priceRange__1f4P7\">RENT <span>$5,195</span></div></div><div class=\"Floorplan_panelToggleIcon__2J6w1\"><span class=\"Floorplan_viewHide__35PG3\">View</span></div></div></div></div>\n",
      "<div class=\"Floorplan_pFloorplanFull__SIXh2\"><div class=\"Floorplan_floorplansContainer__o-p9u\"><div aria-expanded=\"false\" class=\"Floorplan_floorplanPanel__3QVPS\" role=\"button\" tabindex=\"0\"><div class=\"Floorplan_panelContent__1hNpz\"><div class=\"Floorplan_title__2BJq9\">Studios</div><div class=\"Floorplan_availabilityCount__1ssf1\"><span>1</span> AVAILABLE</div><div class=\"Floorplan_priceRange__1f4P7\">RENT <span>$2,500</span></div></div><div class=\"Floorplan_panelToggleIcon__2J6w1\"><span class=\"Floorplan_viewHide__35PG3\">View</span></div></div></div><div class=\"Floorplan_floorplansContainer__o-p9u\"><div aria-expanded=\"false\" class=\"Floorplan_floorplanPanel__3QVPS\" role=\"button\" tabindex=\"0\"><div class=\"Floorplan_panelContent__1hNpz\"><div class=\"Floorplan_title__2BJq9\">1 Bedrooms</div><div class=\"Floorplan_availabilityCount__1ssf1\"><span>1</span> AVAILABLE</div><div class=\"Floorplan_priceRange__1f4P7\">RENT <span>$2,375—$2,800</span></div></div><div class=\"Floorplan_panelToggleIcon__2J6w1\"><span class=\"Floorplan_viewHide__35PG3\">View</span></div></div></div><div class=\"Floorplan_floorplansContainer__o-p9u\"><div aria-expanded=\"false\" class=\"Floorplan_floorplanPanel__3QVPS\" role=\"button\" tabindex=\"0\"><div class=\"Floorplan_panelContent__1hNpz\"><div class=\"Floorplan_title__2BJq9\">2 Bedrooms</div><div class=\"Floorplan_availabilityCount__1ssf1\"><span>2</span> AVAILABLE</div><div class=\"Floorplan_priceRange__1f4P7\">RENT <span>$3,300—$3,600</span></div></div><div class=\"Floorplan_panelToggleIcon__2J6w1\"><span class=\"Floorplan_viewHide__35PG3\">View</span></div></div></div><div class=\"Floorplan_floorplansContainer__o-p9u\"><div aria-expanded=\"false\" class=\"Floorplan_floorplanPanel__3QVPS\" role=\"button\" tabindex=\"0\"><div class=\"Floorplan_panelContent__1hNpz\"><div class=\"Floorplan_title__2BJq9\">3 Bedrooms</div><div class=\"Floorplan_availabilityCount__1ssf1\"><span>1</span> AVAILABLE</div><div class=\"Floorplan_priceRange__1f4P7\">RENT <span>$4,500—$4,900</span></div></div><div class=\"Floorplan_panelToggleIcon__2J6w1\"><span class=\"Floorplan_viewHide__35PG3\">View</span></div></div></div></div>\n",
      "<div class=\"Floorplan_pFloorplanFull__SIXh2\"><div class=\"Floorplan_floorplansContainer__o-p9u\"><div aria-expanded=\"false\" class=\"Floorplan_floorplanPanel__3QVPS\" role=\"button\" tabindex=\"0\"><div class=\"Floorplan_panelContent__1hNpz\"><div class=\"Floorplan_title__2BJq9\">Studios</div><div class=\"Floorplan_availabilityCount__1ssf1\"><span>1</span> AVAILABLE</div><div class=\"Floorplan_priceRange__1f4P7\">RENT <span>$2,268</span></div></div><div class=\"Floorplan_panelToggleIcon__2J6w1\"><span class=\"Floorplan_viewHide__35PG3\">View</span></div></div></div><div class=\"Floorplan_floorplansContainer__o-p9u\"><div aria-expanded=\"false\" class=\"Floorplan_floorplanPanel__3QVPS\" role=\"button\" tabindex=\"0\"><div class=\"Floorplan_panelContent__1hNpz\"><div class=\"Floorplan_title__2BJq9\">1 Bedrooms</div><div class=\"Floorplan_availabilityCount__1ssf1\"><span>1</span> AVAILABLE</div><div class=\"Floorplan_priceRange__1f4P7\">RENT <span>$2,614</span></div></div><div class=\"Floorplan_panelToggleIcon__2J6w1\"><span class=\"Floorplan_viewHide__35PG3\">View</span></div></div></div></div>\n",
      "<div class=\"Floorplan_pFloorplanFull__SIXh2\"><div class=\"Floorplan_floorplansContainer__o-p9u\"><div aria-expanded=\"false\" class=\"Floorplan_floorplanPanel__3QVPS\" role=\"button\" tabindex=\"0\"><div class=\"Floorplan_panelContent__1hNpz\"><div class=\"Floorplan_title__2BJq9\">Studios</div><div class=\"Floorplan_availabilityCount__1ssf1\"><span>1</span> AVAILABLE</div><div class=\"Floorplan_priceRange__1f4P7\">RENT <span>$2,095</span></div></div><div class=\"Floorplan_panelToggleIcon__2J6w1\"><span class=\"Floorplan_viewHide__35PG3\">View</span></div></div></div><div class=\"Floorplan_floorplansContainer__o-p9u\"><div aria-expanded=\"false\" class=\"Floorplan_floorplanPanel__3QVPS\" role=\"button\" tabindex=\"0\"><div class=\"Floorplan_panelContent__1hNpz\"><div class=\"Floorplan_title__2BJq9\">2 Bedrooms</div><div class=\"Floorplan_availabilityCount__1ssf1\"><span>1</span> AVAILABLE</div><div class=\"Floorplan_priceRange__1f4P7\">RENT <span>$3,450</span></div></div><div class=\"Floorplan_panelToggleIcon__2J6w1\"><span class=\"Floorplan_viewHide__35PG3\">View</span></div></div></div><div class=\"Floorplan_floorplansContainer__o-p9u\"><div aria-expanded=\"false\" class=\"Floorplan_floorplanPanel__3QVPS\" role=\"button\" tabindex=\"0\"><div class=\"Floorplan_panelContent__1hNpz\"><div class=\"Floorplan_title__2BJq9\">3 Bedrooms</div><div class=\"Floorplan_availabilityCount__1ssf1\"><span>1</span> AVAILABLE</div><div class=\"Floorplan_priceRange__1f4P7\">RENT <span>$4,500</span></div></div><div class=\"Floorplan_panelToggleIcon__2J6w1\"><span class=\"Floorplan_viewHide__35PG3\">View</span></div></div></div></div>\n",
      "<div class=\"Floorplan_pFloorplanFull__SIXh2\"><div class=\"Floorplan_floorplansContainer__o-p9u\"><div aria-expanded=\"false\" class=\"Floorplan_floorplanPanel__3QVPS\" role=\"button\" tabindex=\"0\"><div class=\"Floorplan_panelContent__1hNpz\"><div class=\"Floorplan_title__2BJq9\">Studios</div><div class=\"Floorplan_availabilityCount__1ssf1\"><span>1</span> AVAILABLE</div><div class=\"Floorplan_priceRange__1f4P7\">RENT <span>$1,625</span></div></div><div class=\"Floorplan_panelToggleIcon__2J6w1\"><span class=\"Floorplan_viewHide__35PG3\">View</span></div></div></div></div>\n",
      "<div class=\"Floorplan_pFloorplanFull__SIXh2\"><div class=\"Floorplan_floorplansContainer__o-p9u\"><div aria-expanded=\"false\" class=\"Floorplan_floorplanPanel__3QVPS\" role=\"button\" tabindex=\"0\"><div class=\"Floorplan_panelContent__1hNpz\"><div class=\"Floorplan_title__2BJq9\">Studios</div><div class=\"Floorplan_availabilityCount__1ssf1\"><span>1</span> AVAILABLE</div><div class=\"Floorplan_priceRange__1f4P7\">RENT <span>$2,000</span></div></div><div class=\"Floorplan_panelToggleIcon__2J6w1\"><span class=\"Floorplan_viewHide__35PG3\">View</span></div></div></div></div>\n",
      "<div class=\"Floorplan_pFloorplanFull__SIXh2\"><div class=\"Floorplan_floorplansContainer__o-p9u\"><div aria-expanded=\"false\" class=\"Floorplan_floorplanPanel__3QVPS\" role=\"button\" tabindex=\"0\"><div class=\"Floorplan_panelContent__1hNpz\"><div class=\"Floorplan_title__2BJq9\">Studios</div><div class=\"Floorplan_availabilityCount__1ssf1\"><span>1</span> AVAILABLE</div><div class=\"Floorplan_priceRange__1f4P7\">RENT <span>$2,570</span></div></div><div class=\"Floorplan_panelToggleIcon__2J6w1\"><span class=\"Floorplan_viewHide__35PG3\">View</span></div></div></div></div>\n",
      "<div class=\"Floorplan_pFloorplanFull__SIXh2\"><div class=\"Floorplan_floorplansContainer__o-p9u\"><div aria-expanded=\"false\" class=\"Floorplan_floorplanPanel__3QVPS\" role=\"button\" tabindex=\"0\"><div class=\"Floorplan_panelContent__1hNpz\"><div class=\"Floorplan_title__2BJq9\">Studios</div><div class=\"Floorplan_availabilityCount__1ssf1\"><span>1</span> AVAILABLE</div><div class=\"Floorplan_priceRange__1f4P7\">RENT <span>$2,650</span></div></div><div class=\"Floorplan_panelToggleIcon__2J6w1\"><span class=\"Floorplan_viewHide__35PG3\">View</span></div></div></div><div class=\"Floorplan_floorplansContainer__o-p9u\"><div aria-expanded=\"false\" class=\"Floorplan_floorplanPanel__3QVPS\" role=\"button\" tabindex=\"0\"><div class=\"Floorplan_panelContent__1hNpz\"><div class=\"Floorplan_title__2BJq9\">1 Bedrooms</div><div class=\"Floorplan_availabilityCount__1ssf1\"><span>1</span> AVAILABLE</div><div class=\"Floorplan_priceRange__1f4P7\">RENT <span>$2,825</span></div></div><div class=\"Floorplan_panelToggleIcon__2J6w1\"><span class=\"Floorplan_viewHide__35PG3\">View</span></div></div></div></div>\n",
      "<div class=\"Floorplan_pFloorplanFull__SIXh2\"><div class=\"Floorplan_floorplansContainer__o-p9u\"><div aria-expanded=\"false\" class=\"Floorplan_floorplanPanel__3QVPS\" role=\"button\" tabindex=\"0\"><div class=\"Floorplan_panelContent__1hNpz\"><div class=\"Floorplan_title__2BJq9\">Studios</div><div class=\"Floorplan_availabilityCount__1ssf1\"><span>1</span> AVAILABLE</div><div class=\"Floorplan_priceRange__1f4P7\">RENT <span>$2,480</span></div></div><div class=\"Floorplan_panelToggleIcon__2J6w1\"><span class=\"Floorplan_viewHide__35PG3\">View</span></div></div></div><div class=\"Floorplan_floorplansContainer__o-p9u\"><div aria-expanded=\"false\" class=\"Floorplan_floorplanPanel__3QVPS\" role=\"button\" tabindex=\"0\"><div class=\"Floorplan_panelContent__1hNpz\"><div class=\"Floorplan_title__2BJq9\">1 Bedrooms</div><div class=\"Floorplan_availabilityCount__1ssf1\"><span>2</span> AVAILABLE</div><div class=\"Floorplan_priceRange__1f4P7\">RENT <span>$3,000</span></div></div><div class=\"Floorplan_panelToggleIcon__2J6w1\"><span class=\"Floorplan_viewHide__35PG3\">View</span></div></div></div></div>\n",
      "None\n",
      "None\n"
     ]
    },
    {
     "ename": "ValueError",
     "evalue": "All arrays must be of the same length",
     "output_type": "error",
     "traceback": [
      "\u001b[1;31m---------------------------------------------------------------------------\u001b[0m",
      "\u001b[1;31mValueError\u001b[0m                                Traceback (most recent call last)",
      "\u001b[1;32m~\\AppData\\Local\\Temp/ipykernel_39200/2562961740.py\u001b[0m in \u001b[0;36m<module>\u001b[1;34m\u001b[0m\n\u001b[1;32m----> 1\u001b[1;33m \u001b[0mpadMapper\u001b[0m\u001b[1;33m(\u001b[0m\u001b[0mcontent3\u001b[0m\u001b[1;33m)\u001b[0m\u001b[1;33m\u001b[0m\u001b[1;33m\u001b[0m\u001b[0m\n\u001b[0m",
      "\u001b[1;32m~\\AppData\\Local\\Temp/ipykernel_39200/1550530051.py\u001b[0m in \u001b[0;36mpadMapper\u001b[1;34m(content)\u001b[0m\n\u001b[0;32m     32\u001b[0m \u001b[1;33m\u001b[0m\u001b[0m\n\u001b[0;32m     33\u001b[0m     \u001b[0mdict\u001b[0m \u001b[1;33m=\u001b[0m \u001b[1;33m{\u001b[0m\u001b[1;34m'DateListed'\u001b[0m\u001b[1;33m:\u001b[0m \u001b[0mdateListed\u001b[0m\u001b[1;33m,\u001b[0m \u001b[1;34m'PostalCode'\u001b[0m\u001b[1;33m:\u001b[0m\u001b[0mpostalCodeTotal\u001b[0m\u001b[1;33m,\u001b[0m\u001b[1;34m'Monthly'\u001b[0m\u001b[1;33m:\u001b[0m \u001b[0mrent\u001b[0m\u001b[1;33m,\u001b[0m  \u001b[1;34m'Number of beds'\u001b[0m\u001b[1;33m:\u001b[0m \u001b[0mbedTotal\u001b[0m\u001b[1;33m,\u001b[0m \u001b[1;34m'Number of baths'\u001b[0m\u001b[1;33m:\u001b[0m \u001b[0mbathTotal\u001b[0m\u001b[1;33m}\u001b[0m\u001b[1;33m\u001b[0m\u001b[1;33m\u001b[0m\u001b[0m\n\u001b[1;32m---> 34\u001b[1;33m     \u001b[0mdf\u001b[0m\u001b[1;33m=\u001b[0m \u001b[0mpd\u001b[0m\u001b[1;33m.\u001b[0m\u001b[0mDataFrame\u001b[0m\u001b[1;33m(\u001b[0m\u001b[0mdict\u001b[0m\u001b[1;33m)\u001b[0m\u001b[1;33m\u001b[0m\u001b[1;33m\u001b[0m\u001b[0m\n\u001b[0m\u001b[0;32m     35\u001b[0m \u001b[1;33m\u001b[0m\u001b[0m\n\u001b[0;32m     36\u001b[0m     \u001b[0mdf\u001b[0m\u001b[1;33m[\u001b[0m\u001b[1;34m'Monthly'\u001b[0m\u001b[1;33m]\u001b[0m \u001b[1;33m=\u001b[0m \u001b[0mdf\u001b[0m\u001b[1;33m[\u001b[0m\u001b[1;34m'Monthly'\u001b[0m\u001b[1;33m]\u001b[0m\u001b[1;33m.\u001b[0m\u001b[0mapply\u001b[0m\u001b[1;33m(\u001b[0m\u001b[1;32mlambda\u001b[0m \u001b[0mx\u001b[0m\u001b[1;33m:\u001b[0m\u001b[0mx\u001b[0m\u001b[1;33m.\u001b[0m\u001b[0mreplace\u001b[0m\u001b[1;33m(\u001b[0m\u001b[1;34m'$'\u001b[0m\u001b[1;33m,\u001b[0m\u001b[1;34m''\u001b[0m\u001b[1;33m)\u001b[0m\u001b[1;33m.\u001b[0m\u001b[0mreplace\u001b[0m\u001b[1;33m(\u001b[0m\u001b[1;34m','\u001b[0m\u001b[1;33m,\u001b[0m\u001b[1;34m''\u001b[0m\u001b[1;33m)\u001b[0m\u001b[1;33m.\u001b[0m\u001b[0mreplace\u001b[0m\u001b[1;33m(\u001b[0m\u001b[1;34m\"+\"\u001b[0m\u001b[1;33m,\u001b[0m\u001b[1;34m''\u001b[0m\u001b[1;33m)\u001b[0m\u001b[1;33m.\u001b[0m\u001b[0mstrip\u001b[0m\u001b[1;33m(\u001b[0m\u001b[1;33m)\u001b[0m\u001b[1;33m)\u001b[0m\u001b[1;33m\u001b[0m\u001b[1;33m\u001b[0m\u001b[0m\n",
      "\u001b[1;32mc:\\Users\\Jimmy\\jobby\\lib\\site-packages\\pandas\\core\\frame.py\u001b[0m in \u001b[0;36m__init__\u001b[1;34m(self, data, index, columns, dtype, copy)\u001b[0m\n\u001b[0;32m    612\u001b[0m         \u001b[1;32melif\u001b[0m \u001b[0misinstance\u001b[0m\u001b[1;33m(\u001b[0m\u001b[0mdata\u001b[0m\u001b[1;33m,\u001b[0m \u001b[0mdict\u001b[0m\u001b[1;33m)\u001b[0m\u001b[1;33m:\u001b[0m\u001b[1;33m\u001b[0m\u001b[1;33m\u001b[0m\u001b[0m\n\u001b[0;32m    613\u001b[0m             \u001b[1;31m# GH#38939 de facto copy defaults to False only in non-dict cases\u001b[0m\u001b[1;33m\u001b[0m\u001b[1;33m\u001b[0m\u001b[0m\n\u001b[1;32m--> 614\u001b[1;33m             \u001b[0mmgr\u001b[0m \u001b[1;33m=\u001b[0m \u001b[0mdict_to_mgr\u001b[0m\u001b[1;33m(\u001b[0m\u001b[0mdata\u001b[0m\u001b[1;33m,\u001b[0m \u001b[0mindex\u001b[0m\u001b[1;33m,\u001b[0m \u001b[0mcolumns\u001b[0m\u001b[1;33m,\u001b[0m \u001b[0mdtype\u001b[0m\u001b[1;33m=\u001b[0m\u001b[0mdtype\u001b[0m\u001b[1;33m,\u001b[0m \u001b[0mcopy\u001b[0m\u001b[1;33m=\u001b[0m\u001b[0mcopy\u001b[0m\u001b[1;33m,\u001b[0m \u001b[0mtyp\u001b[0m\u001b[1;33m=\u001b[0m\u001b[0mmanager\u001b[0m\u001b[1;33m)\u001b[0m\u001b[1;33m\u001b[0m\u001b[1;33m\u001b[0m\u001b[0m\n\u001b[0m\u001b[0;32m    615\u001b[0m         \u001b[1;32melif\u001b[0m \u001b[0misinstance\u001b[0m\u001b[1;33m(\u001b[0m\u001b[0mdata\u001b[0m\u001b[1;33m,\u001b[0m \u001b[0mma\u001b[0m\u001b[1;33m.\u001b[0m\u001b[0mMaskedArray\u001b[0m\u001b[1;33m)\u001b[0m\u001b[1;33m:\u001b[0m\u001b[1;33m\u001b[0m\u001b[1;33m\u001b[0m\u001b[0m\n\u001b[0;32m    616\u001b[0m             \u001b[1;32mimport\u001b[0m \u001b[0mnumpy\u001b[0m\u001b[1;33m.\u001b[0m\u001b[0mma\u001b[0m\u001b[1;33m.\u001b[0m\u001b[0mmrecords\u001b[0m \u001b[1;32mas\u001b[0m \u001b[0mmrecords\u001b[0m\u001b[1;33m\u001b[0m\u001b[1;33m\u001b[0m\u001b[0m\n",
      "\u001b[1;32mc:\\Users\\Jimmy\\jobby\\lib\\site-packages\\pandas\\core\\internals\\construction.py\u001b[0m in \u001b[0;36mdict_to_mgr\u001b[1;34m(data, index, columns, dtype, typ, copy)\u001b[0m\n\u001b[0;32m    462\u001b[0m         \u001b[1;31m# TODO: can we get rid of the dt64tz special case above?\u001b[0m\u001b[1;33m\u001b[0m\u001b[1;33m\u001b[0m\u001b[0m\n\u001b[0;32m    463\u001b[0m \u001b[1;33m\u001b[0m\u001b[0m\n\u001b[1;32m--> 464\u001b[1;33m     return arrays_to_mgr(\n\u001b[0m\u001b[0;32m    465\u001b[0m         \u001b[0marrays\u001b[0m\u001b[1;33m,\u001b[0m \u001b[0mdata_names\u001b[0m\u001b[1;33m,\u001b[0m \u001b[0mindex\u001b[0m\u001b[1;33m,\u001b[0m \u001b[0mcolumns\u001b[0m\u001b[1;33m,\u001b[0m \u001b[0mdtype\u001b[0m\u001b[1;33m=\u001b[0m\u001b[0mdtype\u001b[0m\u001b[1;33m,\u001b[0m \u001b[0mtyp\u001b[0m\u001b[1;33m=\u001b[0m\u001b[0mtyp\u001b[0m\u001b[1;33m,\u001b[0m \u001b[0mconsolidate\u001b[0m\u001b[1;33m=\u001b[0m\u001b[0mcopy\u001b[0m\u001b[1;33m\u001b[0m\u001b[1;33m\u001b[0m\u001b[0m\n\u001b[0;32m    466\u001b[0m     )\n",
      "\u001b[1;32mc:\\Users\\Jimmy\\jobby\\lib\\site-packages\\pandas\\core\\internals\\construction.py\u001b[0m in \u001b[0;36marrays_to_mgr\u001b[1;34m(arrays, arr_names, index, columns, dtype, verify_integrity, typ, consolidate)\u001b[0m\n\u001b[0;32m    117\u001b[0m         \u001b[1;31m# figure out the index, if necessary\u001b[0m\u001b[1;33m\u001b[0m\u001b[1;33m\u001b[0m\u001b[0m\n\u001b[0;32m    118\u001b[0m         \u001b[1;32mif\u001b[0m \u001b[0mindex\u001b[0m \u001b[1;32mis\u001b[0m \u001b[1;32mNone\u001b[0m\u001b[1;33m:\u001b[0m\u001b[1;33m\u001b[0m\u001b[1;33m\u001b[0m\u001b[0m\n\u001b[1;32m--> 119\u001b[1;33m             \u001b[0mindex\u001b[0m \u001b[1;33m=\u001b[0m \u001b[0m_extract_index\u001b[0m\u001b[1;33m(\u001b[0m\u001b[0marrays\u001b[0m\u001b[1;33m)\u001b[0m\u001b[1;33m\u001b[0m\u001b[1;33m\u001b[0m\u001b[0m\n\u001b[0m\u001b[0;32m    120\u001b[0m         \u001b[1;32melse\u001b[0m\u001b[1;33m:\u001b[0m\u001b[1;33m\u001b[0m\u001b[1;33m\u001b[0m\u001b[0m\n\u001b[0;32m    121\u001b[0m             \u001b[0mindex\u001b[0m \u001b[1;33m=\u001b[0m \u001b[0mensure_index\u001b[0m\u001b[1;33m(\u001b[0m\u001b[0mindex\u001b[0m\u001b[1;33m)\u001b[0m\u001b[1;33m\u001b[0m\u001b[1;33m\u001b[0m\u001b[0m\n",
      "\u001b[1;32mc:\\Users\\Jimmy\\jobby\\lib\\site-packages\\pandas\\core\\internals\\construction.py\u001b[0m in \u001b[0;36m_extract_index\u001b[1;34m(data)\u001b[0m\n\u001b[0;32m    633\u001b[0m             \u001b[0mlengths\u001b[0m \u001b[1;33m=\u001b[0m \u001b[0mlist\u001b[0m\u001b[1;33m(\u001b[0m\u001b[0mset\u001b[0m\u001b[1;33m(\u001b[0m\u001b[0mraw_lengths\u001b[0m\u001b[1;33m)\u001b[0m\u001b[1;33m)\u001b[0m\u001b[1;33m\u001b[0m\u001b[1;33m\u001b[0m\u001b[0m\n\u001b[0;32m    634\u001b[0m             \u001b[1;32mif\u001b[0m \u001b[0mlen\u001b[0m\u001b[1;33m(\u001b[0m\u001b[0mlengths\u001b[0m\u001b[1;33m)\u001b[0m \u001b[1;33m>\u001b[0m \u001b[1;36m1\u001b[0m\u001b[1;33m:\u001b[0m\u001b[1;33m\u001b[0m\u001b[1;33m\u001b[0m\u001b[0m\n\u001b[1;32m--> 635\u001b[1;33m                 \u001b[1;32mraise\u001b[0m \u001b[0mValueError\u001b[0m\u001b[1;33m(\u001b[0m\u001b[1;34m\"All arrays must be of the same length\"\u001b[0m\u001b[1;33m)\u001b[0m\u001b[1;33m\u001b[0m\u001b[1;33m\u001b[0m\u001b[0m\n\u001b[0m\u001b[0;32m    636\u001b[0m \u001b[1;33m\u001b[0m\u001b[0m\n\u001b[0;32m    637\u001b[0m             \u001b[1;32mif\u001b[0m \u001b[0mhave_dicts\u001b[0m\u001b[1;33m:\u001b[0m\u001b[1;33m\u001b[0m\u001b[1;33m\u001b[0m\u001b[0m\n",
      "\u001b[1;31mValueError\u001b[0m: All arrays must be of the same length"
     ]
    }
   ],
   "source": [
    "padMapper(content3)"
   ]
  },
  {
   "cell_type": "markdown",
   "metadata": {},
   "source": [
    "### 1 bathrooms"
   ]
  },
  {
   "cell_type": "code",
   "execution_count": null,
   "metadata": {},
   "outputs": [],
   "source": [
    "URL4 = \"https://www.padmapper.com/apartments/vancouver-bc/west-end/1-beds\"\n",
    "requestURL4 = requests.get(URL4)\n",
    "content4 = requestURL4.content\n",
    "\n",
    "padMapper(content4)"
   ]
  },
  {
   "cell_type": "markdown",
   "metadata": {},
   "source": [
    "### 2 bathrooms"
   ]
  },
  {
   "cell_type": "code",
   "execution_count": null,
   "metadata": {},
   "outputs": [],
   "source": [
    "URL4 = \"https://www.padmapper.com/apartments/vancouver-bc/west-end/2-beds\"\n",
    "requestURL4 = requests.get(URL4)\n",
    "content4 = requestURL4.content\n",
    "\n",
    "padMapper(content4)"
   ]
  },
  {
   "cell_type": "code",
   "execution_count": null,
   "metadata": {},
   "outputs": [],
   "source": [
    "URL4 = \"https://www.padmapper.com/apartments/vancouver-bc/west-end/3-beds\"\n",
    "requestURL4 = requests.get(URL4)\n",
    "content4 = requestURL4.content\n",
    "\n",
    "padMapper(content4)"
   ]
  },
  {
   "cell_type": "markdown",
   "metadata": {},
   "source": [
    "## Rent cafe"
   ]
  },
  {
   "cell_type": "code",
   "execution_count": null,
   "metadata": {},
   "outputs": [],
   "source": [
    "import json\n",
    "\n"
   ]
  },
  {
   "cell_type": "code",
   "execution_count": null,
   "metadata": {},
   "outputs": [],
   "source": [
    "def rentCafe(content): \n",
    "    soup3 = BeautifulSoup(content, \"html.parser\")\n",
    "    realEstate = soup3.findAll([\"li\", \"div\"], class_=[\"listing-beds-rent data-rent-ask\",\"data-rent\"])\n",
    "    rentInfo = [x.strip() for x in soup3.findAll(\"script\", type=\"text/javascript\")[4]]\n",
    "    lastUpdated = [x.strip() for x in soup3.find(\"section\")]\n",
    "    rent = [x.text.strip() for x in realEstate]\n",
    "    \n",
    "    jsonData = json.loads(rentInfo[0][47:-3])\n",
    "    baths, beds, PostalCode, area = [], [], [], []\n",
    "    for i in range(len(jsonData)): \n",
    "        baths.append(jsonData[i]['Baths']), beds.append(jsonData[i]['Beds']), PostalCode.append(jsonData[i]['AddressFormatted'][-7:]), area.append(jsonData[i][\"Area\"])\n",
    "    dict = {'PostalCode':PostalCode,'Monthly': rent,  'Number of beds': beds, 'Number of baths': baths, 'Area': area}\n",
    "    df= pd.DataFrame(dict)\n",
    "    df['Monthly'] = df['Monthly'].apply(lambda x:x.replace('$','').replace(',','').replace(\"+\",'').strip())\n",
    "    print(lastUpdated)\n",
    "    print(jsonData)\n",
    "    return df\n",
    "   \n",
    "    "
   ]
  },
  {
   "cell_type": "code",
   "execution_count": null,
   "metadata": {},
   "outputs": [
    {
     "ename": "TypeError",
     "evalue": "'NoneType' object is not callable",
     "output_type": "error",
     "traceback": [
      "\u001b[1;31m---------------------------------------------------------------------------\u001b[0m",
      "\u001b[1;31mTypeError\u001b[0m                                 Traceback (most recent call last)",
      "\u001b[1;32m~\\AppData\\Local\\Temp/ipykernel_34684/3290682430.py\u001b[0m in \u001b[0;36m<module>\u001b[1;34m\u001b[0m\n\u001b[0;32m      3\u001b[0m \u001b[0mcontentCafe1\u001b[0m \u001b[1;33m=\u001b[0m \u001b[0mrequestURLCafe1\u001b[0m\u001b[1;33m.\u001b[0m\u001b[0mcontent\u001b[0m\u001b[1;33m\u001b[0m\u001b[1;33m\u001b[0m\u001b[0m\n\u001b[0;32m      4\u001b[0m \u001b[1;33m\u001b[0m\u001b[0m\n\u001b[1;32m----> 5\u001b[1;33m \u001b[0mrentCafe\u001b[0m\u001b[1;33m(\u001b[0m\u001b[0mcontentCafe1\u001b[0m\u001b[1;33m)\u001b[0m\u001b[1;33m\u001b[0m\u001b[1;33m\u001b[0m\u001b[0m\n\u001b[0m",
      "\u001b[1;32m~\\AppData\\Local\\Temp/ipykernel_34684/1432533878.py\u001b[0m in \u001b[0;36mrentCafe\u001b[1;34m(content)\u001b[0m\n\u001b[0;32m      3\u001b[0m     \u001b[0mrealEstate\u001b[0m \u001b[1;33m=\u001b[0m \u001b[0msoup3\u001b[0m\u001b[1;33m.\u001b[0m\u001b[0mfindAll\u001b[0m\u001b[1;33m(\u001b[0m\u001b[1;33m[\u001b[0m\u001b[1;34m\"li\"\u001b[0m\u001b[1;33m,\u001b[0m \u001b[1;34m\"div\"\u001b[0m\u001b[1;33m]\u001b[0m\u001b[1;33m,\u001b[0m \u001b[0mclass_\u001b[0m\u001b[1;33m=\u001b[0m\u001b[1;33m[\u001b[0m\u001b[1;34m\"listing-beds-rent data-rent-ask\"\u001b[0m\u001b[1;33m,\u001b[0m\u001b[1;34m\"data-rent\"\u001b[0m\u001b[1;33m]\u001b[0m\u001b[1;33m)\u001b[0m\u001b[1;33m\u001b[0m\u001b[1;33m\u001b[0m\u001b[0m\n\u001b[0;32m      4\u001b[0m     \u001b[0mrentInfo\u001b[0m \u001b[1;33m=\u001b[0m \u001b[1;33m[\u001b[0m\u001b[0mx\u001b[0m\u001b[1;33m.\u001b[0m\u001b[0mstrip\u001b[0m\u001b[1;33m(\u001b[0m\u001b[1;33m)\u001b[0m \u001b[1;32mfor\u001b[0m \u001b[0mx\u001b[0m \u001b[1;32min\u001b[0m \u001b[0msoup3\u001b[0m\u001b[1;33m.\u001b[0m\u001b[0mfindAll\u001b[0m\u001b[1;33m(\u001b[0m\u001b[1;34m\"script\"\u001b[0m\u001b[1;33m,\u001b[0m \u001b[0mtype\u001b[0m\u001b[1;33m=\u001b[0m\u001b[1;34m\"text/javascript\"\u001b[0m\u001b[1;33m)\u001b[0m\u001b[1;33m[\u001b[0m\u001b[1;36m4\u001b[0m\u001b[1;33m]\u001b[0m\u001b[1;33m]\u001b[0m\u001b[1;33m\u001b[0m\u001b[1;33m\u001b[0m\u001b[0m\n\u001b[1;32m----> 5\u001b[1;33m     \u001b[0mlastUpdated\u001b[0m \u001b[1;33m=\u001b[0m \u001b[1;33m[\u001b[0m\u001b[0mx\u001b[0m\u001b[1;33m.\u001b[0m\u001b[0mstrip\u001b[0m\u001b[1;33m(\u001b[0m\u001b[1;33m)\u001b[0m \u001b[1;32mfor\u001b[0m \u001b[0mx\u001b[0m \u001b[1;32min\u001b[0m \u001b[0msoup3\u001b[0m\u001b[1;33m.\u001b[0m\u001b[0mfind\u001b[0m\u001b[1;33m(\u001b[0m\u001b[1;34m\"section\"\u001b[0m\u001b[1;33m)\u001b[0m\u001b[1;33m]\u001b[0m\u001b[1;33m\u001b[0m\u001b[1;33m\u001b[0m\u001b[0m\n\u001b[0m\u001b[0;32m      6\u001b[0m     \u001b[0mrent\u001b[0m \u001b[1;33m=\u001b[0m \u001b[1;33m[\u001b[0m\u001b[0mx\u001b[0m\u001b[1;33m.\u001b[0m\u001b[0mtext\u001b[0m\u001b[1;33m.\u001b[0m\u001b[0mstrip\u001b[0m\u001b[1;33m(\u001b[0m\u001b[1;33m)\u001b[0m \u001b[1;32mfor\u001b[0m \u001b[0mx\u001b[0m \u001b[1;32min\u001b[0m \u001b[0mrealEstate\u001b[0m\u001b[1;33m]\u001b[0m\u001b[1;33m\u001b[0m\u001b[1;33m\u001b[0m\u001b[0m\n\u001b[0;32m      7\u001b[0m \u001b[1;33m\u001b[0m\u001b[0m\n",
      "\u001b[1;32m~\\AppData\\Local\\Temp/ipykernel_34684/1432533878.py\u001b[0m in \u001b[0;36m<listcomp>\u001b[1;34m(.0)\u001b[0m\n\u001b[0;32m      3\u001b[0m     \u001b[0mrealEstate\u001b[0m \u001b[1;33m=\u001b[0m \u001b[0msoup3\u001b[0m\u001b[1;33m.\u001b[0m\u001b[0mfindAll\u001b[0m\u001b[1;33m(\u001b[0m\u001b[1;33m[\u001b[0m\u001b[1;34m\"li\"\u001b[0m\u001b[1;33m,\u001b[0m \u001b[1;34m\"div\"\u001b[0m\u001b[1;33m]\u001b[0m\u001b[1;33m,\u001b[0m \u001b[0mclass_\u001b[0m\u001b[1;33m=\u001b[0m\u001b[1;33m[\u001b[0m\u001b[1;34m\"listing-beds-rent data-rent-ask\"\u001b[0m\u001b[1;33m,\u001b[0m\u001b[1;34m\"data-rent\"\u001b[0m\u001b[1;33m]\u001b[0m\u001b[1;33m)\u001b[0m\u001b[1;33m\u001b[0m\u001b[1;33m\u001b[0m\u001b[0m\n\u001b[0;32m      4\u001b[0m     \u001b[0mrentInfo\u001b[0m \u001b[1;33m=\u001b[0m \u001b[1;33m[\u001b[0m\u001b[0mx\u001b[0m\u001b[1;33m.\u001b[0m\u001b[0mstrip\u001b[0m\u001b[1;33m(\u001b[0m\u001b[1;33m)\u001b[0m \u001b[1;32mfor\u001b[0m \u001b[0mx\u001b[0m \u001b[1;32min\u001b[0m \u001b[0msoup3\u001b[0m\u001b[1;33m.\u001b[0m\u001b[0mfindAll\u001b[0m\u001b[1;33m(\u001b[0m\u001b[1;34m\"script\"\u001b[0m\u001b[1;33m,\u001b[0m \u001b[0mtype\u001b[0m\u001b[1;33m=\u001b[0m\u001b[1;34m\"text/javascript\"\u001b[0m\u001b[1;33m)\u001b[0m\u001b[1;33m[\u001b[0m\u001b[1;36m4\u001b[0m\u001b[1;33m]\u001b[0m\u001b[1;33m]\u001b[0m\u001b[1;33m\u001b[0m\u001b[1;33m\u001b[0m\u001b[0m\n\u001b[1;32m----> 5\u001b[1;33m     \u001b[0mlastUpdated\u001b[0m \u001b[1;33m=\u001b[0m \u001b[1;33m[\u001b[0m\u001b[0mx\u001b[0m\u001b[1;33m.\u001b[0m\u001b[0mstrip\u001b[0m\u001b[1;33m(\u001b[0m\u001b[1;33m)\u001b[0m \u001b[1;32mfor\u001b[0m \u001b[0mx\u001b[0m \u001b[1;32min\u001b[0m \u001b[0msoup3\u001b[0m\u001b[1;33m.\u001b[0m\u001b[0mfind\u001b[0m\u001b[1;33m(\u001b[0m\u001b[1;34m\"section\"\u001b[0m\u001b[1;33m)\u001b[0m\u001b[1;33m]\u001b[0m\u001b[1;33m\u001b[0m\u001b[1;33m\u001b[0m\u001b[0m\n\u001b[0m\u001b[0;32m      6\u001b[0m     \u001b[0mrent\u001b[0m \u001b[1;33m=\u001b[0m \u001b[1;33m[\u001b[0m\u001b[0mx\u001b[0m\u001b[1;33m.\u001b[0m\u001b[0mtext\u001b[0m\u001b[1;33m.\u001b[0m\u001b[0mstrip\u001b[0m\u001b[1;33m(\u001b[0m\u001b[1;33m)\u001b[0m \u001b[1;32mfor\u001b[0m \u001b[0mx\u001b[0m \u001b[1;32min\u001b[0m \u001b[0mrealEstate\u001b[0m\u001b[1;33m]\u001b[0m\u001b[1;33m\u001b[0m\u001b[1;33m\u001b[0m\u001b[0m\n\u001b[0;32m      7\u001b[0m \u001b[1;33m\u001b[0m\u001b[0m\n",
      "\u001b[1;31mTypeError\u001b[0m: 'NoneType' object is not callable"
     ]
    }
   ],
   "source": [
    "URLCafe1 = \"https://www.rentcafe.com/studio-apartments-for-rent/ca/bc/vancouver/west-end-vancouver/\"\n",
    "requestURLCafe1 = requests.get(URLCafe1)\n",
    "contentCafe1 = requestURLCafe1.content\n",
    "\n",
    "rentCafe(contentCafe1)"
   ]
  },
  {
   "cell_type": "code",
   "execution_count": null,
   "metadata": {},
   "outputs": [
    {
     "data": {
      "text/html": [
       "<div>\n",
       "<style scoped>\n",
       "    .dataframe tbody tr th:only-of-type {\n",
       "        vertical-align: middle;\n",
       "    }\n",
       "\n",
       "    .dataframe tbody tr th {\n",
       "        vertical-align: top;\n",
       "    }\n",
       "\n",
       "    .dataframe thead th {\n",
       "        text-align: right;\n",
       "    }\n",
       "</style>\n",
       "<table border=\"1\" class=\"dataframe\">\n",
       "  <thead>\n",
       "    <tr style=\"text-align: right;\">\n",
       "      <th></th>\n",
       "      <th>PostalCode</th>\n",
       "      <th>Monthly</th>\n",
       "      <th>Number of beds</th>\n",
       "      <th>Number of baths</th>\n",
       "      <th>Area</th>\n",
       "    </tr>\n",
       "  </thead>\n",
       "  <tbody>\n",
       "    <tr>\n",
       "      <th>0</th>\n",
       "      <td>V6E 4S7</td>\n",
       "      <td>Ask for pricing</td>\n",
       "      <td>1 Bed</td>\n",
       "      <td>1 Bath</td>\n",
       "      <td>371 - 1,291 Sq.Ft.</td>\n",
       "    </tr>\n",
       "    <tr>\n",
       "      <th>1</th>\n",
       "      <td>V6G 1X3</td>\n",
       "      <td>2350</td>\n",
       "      <td>1 Bed</td>\n",
       "      <td>1 Bath</td>\n",
       "      <td>450 - 500 Sq.Ft.</td>\n",
       "    </tr>\n",
       "    <tr>\n",
       "      <th>2</th>\n",
       "      <td>V6G 1X4</td>\n",
       "      <td>2175</td>\n",
       "      <td>1 Bed</td>\n",
       "      <td>1 Bath</td>\n",
       "      <td>450 - 650 Sq.Ft.</td>\n",
       "    </tr>\n",
       "    <tr>\n",
       "      <th>3</th>\n",
       "      <td>V6G 2L2</td>\n",
       "      <td>2950</td>\n",
       "      <td>1 Bed</td>\n",
       "      <td>1.5 Baths</td>\n",
       "      <td>450 - 1,200 Sq.Ft.</td>\n",
       "    </tr>\n",
       "    <tr>\n",
       "      <th>4</th>\n",
       "      <td>V6G 3A3</td>\n",
       "      <td>Ask for pricing</td>\n",
       "      <td>1 Bed</td>\n",
       "      <td>1-1.5 Baths</td>\n",
       "      <td>465 - 950 Sq.Ft.</td>\n",
       "    </tr>\n",
       "    <tr>\n",
       "      <th>5</th>\n",
       "      <td>V6Z 0E7</td>\n",
       "      <td>2800</td>\n",
       "      <td>1 Bed</td>\n",
       "      <td>1 Bath</td>\n",
       "      <td>497 Sq.Ft.</td>\n",
       "    </tr>\n",
       "    <tr>\n",
       "      <th>6</th>\n",
       "      <td>V6G 2X3</td>\n",
       "      <td>Ask for pricing</td>\n",
       "      <td>1 Bed</td>\n",
       "      <td>1 Bath</td>\n",
       "      <td>625 - 1,050 Sq.Ft.</td>\n",
       "    </tr>\n",
       "    <tr>\n",
       "      <th>7</th>\n",
       "      <td>V6B 0P4</td>\n",
       "      <td>2700</td>\n",
       "      <td>1 Bed</td>\n",
       "      <td>1 Bath</td>\n",
       "      <td>513 Sq.Ft.</td>\n",
       "    </tr>\n",
       "    <tr>\n",
       "      <th>8</th>\n",
       "      <td>V5L 2N1</td>\n",
       "      <td>2195</td>\n",
       "      <td>1 Bed</td>\n",
       "      <td>1 Bath</td>\n",
       "      <td>451 Sq.Ft.</td>\n",
       "    </tr>\n",
       "    <tr>\n",
       "      <th>9</th>\n",
       "      <td>V5N 1V9</td>\n",
       "      <td>2275</td>\n",
       "      <td>1 Bed</td>\n",
       "      <td>1 Bath</td>\n",
       "      <td>None</td>\n",
       "    </tr>\n",
       "    <tr>\n",
       "      <th>10</th>\n",
       "      <td>V7L 3J4</td>\n",
       "      <td>2270</td>\n",
       "      <td>1 Bed</td>\n",
       "      <td>1 Bath</td>\n",
       "      <td>480 - 1,064 Sq.Ft.</td>\n",
       "    </tr>\n",
       "    <tr>\n",
       "      <th>11</th>\n",
       "      <td>V6X 0T8</td>\n",
       "      <td>2100</td>\n",
       "      <td>1 Bed</td>\n",
       "      <td>1 Bath</td>\n",
       "      <td>657 Sq.Ft.</td>\n",
       "    </tr>\n",
       "  </tbody>\n",
       "</table>\n",
       "</div>"
      ],
      "text/plain": [
       "   PostalCode          Monthly Number of beds Number of baths  \\\n",
       "0     V6E 4S7  Ask for pricing          1 Bed          1 Bath   \n",
       "1     V6G 1X3             2350          1 Bed          1 Bath   \n",
       "2     V6G 1X4             2175          1 Bed          1 Bath   \n",
       "3     V6G 2L2             2950          1 Bed       1.5 Baths   \n",
       "4     V6G 3A3  Ask for pricing          1 Bed     1-1.5 Baths   \n",
       "5     V6Z 0E7             2800          1 Bed          1 Bath   \n",
       "6     V6G 2X3  Ask for pricing          1 Bed          1 Bath   \n",
       "7     V6B 0P4             2700          1 Bed          1 Bath   \n",
       "8     V5L 2N1             2195          1 Bed          1 Bath   \n",
       "9     V5N 1V9             2275          1 Bed          1 Bath   \n",
       "10    V7L 3J4             2270          1 Bed          1 Bath   \n",
       "11    V6X 0T8             2100          1 Bed          1 Bath   \n",
       "\n",
       "                  Area  \n",
       "0   371 - 1,291 Sq.Ft.  \n",
       "1     450 - 500 Sq.Ft.  \n",
       "2     450 - 650 Sq.Ft.  \n",
       "3   450 - 1,200 Sq.Ft.  \n",
       "4     465 - 950 Sq.Ft.  \n",
       "5           497 Sq.Ft.  \n",
       "6   625 - 1,050 Sq.Ft.  \n",
       "7           513 Sq.Ft.  \n",
       "8           451 Sq.Ft.  \n",
       "9                 None  \n",
       "10  480 - 1,064 Sq.Ft.  \n",
       "11          657 Sq.Ft.  "
      ]
     },
     "execution_count": 687,
     "metadata": {},
     "output_type": "execute_result"
    }
   ],
   "source": [
    "URLCafe1 = \"https://www.rentcafe.com/1-bedroom-apartments-for-rent/ca/bc/vancouver/west-end-vancouver/\"\n",
    "requestURLCafe1 = requests.get(URLCafe1)\n",
    "contentCafe1 = requestURLCafe1.content\n",
    "\n",
    "rentCafe(contentCafe1)"
   ]
  },
  {
   "cell_type": "code",
   "execution_count": null,
   "metadata": {},
   "outputs": [
    {
     "data": {
      "text/html": [
       "<div>\n",
       "<style scoped>\n",
       "    .dataframe tbody tr th:only-of-type {\n",
       "        vertical-align: middle;\n",
       "    }\n",
       "\n",
       "    .dataframe tbody tr th {\n",
       "        vertical-align: top;\n",
       "    }\n",
       "\n",
       "    .dataframe thead th {\n",
       "        text-align: right;\n",
       "    }\n",
       "</style>\n",
       "<table border=\"1\" class=\"dataframe\">\n",
       "  <thead>\n",
       "    <tr style=\"text-align: right;\">\n",
       "      <th></th>\n",
       "      <th>PostalCode</th>\n",
       "      <th>Monthly</th>\n",
       "      <th>Number of beds</th>\n",
       "      <th>Number of baths</th>\n",
       "      <th>Area</th>\n",
       "    </tr>\n",
       "  </thead>\n",
       "  <tbody>\n",
       "    <tr>\n",
       "      <th>0</th>\n",
       "      <td>V6E 4S7</td>\n",
       "      <td>3650</td>\n",
       "      <td>2 Beds</td>\n",
       "      <td>1-2 Baths</td>\n",
       "      <td>371 - 1,291 Sq.Ft.</td>\n",
       "    </tr>\n",
       "    <tr>\n",
       "      <th>1</th>\n",
       "      <td>V6G 2L2</td>\n",
       "      <td>Ask for pricing</td>\n",
       "      <td>2 Beds</td>\n",
       "      <td>1.5 Baths</td>\n",
       "      <td>450 - 1,200 Sq.Ft.</td>\n",
       "    </tr>\n",
       "    <tr>\n",
       "      <th>2</th>\n",
       "      <td>V6G 3A3</td>\n",
       "      <td>3050</td>\n",
       "      <td>2 Beds</td>\n",
       "      <td>1.5-2 Baths</td>\n",
       "      <td>465 - 950 Sq.Ft.</td>\n",
       "    </tr>\n",
       "    <tr>\n",
       "      <th>3</th>\n",
       "      <td>V6G 2X3</td>\n",
       "      <td>Ask for pricing</td>\n",
       "      <td>2 Beds</td>\n",
       "      <td>1-1.5 Baths</td>\n",
       "      <td>625 - 1,050 Sq.Ft.</td>\n",
       "    </tr>\n",
       "    <tr>\n",
       "      <th>4</th>\n",
       "      <td>V6Z1W4</td>\n",
       "      <td>4500</td>\n",
       "      <td>2 Beds</td>\n",
       "      <td>2 Baths</td>\n",
       "      <td>814 Sq.Ft.</td>\n",
       "    </tr>\n",
       "    <tr>\n",
       "      <th>5</th>\n",
       "      <td>V6B 0E8</td>\n",
       "      <td>3800</td>\n",
       "      <td>2 Beds</td>\n",
       "      <td>2 Baths</td>\n",
       "      <td>1,088 Sq.Ft.</td>\n",
       "    </tr>\n",
       "    <tr>\n",
       "      <th>6</th>\n",
       "      <td>V6A 0G3</td>\n",
       "      <td>2650</td>\n",
       "      <td>2 Beds</td>\n",
       "      <td>1 Bath</td>\n",
       "      <td>764 Sq.Ft.</td>\n",
       "    </tr>\n",
       "    <tr>\n",
       "      <th>7</th>\n",
       "      <td>V5N 1V9</td>\n",
       "      <td>3250</td>\n",
       "      <td>2 Beds</td>\n",
       "      <td>1-2 Baths</td>\n",
       "      <td>None</td>\n",
       "    </tr>\n",
       "    <tr>\n",
       "      <th>8</th>\n",
       "      <td>V5V 3E2</td>\n",
       "      <td>2800</td>\n",
       "      <td>2 Beds</td>\n",
       "      <td>1 Bath</td>\n",
       "      <td>800 Sq.Ft.</td>\n",
       "    </tr>\n",
       "    <tr>\n",
       "      <th>9</th>\n",
       "      <td>V7L 3J4</td>\n",
       "      <td>2950</td>\n",
       "      <td>2 Beds</td>\n",
       "      <td>1-2 Baths</td>\n",
       "      <td>480 - 1,064 Sq.Ft.</td>\n",
       "    </tr>\n",
       "    <tr>\n",
       "      <th>10</th>\n",
       "      <td>V5S 2Y4</td>\n",
       "      <td>2100</td>\n",
       "      <td>2 Beds</td>\n",
       "      <td>2 Baths</td>\n",
       "      <td>725 Sq.Ft.</td>\n",
       "    </tr>\n",
       "    <tr>\n",
       "      <th>11</th>\n",
       "      <td>V3L 0J9</td>\n",
       "      <td>Ask for pricing</td>\n",
       "      <td>2 Beds</td>\n",
       "      <td>2 Baths</td>\n",
       "      <td>900 Sq.Ft.</td>\n",
       "    </tr>\n",
       "  </tbody>\n",
       "</table>\n",
       "</div>"
      ],
      "text/plain": [
       "   PostalCode          Monthly Number of beds Number of baths  \\\n",
       "0     V6E 4S7             3650         2 Beds       1-2 Baths   \n",
       "1     V6G 2L2  Ask for pricing         2 Beds       1.5 Baths   \n",
       "2     V6G 3A3             3050         2 Beds     1.5-2 Baths   \n",
       "3     V6G 2X3  Ask for pricing         2 Beds     1-1.5 Baths   \n",
       "4      V6Z1W4             4500         2 Beds         2 Baths   \n",
       "5     V6B 0E8             3800         2 Beds         2 Baths   \n",
       "6     V6A 0G3             2650         2 Beds          1 Bath   \n",
       "7     V5N 1V9             3250         2 Beds       1-2 Baths   \n",
       "8     V5V 3E2             2800         2 Beds          1 Bath   \n",
       "9     V7L 3J4             2950         2 Beds       1-2 Baths   \n",
       "10    V5S 2Y4             2100         2 Beds         2 Baths   \n",
       "11    V3L 0J9  Ask for pricing         2 Beds         2 Baths   \n",
       "\n",
       "                  Area  \n",
       "0   371 - 1,291 Sq.Ft.  \n",
       "1   450 - 1,200 Sq.Ft.  \n",
       "2     465 - 950 Sq.Ft.  \n",
       "3   625 - 1,050 Sq.Ft.  \n",
       "4           814 Sq.Ft.  \n",
       "5         1,088 Sq.Ft.  \n",
       "6           764 Sq.Ft.  \n",
       "7                 None  \n",
       "8           800 Sq.Ft.  \n",
       "9   480 - 1,064 Sq.Ft.  \n",
       "10          725 Sq.Ft.  \n",
       "11          900 Sq.Ft.  "
      ]
     },
     "execution_count": 501,
     "metadata": {},
     "output_type": "execute_result"
    }
   ],
   "source": [
    "URLCafe1 = \"https://www.rentcafe.com/2-bedroom-apartments-for-rent/ca/bc/vancouver/west-end-vancouver/\"\n",
    "requestURLCafe1 = requests.get(URLCafe1)\n",
    "contentCafe1 = requestURLCafe1.content\n",
    "\n",
    "rentCafe(contentCafe1)"
   ]
  },
  {
   "cell_type": "code",
   "execution_count": null,
   "metadata": {},
   "outputs": [
    {
     "data": {
      "text/html": [
       "<div>\n",
       "<style scoped>\n",
       "    .dataframe tbody tr th:only-of-type {\n",
       "        vertical-align: middle;\n",
       "    }\n",
       "\n",
       "    .dataframe tbody tr th {\n",
       "        vertical-align: top;\n",
       "    }\n",
       "\n",
       "    .dataframe thead th {\n",
       "        text-align: right;\n",
       "    }\n",
       "</style>\n",
       "<table border=\"1\" class=\"dataframe\">\n",
       "  <thead>\n",
       "    <tr style=\"text-align: right;\">\n",
       "      <th></th>\n",
       "      <th>PostalCode</th>\n",
       "      <th>Monthly</th>\n",
       "      <th>Number of beds</th>\n",
       "      <th>Number of baths</th>\n",
       "    </tr>\n",
       "  </thead>\n",
       "  <tbody>\n",
       "    <tr>\n",
       "      <th>0</th>\n",
       "      <td>V6G 0C7</td>\n",
       "      <td>6500</td>\n",
       "      <td>3 Beds</td>\n",
       "      <td>2 Baths</td>\n",
       "    </tr>\n",
       "    <tr>\n",
       "      <th>1</th>\n",
       "      <td>V6K 1K6</td>\n",
       "      <td>4200</td>\n",
       "      <td>3 Beds</td>\n",
       "      <td>2 Baths</td>\n",
       "    </tr>\n",
       "    <tr>\n",
       "      <th>2</th>\n",
       "      <td>V6R 2W5</td>\n",
       "      <td>12000</td>\n",
       "      <td>3 Beds</td>\n",
       "      <td>2.5 Baths</td>\n",
       "    </tr>\n",
       "    <tr>\n",
       "      <th>3</th>\n",
       "      <td>V5V 0B3</td>\n",
       "      <td>2850</td>\n",
       "      <td>3 Beds</td>\n",
       "      <td>2 Baths</td>\n",
       "    </tr>\n",
       "    <tr>\n",
       "      <th>4</th>\n",
       "      <td>V5N 1V9</td>\n",
       "      <td>4050</td>\n",
       "      <td>3 Beds</td>\n",
       "      <td>2 Baths</td>\n",
       "    </tr>\n",
       "    <tr>\n",
       "      <th>5</th>\n",
       "      <td>V7L 3J4</td>\n",
       "      <td>3700</td>\n",
       "      <td>3 Beds</td>\n",
       "      <td>2 Baths</td>\n",
       "    </tr>\n",
       "  </tbody>\n",
       "</table>\n",
       "</div>"
      ],
      "text/plain": [
       "  PostalCode Monthly Number of beds Number of baths\n",
       "0    V6G 0C7    6500         3 Beds         2 Baths\n",
       "1    V6K 1K6    4200         3 Beds         2 Baths\n",
       "2    V6R 2W5   12000         3 Beds       2.5 Baths\n",
       "3    V5V 0B3    2850         3 Beds         2 Baths\n",
       "4    V5N 1V9    4050         3 Beds         2 Baths\n",
       "5    V7L 3J4    3700         3 Beds         2 Baths"
      ]
     },
     "execution_count": 494,
     "metadata": {},
     "output_type": "execute_result"
    }
   ],
   "source": [
    "URLCafe1 = \"https://www.rentcafe.com/3-bedroom-apartments-for-rent/ca/bc/vancouver/west-end-vancouver/\"\n",
    "requestURLCafe1 = requests.get(URLCafe1)\n",
    "contentCafe1 = requestURLCafe1.content\n",
    "\n",
    "rentCafe(contentCafe1)"
   ]
  }
 ],
 "metadata": {
  "kernelspec": {
   "display_name": "Python 3.10.0 64-bit ('jobby': venv)",
   "language": "python",
   "name": "python3"
  },
  "language_info": {
   "codemirror_mode": {
    "name": "ipython",
    "version": 3
   },
   "file_extension": ".py",
   "mimetype": "text/x-python",
   "name": "python",
   "nbconvert_exporter": "python",
   "pygments_lexer": "ipython3",
   "version": "3.10.0"
  },
  "orig_nbformat": 4,
  "vscode": {
   "interpreter": {
    "hash": "48d350f5f181397a19360741f9002fc700ff8626a9f57dcf745937f45eb19683"
   }
  }
 },
 "nbformat": 4,
 "nbformat_minor": 2
}
