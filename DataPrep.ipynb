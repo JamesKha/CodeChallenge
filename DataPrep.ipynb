{
 "cells": [
  {
   "cell_type": "code",
   "execution_count": 268,
   "metadata": {},
   "outputs": [],
   "source": [
    "import pandas as pd \n",
    "import requests\n",
    "from bs4 import BeautifulSoup\n",
    "import re"
   ]
  },
  {
   "cell_type": "markdown",
   "metadata": {},
   "source": [
    "# Getting real estate listings\n"
   ]
  },
  {
   "cell_type": "markdown",
   "metadata": {},
   "source": [
    "## Zumber"
   ]
  },
  {
   "cell_type": "code",
   "execution_count": 171,
   "metadata": {},
   "outputs": [],
   "source": [
    "def Zumber(content): \n",
    "    soup = BeautifulSoup(content, \"html.parser\")\n",
    "    PostalCode =  [x.text.replace(',', '').strip() for x in soup.find_all(\"span\", class_=\"css-wmtwp4\")]\n",
    "    rent = [x.text for x in soup.find_all(\"div\", class_=\"css-uzc059\")]\n",
    "    bed_bath = [x.text for x in soup.find_all(\"div\", class_=\"css-1iq6kk8\")]\n",
    "\n",
    "    bed,bath = [x.split('•')[0] for x in bed_bath],  [x.split('•')[1] for x in bed_bath]\n",
    "\n",
    "\n",
    "    dict = {'PostalCode':PostalCode,'Monthly': rent,  'Number of beds': bed, 'Number of baths': bath}\n",
    "    df= pd.DataFrame(dict)\n",
    "    df.loc[df['Monthly'].str.contains('%'), 'Monthly'] = df['Monthly'].str[:6]\n",
    "    \n",
    "    df['Monthly'] = df['Monthly'].apply(lambda x:x.replace('$','').replace(',','').replace(\"+\",'').strip())\n",
    "    df['Monthly']= df['Monthly'].replace({'K':'*1e3'}, regex=True).map(pd.eval)\n",
    "    return df"
   ]
  },
  {
   "cell_type": "markdown",
   "metadata": {},
   "source": [
    "### Studios"
   ]
  },
  {
   "cell_type": "code",
   "execution_count": 508,
   "metadata": {},
   "outputs": [],
   "source": [
    "URL = \"https://www.zumper.com/apartments-for-rent/vancouver-bc/west-end/studios\"\n",
    "requestURL = requests.get(URL)\n",
    "content = requestURL.content"
   ]
  },
  {
   "cell_type": "code",
   "execution_count": 509,
   "metadata": {},
   "outputs": [],
   "source": [
    "zumber0 = Zumber(content)"
   ]
  },
  {
   "cell_type": "markdown",
   "metadata": {},
   "source": [
    "### 1 bed"
   ]
  },
  {
   "cell_type": "code",
   "execution_count": 506,
   "metadata": {},
   "outputs": [],
   "source": [
    "URL2 = \"https://www.zumper.com/apartments-for-rent/vancouver-bc/west-end/1-beds\"\n",
    "requestURL2 = requests.get(URL2)\n",
    "content2 = requestURL2.content"
   ]
  },
  {
   "cell_type": "code",
   "execution_count": 507,
   "metadata": {},
   "outputs": [],
   "source": [
    "zumber1= Zumber(content2)"
   ]
  },
  {
   "cell_type": "markdown",
   "metadata": {},
   "source": [
    "## 2 Beds"
   ]
  },
  {
   "cell_type": "code",
   "execution_count": 504,
   "metadata": {},
   "outputs": [],
   "source": [
    "URL3 = \"https://www.zumper.com/apartments-for-rent/vancouver-bc/west-end/2-beds\"\n",
    "requestURL3 = requests.get(URL3)\n",
    "content3 = requestURL3.content\n"
   ]
  },
  {
   "cell_type": "code",
   "execution_count": 510,
   "metadata": {},
   "outputs": [],
   "source": [
    "zumber2 = Zumber(content3)"
   ]
  },
  {
   "cell_type": "markdown",
   "metadata": {},
   "source": [
    "### 3 beds"
   ]
  },
  {
   "cell_type": "code",
   "execution_count": 176,
   "metadata": {},
   "outputs": [],
   "source": [
    "URL4 = \"https://www.zumper.com/apartments-for-rent/vancouver-bc/west-end/3-beds\"\n",
    "requestURL4 = requests.get(URL4)\n",
    "content4 = requestURL4.content\n"
   ]
  },
  {
   "cell_type": "code",
   "execution_count": 511,
   "metadata": {},
   "outputs": [],
   "source": [
    "zumber3 = Zumber(content4)"
   ]
  },
  {
   "cell_type": "markdown",
   "metadata": {},
   "source": [
    "# Evaluation"
   ]
  },
  {
   "cell_type": "code",
   "execution_count": 513,
   "metadata": {},
   "outputs": [],
   "source": [
    "mainZumberDF = pd.concat([zumber0, zumber1, zumber2, zumber3])"
   ]
  },
  {
   "cell_type": "code",
   "execution_count": 514,
   "metadata": {},
   "outputs": [
    {
     "data": {
      "text/html": [
       "<div>\n",
       "<style scoped>\n",
       "    .dataframe tbody tr th:only-of-type {\n",
       "        vertical-align: middle;\n",
       "    }\n",
       "\n",
       "    .dataframe tbody tr th {\n",
       "        vertical-align: top;\n",
       "    }\n",
       "\n",
       "    .dataframe thead th {\n",
       "        text-align: right;\n",
       "    }\n",
       "</style>\n",
       "<table border=\"1\" class=\"dataframe\">\n",
       "  <thead>\n",
       "    <tr style=\"text-align: right;\">\n",
       "      <th></th>\n",
       "      <th>PostalCode</th>\n",
       "      <th>Monthly</th>\n",
       "      <th>Number of beds</th>\n",
       "      <th>Number of baths</th>\n",
       "    </tr>\n",
       "  </thead>\n",
       "  <tbody>\n",
       "    <tr>\n",
       "      <th>0</th>\n",
       "      <td>V6G 1P5</td>\n",
       "      <td>1900.0</td>\n",
       "      <td>Studio</td>\n",
       "      <td>1 Bath</td>\n",
       "    </tr>\n",
       "    <tr>\n",
       "      <th>1</th>\n",
       "      <td>V6E 1Z9</td>\n",
       "      <td>1625.0</td>\n",
       "      <td>Studio</td>\n",
       "      <td>1 Bath</td>\n",
       "    </tr>\n",
       "    <tr>\n",
       "      <th>2</th>\n",
       "      <td>V6E 1Z5</td>\n",
       "      <td>2000.0</td>\n",
       "      <td>Studio</td>\n",
       "      <td>1 Bath</td>\n",
       "    </tr>\n",
       "    <tr>\n",
       "      <th>3</th>\n",
       "      <td>V6E 1L7</td>\n",
       "      <td>2369.0</td>\n",
       "      <td>Studio</td>\n",
       "      <td>1 Bath</td>\n",
       "    </tr>\n",
       "    <tr>\n",
       "      <th>4</th>\n",
       "      <td>V6E 2B8</td>\n",
       "      <td>2268.0</td>\n",
       "      <td>Studio</td>\n",
       "      <td>1 Bath</td>\n",
       "    </tr>\n",
       "    <tr>\n",
       "      <th>...</th>\n",
       "      <td>...</td>\n",
       "      <td>...</td>\n",
       "      <td>...</td>\n",
       "      <td>...</td>\n",
       "    </tr>\n",
       "    <tr>\n",
       "      <th>19</th>\n",
       "      <td>V6G 3H7</td>\n",
       "      <td>8500.0</td>\n",
       "      <td>3 Beds</td>\n",
       "      <td>2 Baths</td>\n",
       "    </tr>\n",
       "    <tr>\n",
       "      <th>20</th>\n",
       "      <td>V6B 3E1</td>\n",
       "      <td>6700.0</td>\n",
       "      <td>3 Beds</td>\n",
       "      <td>3 Baths</td>\n",
       "    </tr>\n",
       "    <tr>\n",
       "      <th>21</th>\n",
       "      <td>V6G 3J6</td>\n",
       "      <td>5500.0</td>\n",
       "      <td>3 Beds</td>\n",
       "      <td>2 Baths</td>\n",
       "    </tr>\n",
       "    <tr>\n",
       "      <th>22</th>\n",
       "      <td>V6C 3N9</td>\n",
       "      <td>6800.0</td>\n",
       "      <td>3 Beds</td>\n",
       "      <td>2 Baths</td>\n",
       "    </tr>\n",
       "    <tr>\n",
       "      <th>23</th>\n",
       "      <td>V6Z 2Z3</td>\n",
       "      <td>4950.0</td>\n",
       "      <td>3 Beds</td>\n",
       "      <td>2 Baths</td>\n",
       "    </tr>\n",
       "  </tbody>\n",
       "</table>\n",
       "<p>112 rows × 4 columns</p>\n",
       "</div>"
      ],
      "text/plain": [
       "   PostalCode  Monthly Number of beds Number of baths\n",
       "0     V6G 1P5   1900.0        Studio           1 Bath\n",
       "1     V6E 1Z9   1625.0        Studio           1 Bath\n",
       "2     V6E 1Z5   2000.0        Studio           1 Bath\n",
       "3     V6E 1L7   2369.0        Studio           1 Bath\n",
       "4     V6E 2B8   2268.0        Studio           1 Bath\n",
       "..        ...      ...            ...             ...\n",
       "19    V6G 3H7   8500.0        3 Beds          2 Baths\n",
       "20    V6B 3E1   6700.0        3 Beds          3 Baths\n",
       "21    V6G 3J6   5500.0        3 Beds          2 Baths\n",
       "22    V6C 3N9   6800.0        3 Beds          2 Baths\n",
       "23    V6Z 2Z3   4950.0        3 Beds          2 Baths\n",
       "\n",
       "[112 rows x 4 columns]"
      ]
     },
     "execution_count": 514,
     "metadata": {},
     "output_type": "execute_result"
    }
   ],
   "source": [
    "mainZumberDF"
   ]
  },
  {
   "cell_type": "code",
   "execution_count": 518,
   "metadata": {},
   "outputs": [],
   "source": [
    "import seaborn as sns"
   ]
  },
  {
   "cell_type": "code",
   "execution_count": 519,
   "metadata": {},
   "outputs": [
    {
     "data": {
      "text/plain": [
       "<AxesSubplot: xlabel='Number of beds', ylabel='Monthly'>"
      ]
     },
     "execution_count": 519,
     "metadata": {},
     "output_type": "execute_result"
    },
    {
     "data": {
      "image/png": "[encoded data removed]",
      "text/plain": [
       "<Figure size 432x288 with 1 Axes>"
      ]
     },
     "metadata": {
      "needs_background": "light"
     },
     "output_type": "display_data"
    }
   ],
   "source": [
    "sns.boxplot(x='Number of beds', y='Monthly', data= mainZumberDF)"
   ]
  },
  {
   "cell_type": "markdown",
   "metadata": {},
   "source": [
    "## Kijiji"
   ]
  },
  {
   "cell_type": "code",
   "execution_count": 288,
   "metadata": {},
   "outputs": [],
   "source": [
    "def kijiji(content): \n",
    "    soup = BeautifulSoup(content, \"lxml\")\n",
    "    realEstate = soup.findAll(\"div\", class_=\"container-results large-images\")[1]\n",
    "    realEstate2 = [x.find('div', class_=\"info\") for x in realEstate.findAll(\"div\", attrs={\"data-listing-id\":True})]\n",
    "\n",
    "    realEstateLinks = [x.find('div', class_=[\"title\"]) for x in realEstate2]\n",
    "    realEstateLinks1 = [x.find('a', attrs={\"href\":True}) for x in realEstate2]\n",
    "    realEstateLinks = [\"https://www.kijiji.ca\"+ x['href'] for x in realEstateLinks1]\n",
    "\n",
    "    dfKijiji = pd.DataFrame(columns=['Postal Code','Monthly', 'Number of baths'])\n",
    "\n",
    "    for i in range(len(realEstateLinks)):\n",
    "        requestsIterate = requests.get(realEstateLinks[i])\n",
    "        soup3 = BeautifulSoup(requestsIterate.text, \"html.parser\")\n",
    "\n",
    "\n",
    "        for x in soup3.find_all('div', class_=['realEstateTitle-1440881021']):\n",
    "            monthlyNum = x.find('span')['content']\n",
    "            bathroomNum = x.findAll('span', class_=\"noLabelValue-3861810455\")[-1].text\n",
    "            if bool(re.match('V[0-9][A-Z] [0-9][A-Z][0-9]', x.find('span', class_=\"address-3617944557\").text[-7:])):\n",
    "                PostalCode = x.find('span', class_=\"address-3617944557\").text[-7:]\n",
    "            else:\n",
    "                PostalCode = \"\"\n",
    "            dfKijiji = dfKijiji.append({'Postal Code':PostalCode, 'Monthly': monthlyNum, 'Number of baths': bathroomNum}, ignore_index=True)\n",
    "    return dfKijiji\n",
    "    \n",
    "\n"
   ]
  },
  {
   "cell_type": "markdown",
   "metadata": {},
   "source": [
    "### Studios"
   ]
  },
  {
   "cell_type": "code",
   "execution_count": 264,
   "metadata": {},
   "outputs": [],
   "source": [
    "URL2 = \"https://www.kijiji.ca/b-apartments-condos/vancouver-downtown-west-end/bachelor+studio/c37l1700292a27949001\"\n",
    "requestURL2 = requests.get(URL2)\n",
    "content2 = requestURL2.content"
   ]
  },
  {
   "cell_type": "code",
   "execution_count": 289,
   "metadata": {},
   "outputs": [
    {
     "data": {
      "text/html": [
       "<div>\n",
       "<style scoped>\n",
       "    .dataframe tbody tr th:only-of-type {\n",
       "        vertical-align: middle;\n",
       "    }\n",
       "\n",
       "    .dataframe tbody tr th {\n",
       "        vertical-align: top;\n",
       "    }\n",
       "\n",
       "    .dataframe thead th {\n",
       "        text-align: right;\n",
       "    }\n",
       "</style>\n",
       "<table border=\"1\" class=\"dataframe\">\n",
       "  <thead>\n",
       "    <tr style=\"text-align: right;\">\n",
       "      <th></th>\n",
       "      <th>Postal Code</th>\n",
       "      <th>Monthly</th>\n",
       "      <th>Number of baths</th>\n",
       "    </tr>\n",
       "  </thead>\n",
       "  <tbody>\n",
       "    <tr>\n",
       "      <th>0</th>\n",
       "      <td>V3J 1M8</td>\n",
       "      <td>2268.</td>\n",
       "      <td>Bathrooms: 1</td>\n",
       "    </tr>\n",
       "    <tr>\n",
       "      <th>1</th>\n",
       "      <td>V6E 1C8</td>\n",
       "      <td>2650.</td>\n",
       "      <td>Bathrooms: 1</td>\n",
       "    </tr>\n",
       "    <tr>\n",
       "      <th>2</th>\n",
       "      <td></td>\n",
       "      <td>1640.</td>\n",
       "      <td>Bathrooms: 1</td>\n",
       "    </tr>\n",
       "    <tr>\n",
       "      <th>3</th>\n",
       "      <td>V6E 1L7</td>\n",
       "      <td>2369.</td>\n",
       "      <td>Bathrooms: 1</td>\n",
       "    </tr>\n",
       "    <tr>\n",
       "      <th>4</th>\n",
       "      <td>V6E 4R7</td>\n",
       "      <td>2195.</td>\n",
       "      <td>Bathrooms: 1</td>\n",
       "    </tr>\n",
       "    <tr>\n",
       "      <th>5</th>\n",
       "      <td>V6E 4S7</td>\n",
       "      <td>2375.</td>\n",
       "      <td>Bathrooms: 1</td>\n",
       "    </tr>\n",
       "    <tr>\n",
       "      <th>6</th>\n",
       "      <td>V5T 0H1</td>\n",
       "      <td>2325.</td>\n",
       "      <td>Bathrooms: 1</td>\n",
       "    </tr>\n",
       "    <tr>\n",
       "      <th>7</th>\n",
       "      <td>V6Z 1W4</td>\n",
       "      <td>2900.</td>\n",
       "      <td>Bathrooms: 1</td>\n",
       "    </tr>\n",
       "    <tr>\n",
       "      <th>8</th>\n",
       "      <td>V6G 1X7</td>\n",
       "      <td>2570.</td>\n",
       "      <td>Bathrooms: 1</td>\n",
       "    </tr>\n",
       "    <tr>\n",
       "      <th>9</th>\n",
       "      <td>V6K 1V8</td>\n",
       "      <td>2510.</td>\n",
       "      <td>Bathrooms: 1</td>\n",
       "    </tr>\n",
       "    <tr>\n",
       "      <th>10</th>\n",
       "      <td>V6G 1L3</td>\n",
       "      <td>2650.</td>\n",
       "      <td>Bathrooms: 1</td>\n",
       "    </tr>\n",
       "    <tr>\n",
       "      <th>11</th>\n",
       "      <td>V6H 1R2</td>\n",
       "      <td>2450.</td>\n",
       "      <td>Bathrooms: 1</td>\n",
       "    </tr>\n",
       "    <tr>\n",
       "      <th>12</th>\n",
       "      <td>V6G 1G6</td>\n",
       "      <td>2450.</td>\n",
       "      <td>Bathrooms: 1</td>\n",
       "    </tr>\n",
       "    <tr>\n",
       "      <th>13</th>\n",
       "      <td>V6G 1G6</td>\n",
       "      <td>2480.</td>\n",
       "      <td>Bathrooms: 1</td>\n",
       "    </tr>\n",
       "    <tr>\n",
       "      <th>14</th>\n",
       "      <td></td>\n",
       "      <td>2980.</td>\n",
       "      <td>Bathrooms: 1</td>\n",
       "    </tr>\n",
       "    <tr>\n",
       "      <th>15</th>\n",
       "      <td>V6G 2A1</td>\n",
       "      <td>2200.</td>\n",
       "      <td>Bathrooms: 1</td>\n",
       "    </tr>\n",
       "  </tbody>\n",
       "</table>\n",
       "</div>"
      ],
      "text/plain": [
       "   Postal Code Monthly Number of baths\n",
       "0      V3J 1M8   2268.    Bathrooms: 1\n",
       "1      V6E 1C8   2650.    Bathrooms: 1\n",
       "2                1640.    Bathrooms: 1\n",
       "3      V6E 1L7   2369.    Bathrooms: 1\n",
       "4      V6E 4R7   2195.    Bathrooms: 1\n",
       "5      V6E 4S7   2375.    Bathrooms: 1\n",
       "6      V5T 0H1   2325.    Bathrooms: 1\n",
       "7      V6Z 1W4   2900.    Bathrooms: 1\n",
       "8      V6G 1X7   2570.    Bathrooms: 1\n",
       "9      V6K 1V8   2510.    Bathrooms: 1\n",
       "10     V6G 1L3   2650.    Bathrooms: 1\n",
       "11     V6H 1R2   2450.    Bathrooms: 1\n",
       "12     V6G 1G6   2450.    Bathrooms: 1\n",
       "13     V6G 1G6   2480.    Bathrooms: 1\n",
       "14               2980.    Bathrooms: 1\n",
       "15     V6G 2A1   2200.    Bathrooms: 1"
      ]
     },
     "execution_count": 289,
     "metadata": {},
     "output_type": "execute_result"
    }
   ],
   "source": [
    "kijiji(content2)"
   ]
  },
  {
   "cell_type": "markdown",
   "metadata": {},
   "source": [
    "### 1 bedroom"
   ]
  },
  {
   "cell_type": "code",
   "execution_count": null,
   "metadata": {},
   "outputs": [],
   "source": [
    "URL2 = \"https://www.kijiji.ca/b-apartments-condos/vancouver-downtown-west-end/1+bedroom/c37l1700292a27949001\"\n",
    "requestURL2 = requests.get(URL2)\n",
    "contentOneBedRoom = requestURL2.content"
   ]
  },
  {
   "cell_type": "code",
   "execution_count": null,
   "metadata": {},
   "outputs": [],
   "source": [
    "kijiji(contentOneBedRoom)"
   ]
  },
  {
   "cell_type": "markdown",
   "metadata": {},
   "source": [
    "### 2 bed"
   ]
  },
  {
   "cell_type": "code",
   "execution_count": null,
   "metadata": {},
   "outputs": [],
   "source": [
    "URL2 = \"https://www.kijiji.ca/b-apartments-condos/vancouver-downtown-west-end/2+bedrooms-apartment/c37l1700292a27949001a29276001\"\n",
    "requestURL2 = requests.get(URL2)\n",
    "contentTwoBedRoom = requestURL2.content"
   ]
  },
  {
   "cell_type": "code",
   "execution_count": null,
   "metadata": {},
   "outputs": [],
   "source": [
    "kijiji(contentTwoBedRoom)"
   ]
  },
  {
   "cell_type": "markdown",
   "metadata": {},
   "source": [
    "### 3 bed"
   ]
  },
  {
   "cell_type": "code",
   "execution_count": null,
   "metadata": {},
   "outputs": [],
   "source": [
    "URL2 = \"https://www.kijiji.ca/b-apartments-condos/vancouver-downtown-west-end/3+bedroom/c37l1700292a27949001\"\n",
    "requestURL2 = requests.get(URL2)\n",
    "contentThreeBedRoom = requestURL2.content"
   ]
  },
  {
   "cell_type": "code",
   "execution_count": null,
   "metadata": {},
   "outputs": [],
   "source": [
    "kijiji(contentThreeBedRoom)"
   ]
  },
  {
   "cell_type": "markdown",
   "metadata": {},
   "source": [
    "## Pad Mapper"
   ]
  },
  {
   "cell_type": "code",
   "execution_count": 495,
   "metadata": {},
   "outputs": [],
   "source": [
    "def padMapper(content): \n",
    "    soupPad = BeautifulSoup(content, \"html.parser\").find('body')\n",
    "\n",
    "    realEstate = soupPad.findAll(\"div\", class_=\"ListItemMobile_text__3KFu_\")\n",
    "    realEstate2 = [x.text.strip() for x in realEstate]\n",
    "    return realEstate2"
   ]
  },
  {
   "cell_type": "markdown",
   "metadata": {},
   "source": [
    "### Studio "
   ]
  },
  {
   "cell_type": "code",
   "execution_count": 496,
   "metadata": {},
   "outputs": [],
   "source": [
    "URL3 = \"https://www.padmapper.com/apartments/vancouver-bc/west-end/studios\"\n",
    "requestURL3 = requests.get(URL3)\n",
    "content3 = requestURL3.content"
   ]
  },
  {
   "cell_type": "code",
   "execution_count": 497,
   "metadata": {},
   "outputs": [
    {
     "data": {
      "text/plain": [
       "['$1,900+',\n",
       " '$2,200',\n",
       " '$2,369',\n",
       " '$2,495',\n",
       " '$2,700+',\n",
       " '$1,925',\n",
       " '$2,268',\n",
       " '$2,500',\n",
       " '$2,095',\n",
       " '$1,625',\n",
       " '$2,000',\n",
       " '$2,570',\n",
       " '$2,650',\n",
       " '$2,480',\n",
       " '$2,650',\n",
       " '$3,500']"
      ]
     },
     "execution_count": 497,
     "metadata": {},
     "output_type": "execute_result"
    }
   ],
   "source": [
    "padMapper(content3)"
   ]
  },
  {
   "cell_type": "markdown",
   "metadata": {},
   "source": [
    "### 1 bathrooms"
   ]
  },
  {
   "cell_type": "code",
   "execution_count": null,
   "metadata": {},
   "outputs": [],
   "source": [
    "URL4 = \"https://www.padmapper.com/apartments/vancouver-bc/west-end/1-beds\"\n",
    "requestURL4 = requests.get(URL4)\n",
    "content4 = requestURL4.content\n",
    "\n",
    "padMapper(content4)"
   ]
  },
  {
   "cell_type": "markdown",
   "metadata": {},
   "source": [
    "### 2 bathrooms"
   ]
  },
  {
   "cell_type": "code",
   "execution_count": null,
   "metadata": {},
   "outputs": [],
   "source": [
    "URL4 = \"https://www.padmapper.com/apartments/vancouver-bc/west-end/2-beds\"\n",
    "requestURL4 = requests.get(URL4)\n",
    "content4 = requestURL4.content\n",
    "\n",
    "padMapper(content4)"
   ]
  },
  {
   "cell_type": "code",
   "execution_count": null,
   "metadata": {},
   "outputs": [],
   "source": [
    "URL4 = \"https://www.padmapper.com/apartments/vancouver-bc/west-end/3-beds\"\n",
    "requestURL4 = requests.get(URL4)\n",
    "content4 = requestURL4.content\n",
    "\n",
    "padMapper(content4)"
   ]
  },
  {
   "cell_type": "markdown",
   "metadata": {},
   "source": [
    "## Rent cafe"
   ]
  },
  {
   "cell_type": "code",
   "execution_count": 364,
   "metadata": {},
   "outputs": [],
   "source": [
    "import json\n",
    "\n"
   ]
  },
  {
   "cell_type": "code",
   "execution_count": 498,
   "metadata": {},
   "outputs": [],
   "source": [
    "def rentCafe(content): \n",
    "    soup3 = BeautifulSoup(content, \"html.parser\")\n",
    "    realEstate = soup3.findAll([\"li\", \"div\"], class_=[\"listing-beds-rent data-rent-ask\",\"data-rent\"])\n",
    "    rentInfo = [x.strip() for x in soup3.findAll(\"script\", type=\"text/javascript\")[4]]\n",
    "    rent = [x.text.strip() for x in realEstate]\n",
    "    \n",
    "    jsonData = json.loads(rentInfo[0][47:-3])\n",
    "    baths, beds, PostalCode, area = [], [], [], []\n",
    "    for i in range(len(jsonData)): \n",
    "        baths.append(jsonData[i]['Baths']), beds.append(jsonData[i]['Beds']), PostalCode.append(jsonData[i]['AddressFormatted'][-7:]), area.append(jsonData[i][\"Area\"])\n",
    "    dict = {'PostalCode':PostalCode,'Monthly': rent,  'Number of beds': beds, 'Number of baths': baths, 'Area': area}\n",
    "    df= pd.DataFrame(dict)\n",
    "    df['Monthly'] = df['Monthly'].apply(lambda x:x.replace('$','').replace(',','').replace(\"+\",'').strip())\n",
    "    return df\n",
    "   \n",
    "    "
   ]
  },
  {
   "cell_type": "code",
   "execution_count": 499,
   "metadata": {},
   "outputs": [
    {
     "data": {
      "text/html": [
       "<div>\n",
       "<style scoped>\n",
       "    .dataframe tbody tr th:only-of-type {\n",
       "        vertical-align: middle;\n",
       "    }\n",
       "\n",
       "    .dataframe tbody tr th {\n",
       "        vertical-align: top;\n",
       "    }\n",
       "\n",
       "    .dataframe thead th {\n",
       "        text-align: right;\n",
       "    }\n",
       "</style>\n",
       "<table border=\"1\" class=\"dataframe\">\n",
       "  <thead>\n",
       "    <tr style=\"text-align: right;\">\n",
       "      <th></th>\n",
       "      <th>PostalCode</th>\n",
       "      <th>Monthly</th>\n",
       "      <th>Number of beds</th>\n",
       "      <th>Number of baths</th>\n",
       "      <th>Area</th>\n",
       "    </tr>\n",
       "  </thead>\n",
       "  <tbody>\n",
       "    <tr>\n",
       "      <th>0</th>\n",
       "      <td>V6E 4S7</td>\n",
       "      <td>Ask for pricing</td>\n",
       "      <td>Studio</td>\n",
       "      <td>1 Bath</td>\n",
       "      <td>371 - 1,291 Sq.Ft.</td>\n",
       "    </tr>\n",
       "    <tr>\n",
       "      <th>1</th>\n",
       "      <td>V6G 2L2</td>\n",
       "      <td>Ask for pricing</td>\n",
       "      <td>Studio</td>\n",
       "      <td>2 Baths</td>\n",
       "      <td>450 - 1,200 Sq.Ft.</td>\n",
       "    </tr>\n",
       "    <tr>\n",
       "      <th>2</th>\n",
       "      <td>V6G 3A3</td>\n",
       "      <td>Ask for pricing</td>\n",
       "      <td>Studio</td>\n",
       "      <td>1 Bath</td>\n",
       "      <td>465 - 950 Sq.Ft.</td>\n",
       "    </tr>\n",
       "    <tr>\n",
       "      <th>3</th>\n",
       "      <td>V5N 1V9</td>\n",
       "      <td>2025</td>\n",
       "      <td>Studio</td>\n",
       "      <td>1 Bath</td>\n",
       "      <td>None</td>\n",
       "    </tr>\n",
       "    <tr>\n",
       "      <th>4</th>\n",
       "      <td>V7L 3J4</td>\n",
       "      <td>2240</td>\n",
       "      <td>Studio</td>\n",
       "      <td>1 Bath</td>\n",
       "      <td>480 - 1,064 Sq.Ft.</td>\n",
       "    </tr>\n",
       "  </tbody>\n",
       "</table>\n",
       "</div>"
      ],
      "text/plain": [
       "  PostalCode          Monthly Number of beds Number of baths  \\\n",
       "0    V6E 4S7  Ask for pricing         Studio          1 Bath   \n",
       "1    V6G 2L2  Ask for pricing         Studio         2 Baths   \n",
       "2    V6G 3A3  Ask for pricing         Studio          1 Bath   \n",
       "3    V5N 1V9             2025         Studio          1 Bath   \n",
       "4    V7L 3J4             2240         Studio          1 Bath   \n",
       "\n",
       "                 Area  \n",
       "0  371 - 1,291 Sq.Ft.  \n",
       "1  450 - 1,200 Sq.Ft.  \n",
       "2    465 - 950 Sq.Ft.  \n",
       "3                None  \n",
       "4  480 - 1,064 Sq.Ft.  "
      ]
     },
     "execution_count": 499,
     "metadata": {},
     "output_type": "execute_result"
    }
   ],
   "source": [
    "URLCafe1 = \"https://www.rentcafe.com/studio-apartments-for-rent/ca/bc/vancouver/west-end-vancouver/\"\n",
    "requestURLCafe1 = requests.get(URLCafe1)\n",
    "contentCafe1 = requestURLCafe1.content\n",
    "\n",
    "rentCafe(contentCafe1)"
   ]
  },
  {
   "cell_type": "code",
   "execution_count": 500,
   "metadata": {},
   "outputs": [
    {
     "data": {
      "text/html": [
       "<div>\n",
       "<style scoped>\n",
       "    .dataframe tbody tr th:only-of-type {\n",
       "        vertical-align: middle;\n",
       "    }\n",
       "\n",
       "    .dataframe tbody tr th {\n",
       "        vertical-align: top;\n",
       "    }\n",
       "\n",
       "    .dataframe thead th {\n",
       "        text-align: right;\n",
       "    }\n",
       "</style>\n",
       "<table border=\"1\" class=\"dataframe\">\n",
       "  <thead>\n",
       "    <tr style=\"text-align: right;\">\n",
       "      <th></th>\n",
       "      <th>PostalCode</th>\n",
       "      <th>Monthly</th>\n",
       "      <th>Number of beds</th>\n",
       "      <th>Number of baths</th>\n",
       "      <th>Area</th>\n",
       "    </tr>\n",
       "  </thead>\n",
       "  <tbody>\n",
       "    <tr>\n",
       "      <th>0</th>\n",
       "      <td>V6E 4S7</td>\n",
       "      <td>Ask for pricing</td>\n",
       "      <td>1 Bed</td>\n",
       "      <td>1 Bath</td>\n",
       "      <td>371 - 1,291 Sq.Ft.</td>\n",
       "    </tr>\n",
       "    <tr>\n",
       "      <th>1</th>\n",
       "      <td>V6G 1X3</td>\n",
       "      <td>2350</td>\n",
       "      <td>1 Bed</td>\n",
       "      <td>1 Bath</td>\n",
       "      <td>450 - 500 Sq.Ft.</td>\n",
       "    </tr>\n",
       "    <tr>\n",
       "      <th>2</th>\n",
       "      <td>V6G 1X4</td>\n",
       "      <td>2175</td>\n",
       "      <td>1 Bed</td>\n",
       "      <td>1 Bath</td>\n",
       "      <td>450 - 650 Sq.Ft.</td>\n",
       "    </tr>\n",
       "    <tr>\n",
       "      <th>3</th>\n",
       "      <td>V6G 2L2</td>\n",
       "      <td>2950</td>\n",
       "      <td>1 Bed</td>\n",
       "      <td>1.5 Baths</td>\n",
       "      <td>450 - 1,200 Sq.Ft.</td>\n",
       "    </tr>\n",
       "    <tr>\n",
       "      <th>4</th>\n",
       "      <td>V6G 3A3</td>\n",
       "      <td>Ask for pricing</td>\n",
       "      <td>1 Bed</td>\n",
       "      <td>1-1.5 Baths</td>\n",
       "      <td>465 - 950 Sq.Ft.</td>\n",
       "    </tr>\n",
       "    <tr>\n",
       "      <th>5</th>\n",
       "      <td>V6Z 0E7</td>\n",
       "      <td>2800</td>\n",
       "      <td>1 Bed</td>\n",
       "      <td>1 Bath</td>\n",
       "      <td>497 Sq.Ft.</td>\n",
       "    </tr>\n",
       "    <tr>\n",
       "      <th>6</th>\n",
       "      <td>V6G 2X3</td>\n",
       "      <td>Ask for pricing</td>\n",
       "      <td>1 Bed</td>\n",
       "      <td>1 Bath</td>\n",
       "      <td>625 - 1,050 Sq.Ft.</td>\n",
       "    </tr>\n",
       "    <tr>\n",
       "      <th>7</th>\n",
       "      <td>V6B 0P4</td>\n",
       "      <td>2700</td>\n",
       "      <td>1 Bed</td>\n",
       "      <td>1 Bath</td>\n",
       "      <td>513 Sq.Ft.</td>\n",
       "    </tr>\n",
       "    <tr>\n",
       "      <th>8</th>\n",
       "      <td>V5L 2N1</td>\n",
       "      <td>2500</td>\n",
       "      <td>1 Bed</td>\n",
       "      <td>1 Bath</td>\n",
       "      <td>451 Sq.Ft.</td>\n",
       "    </tr>\n",
       "    <tr>\n",
       "      <th>9</th>\n",
       "      <td>V5N 1V9</td>\n",
       "      <td>2275</td>\n",
       "      <td>1 Bed</td>\n",
       "      <td>1 Bath</td>\n",
       "      <td>None</td>\n",
       "    </tr>\n",
       "    <tr>\n",
       "      <th>10</th>\n",
       "      <td>V7L 3J4</td>\n",
       "      <td>2270</td>\n",
       "      <td>1 Bed</td>\n",
       "      <td>1 Bath</td>\n",
       "      <td>480 - 1,064 Sq.Ft.</td>\n",
       "    </tr>\n",
       "    <tr>\n",
       "      <th>11</th>\n",
       "      <td>V6X 0T8</td>\n",
       "      <td>2100</td>\n",
       "      <td>1 Bed</td>\n",
       "      <td>1 Bath</td>\n",
       "      <td>657 Sq.Ft.</td>\n",
       "    </tr>\n",
       "  </tbody>\n",
       "</table>\n",
       "</div>"
      ],
      "text/plain": [
       "   PostalCode          Monthly Number of beds Number of baths  \\\n",
       "0     V6E 4S7  Ask for pricing          1 Bed          1 Bath   \n",
       "1     V6G 1X3             2350          1 Bed          1 Bath   \n",
       "2     V6G 1X4             2175          1 Bed          1 Bath   \n",
       "3     V6G 2L2             2950          1 Bed       1.5 Baths   \n",
       "4     V6G 3A3  Ask for pricing          1 Bed     1-1.5 Baths   \n",
       "5     V6Z 0E7             2800          1 Bed          1 Bath   \n",
       "6     V6G 2X3  Ask for pricing          1 Bed          1 Bath   \n",
       "7     V6B 0P4             2700          1 Bed          1 Bath   \n",
       "8     V5L 2N1             2500          1 Bed          1 Bath   \n",
       "9     V5N 1V9             2275          1 Bed          1 Bath   \n",
       "10    V7L 3J4             2270          1 Bed          1 Bath   \n",
       "11    V6X 0T8             2100          1 Bed          1 Bath   \n",
       "\n",
       "                  Area  \n",
       "0   371 - 1,291 Sq.Ft.  \n",
       "1     450 - 500 Sq.Ft.  \n",
       "2     450 - 650 Sq.Ft.  \n",
       "3   450 - 1,200 Sq.Ft.  \n",
       "4     465 - 950 Sq.Ft.  \n",
       "5           497 Sq.Ft.  \n",
       "6   625 - 1,050 Sq.Ft.  \n",
       "7           513 Sq.Ft.  \n",
       "8           451 Sq.Ft.  \n",
       "9                 None  \n",
       "10  480 - 1,064 Sq.Ft.  \n",
       "11          657 Sq.Ft.  "
      ]
     },
     "execution_count": 500,
     "metadata": {},
     "output_type": "execute_result"
    }
   ],
   "source": [
    "URLCafe1 = \"https://www.rentcafe.com/1-bedroom-apartments-for-rent/ca/bc/vancouver/west-end-vancouver/\"\n",
    "requestURLCafe1 = requests.get(URLCafe1)\n",
    "contentCafe1 = requestURLCafe1.content\n",
    "\n",
    "rentCafe(contentCafe1)"
   ]
  },
  {
   "cell_type": "code",
   "execution_count": 501,
   "metadata": {},
   "outputs": [
    {
     "data": {
      "text/html": [
       "<div>\n",
       "<style scoped>\n",
       "    .dataframe tbody tr th:only-of-type {\n",
       "        vertical-align: middle;\n",
       "    }\n",
       "\n",
       "    .dataframe tbody tr th {\n",
       "        vertical-align: top;\n",
       "    }\n",
       "\n",
       "    .dataframe thead th {\n",
       "        text-align: right;\n",
       "    }\n",
       "</style>\n",
       "<table border=\"1\" class=\"dataframe\">\n",
       "  <thead>\n",
       "    <tr style=\"text-align: right;\">\n",
       "      <th></th>\n",
       "      <th>PostalCode</th>\n",
       "      <th>Monthly</th>\n",
       "      <th>Number of beds</th>\n",
       "      <th>Number of baths</th>\n",
       "      <th>Area</th>\n",
       "    </tr>\n",
       "  </thead>\n",
       "  <tbody>\n",
       "    <tr>\n",
       "      <th>0</th>\n",
       "      <td>V6E 4S7</td>\n",
       "      <td>3650</td>\n",
       "      <td>2 Beds</td>\n",
       "      <td>1-2 Baths</td>\n",
       "      <td>371 - 1,291 Sq.Ft.</td>\n",
       "    </tr>\n",
       "    <tr>\n",
       "      <th>1</th>\n",
       "      <td>V6G 2L2</td>\n",
       "      <td>Ask for pricing</td>\n",
       "      <td>2 Beds</td>\n",
       "      <td>1.5 Baths</td>\n",
       "      <td>450 - 1,200 Sq.Ft.</td>\n",
       "    </tr>\n",
       "    <tr>\n",
       "      <th>2</th>\n",
       "      <td>V6G 3A3</td>\n",
       "      <td>3050</td>\n",
       "      <td>2 Beds</td>\n",
       "      <td>1.5-2 Baths</td>\n",
       "      <td>465 - 950 Sq.Ft.</td>\n",
       "    </tr>\n",
       "    <tr>\n",
       "      <th>3</th>\n",
       "      <td>V6G 2X3</td>\n",
       "      <td>Ask for pricing</td>\n",
       "      <td>2 Beds</td>\n",
       "      <td>1-1.5 Baths</td>\n",
       "      <td>625 - 1,050 Sq.Ft.</td>\n",
       "    </tr>\n",
       "    <tr>\n",
       "      <th>4</th>\n",
       "      <td>V6Z1W4</td>\n",
       "      <td>4500</td>\n",
       "      <td>2 Beds</td>\n",
       "      <td>2 Baths</td>\n",
       "      <td>814 Sq.Ft.</td>\n",
       "    </tr>\n",
       "    <tr>\n",
       "      <th>5</th>\n",
       "      <td>V6B 0E8</td>\n",
       "      <td>3800</td>\n",
       "      <td>2 Beds</td>\n",
       "      <td>2 Baths</td>\n",
       "      <td>1,088 Sq.Ft.</td>\n",
       "    </tr>\n",
       "    <tr>\n",
       "      <th>6</th>\n",
       "      <td>V6A 0G3</td>\n",
       "      <td>2650</td>\n",
       "      <td>2 Beds</td>\n",
       "      <td>1 Bath</td>\n",
       "      <td>764 Sq.Ft.</td>\n",
       "    </tr>\n",
       "    <tr>\n",
       "      <th>7</th>\n",
       "      <td>V5N 1V9</td>\n",
       "      <td>3250</td>\n",
       "      <td>2 Beds</td>\n",
       "      <td>1-2 Baths</td>\n",
       "      <td>None</td>\n",
       "    </tr>\n",
       "    <tr>\n",
       "      <th>8</th>\n",
       "      <td>V5V 3E2</td>\n",
       "      <td>2800</td>\n",
       "      <td>2 Beds</td>\n",
       "      <td>1 Bath</td>\n",
       "      <td>800 Sq.Ft.</td>\n",
       "    </tr>\n",
       "    <tr>\n",
       "      <th>9</th>\n",
       "      <td>V7L 3J4</td>\n",
       "      <td>2950</td>\n",
       "      <td>2 Beds</td>\n",
       "      <td>1-2 Baths</td>\n",
       "      <td>480 - 1,064 Sq.Ft.</td>\n",
       "    </tr>\n",
       "    <tr>\n",
       "      <th>10</th>\n",
       "      <td>V5S 2Y4</td>\n",
       "      <td>2100</td>\n",
       "      <td>2 Beds</td>\n",
       "      <td>2 Baths</td>\n",
       "      <td>725 Sq.Ft.</td>\n",
       "    </tr>\n",
       "    <tr>\n",
       "      <th>11</th>\n",
       "      <td>V3L 0J9</td>\n",
       "      <td>Ask for pricing</td>\n",
       "      <td>2 Beds</td>\n",
       "      <td>2 Baths</td>\n",
       "      <td>900 Sq.Ft.</td>\n",
       "    </tr>\n",
       "  </tbody>\n",
       "</table>\n",
       "</div>"
      ],
      "text/plain": [
       "   PostalCode          Monthly Number of beds Number of baths  \\\n",
       "0     V6E 4S7             3650         2 Beds       1-2 Baths   \n",
       "1     V6G 2L2  Ask for pricing         2 Beds       1.5 Baths   \n",
       "2     V6G 3A3             3050         2 Beds     1.5-2 Baths   \n",
       "3     V6G 2X3  Ask for pricing         2 Beds     1-1.5 Baths   \n",
       "4      V6Z1W4             4500         2 Beds         2 Baths   \n",
       "5     V6B 0E8             3800         2 Beds         2 Baths   \n",
       "6     V6A 0G3             2650         2 Beds          1 Bath   \n",
       "7     V5N 1V9             3250         2 Beds       1-2 Baths   \n",
       "8     V5V 3E2             2800         2 Beds          1 Bath   \n",
       "9     V7L 3J4             2950         2 Beds       1-2 Baths   \n",
       "10    V5S 2Y4             2100         2 Beds         2 Baths   \n",
       "11    V3L 0J9  Ask for pricing         2 Beds         2 Baths   \n",
       "\n",
       "                  Area  \n",
       "0   371 - 1,291 Sq.Ft.  \n",
       "1   450 - 1,200 Sq.Ft.  \n",
       "2     465 - 950 Sq.Ft.  \n",
       "3   625 - 1,050 Sq.Ft.  \n",
       "4           814 Sq.Ft.  \n",
       "5         1,088 Sq.Ft.  \n",
       "6           764 Sq.Ft.  \n",
       "7                 None  \n",
       "8           800 Sq.Ft.  \n",
       "9   480 - 1,064 Sq.Ft.  \n",
       "10          725 Sq.Ft.  \n",
       "11          900 Sq.Ft.  "
      ]
     },
     "execution_count": 501,
     "metadata": {},
     "output_type": "execute_result"
    }
   ],
   "source": [
    "URLCafe1 = \"https://www.rentcafe.com/2-bedroom-apartments-for-rent/ca/bc/vancouver/west-end-vancouver/\"\n",
    "requestURLCafe1 = requests.get(URLCafe1)\n",
    "contentCafe1 = requestURLCafe1.content\n",
    "\n",
    "rentCafe(contentCafe1)"
   ]
  },
  {
   "cell_type": "code",
   "execution_count": 494,
   "metadata": {},
   "outputs": [
    {
     "data": {
      "text/html": [
       "<div>\n",
       "<style scoped>\n",
       "    .dataframe tbody tr th:only-of-type {\n",
       "        vertical-align: middle;\n",
       "    }\n",
       "\n",
       "    .dataframe tbody tr th {\n",
       "        vertical-align: top;\n",
       "    }\n",
       "\n",
       "    .dataframe thead th {\n",
       "        text-align: right;\n",
       "    }\n",
       "</style>\n",
       "<table border=\"1\" class=\"dataframe\">\n",
       "  <thead>\n",
       "    <tr style=\"text-align: right;\">\n",
       "      <th></th>\n",
       "      <th>PostalCode</th>\n",
       "      <th>Monthly</th>\n",
       "      <th>Number of beds</th>\n",
       "      <th>Number of baths</th>\n",
       "    </tr>\n",
       "  </thead>\n",
       "  <tbody>\n",
       "    <tr>\n",
       "      <th>0</th>\n",
       "      <td>V6G 0C7</td>\n",
       "      <td>6500</td>\n",
       "      <td>3 Beds</td>\n",
       "      <td>2 Baths</td>\n",
       "    </tr>\n",
       "    <tr>\n",
       "      <th>1</th>\n",
       "      <td>V6K 1K6</td>\n",
       "      <td>4200</td>\n",
       "      <td>3 Beds</td>\n",
       "      <td>2 Baths</td>\n",
       "    </tr>\n",
       "    <tr>\n",
       "      <th>2</th>\n",
       "      <td>V6R 2W5</td>\n",
       "      <td>12000</td>\n",
       "      <td>3 Beds</td>\n",
       "      <td>2.5 Baths</td>\n",
       "    </tr>\n",
       "    <tr>\n",
       "      <th>3</th>\n",
       "      <td>V5V 0B3</td>\n",
       "      <td>2850</td>\n",
       "      <td>3 Beds</td>\n",
       "      <td>2 Baths</td>\n",
       "    </tr>\n",
       "    <tr>\n",
       "      <th>4</th>\n",
       "      <td>V5N 1V9</td>\n",
       "      <td>4050</td>\n",
       "      <td>3 Beds</td>\n",
       "      <td>2 Baths</td>\n",
       "    </tr>\n",
       "    <tr>\n",
       "      <th>5</th>\n",
       "      <td>V7L 3J4</td>\n",
       "      <td>3700</td>\n",
       "      <td>3 Beds</td>\n",
       "      <td>2 Baths</td>\n",
       "    </tr>\n",
       "  </tbody>\n",
       "</table>\n",
       "</div>"
      ],
      "text/plain": [
       "  PostalCode Monthly Number of beds Number of baths\n",
       "0    V6G 0C7    6500         3 Beds         2 Baths\n",
       "1    V6K 1K6    4200         3 Beds         2 Baths\n",
       "2    V6R 2W5   12000         3 Beds       2.5 Baths\n",
       "3    V5V 0B3    2850         3 Beds         2 Baths\n",
       "4    V5N 1V9    4050         3 Beds         2 Baths\n",
       "5    V7L 3J4    3700         3 Beds         2 Baths"
      ]
     },
     "execution_count": 494,
     "metadata": {},
     "output_type": "execute_result"
    }
   ],
   "source": [
    "URLCafe1 = \"https://www.rentcafe.com/3-bedroom-apartments-for-rent/ca/bc/vancouver/west-end-vancouver/\"\n",
    "requestURLCafe1 = requests.get(URLCafe1)\n",
    "contentCafe1 = requestURLCafe1.content\n",
    "\n",
    "rentCafe(contentCafe1)"
   ]
  }
 ],
 "metadata": {
  "kernelspec": {
   "display_name": "Python 3.10.0 64-bit ('jobby': venv)",
   "language": "python",
   "name": "python3"
  },
  "language_info": {
   "codemirror_mode": {
    "name": "ipython",
    "version": 3
   },
   "file_extension": ".py",
   "mimetype": "text/x-python",
   "name": "python",
   "nbconvert_exporter": "python",
   "pygments_lexer": "ipython3",
   "version": "3.10.0"
  },
  "orig_nbformat": 4,
  "vscode": {
   "interpreter": {
    "hash": "48d350f5f181397a19360741f9002fc700ff8626a9f57dcf745937f45eb19683"
   }
  }
 },
 "nbformat": 4,
 "nbformat_minor": 2
}
