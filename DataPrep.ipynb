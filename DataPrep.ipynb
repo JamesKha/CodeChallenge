{
 "cells": [
  {
   "cell_type": "code",
   "execution_count": 2,
   "metadata": {},
   "outputs": [],
   "source": [
    "import pandas as pd \n",
    "import requests\n",
    "from bs4 import BeautifulSoup\n",
    "import re"
   ]
  },
  {
   "cell_type": "markdown",
   "metadata": {},
   "source": [
    "# Getting real estate listings\n"
   ]
  },
  {
   "cell_type": "markdown",
   "metadata": {},
   "source": [
    "## Zumber"
   ]
  },
  {
   "cell_type": "code",
   "execution_count": 3,
   "metadata": {},
   "outputs": [],
   "source": [
    "def Zumber(content): \n",
    "    soup = BeautifulSoup(content, \"html.parser\")\n",
    "    PostalCode =  [x.text.replace(',', '').strip() for x in soup.find_all(\"span\", class_=\"css-wmtwp4\")]\n",
    "    rent = [x.text for x in soup.find_all(\"div\", class_=\"css-uzc059\")]\n",
    "    bed_bath = [x.text for x in soup.find_all(\"div\", class_=\"css-1iq6kk8\")]\n",
    "    dateListed = [x.text for x in soup.find_all('div', 'css-174pdh3')]\n",
    "    bed,bath = [x.split('•')[0] for x in bed_bath],  [x.split('•')[1] for x in bed_bath]\n",
    "\n",
    "\n",
    "    dict = {'DateListed': dateListed, 'PostalCode':PostalCode,'Monthly': rent,  'Number of beds': bed, 'Number of baths': bath}\n",
    "    df= pd.DataFrame(dict)\n",
    "    df.loc[df['Monthly'].astype(str).str.contains('%'), 'Monthly'] = df['Monthly'].astype(str).str[:6]\n",
    "    \n",
    "    df['Monthly'] = df['Monthly'].apply(lambda x:x.replace('$','').replace(',','').replace(\"+\",'').strip())\n",
    "    df['Monthly']= df['Monthly'].replace({'K':'*1e3'}, regex=True).map(pd.eval)\n",
    "    return df"
   ]
  },
  {
   "cell_type": "markdown",
   "metadata": {},
   "source": [
    "### Studios"
   ]
  },
  {
   "cell_type": "code",
   "execution_count": 4,
   "metadata": {},
   "outputs": [],
   "source": [
    "URL = \"https://www.zumper.com/apartments-for-rent/vancouver-bc/west-end/studios\"\n",
    "requestURL = requests.get(URL)\n",
    "content = requestURL.content"
   ]
  },
  {
   "cell_type": "code",
   "execution_count": 5,
   "metadata": {},
   "outputs": [],
   "source": [
    "zumber0 = Zumber(content)"
   ]
  },
  {
   "cell_type": "markdown",
   "metadata": {},
   "source": [
    "### 1 bed"
   ]
  },
  {
   "cell_type": "code",
   "execution_count": 6,
   "metadata": {},
   "outputs": [],
   "source": [
    "URL2 = \"https://www.zumper.com/apartments-for-rent/vancouver-bc/west-end/1-beds\"\n",
    "requestURL2 = requests.get(URL2)\n",
    "content2 = requestURL2.content"
   ]
  },
  {
   "cell_type": "code",
   "execution_count": 7,
   "metadata": {},
   "outputs": [],
   "source": [
    "zumber1= Zumber(content2)"
   ]
  },
  {
   "cell_type": "markdown",
   "metadata": {},
   "source": [
    "## 2 Beds"
   ]
  },
  {
   "cell_type": "code",
   "execution_count": 8,
   "metadata": {},
   "outputs": [],
   "source": [
    "URL3 = \"https://www.zumper.com/apartments-for-rent/vancouver-bc/west-end/2-beds\"\n",
    "requestURL3 = requests.get(URL3)\n",
    "content3 = requestURL3.content\n"
   ]
  },
  {
   "cell_type": "code",
   "execution_count": 9,
   "metadata": {},
   "outputs": [],
   "source": [
    "zumber2 = Zumber(content3)"
   ]
  },
  {
   "cell_type": "markdown",
   "metadata": {},
   "source": [
    "### 3 beds"
   ]
  },
  {
   "cell_type": "code",
   "execution_count": 10,
   "metadata": {},
   "outputs": [],
   "source": [
    "URL4 = \"https://www.zumper.com/apartments-for-rent/vancouver-bc/west-end/3-beds\"\n",
    "requestURL4 = requests.get(URL4)\n",
    "content4 = requestURL4.content\n"
   ]
  },
  {
   "cell_type": "code",
   "execution_count": 11,
   "metadata": {},
   "outputs": [],
   "source": [
    "zumber3 = Zumber(content4)"
   ]
  },
  {
   "cell_type": "markdown",
   "metadata": {},
   "source": [
    "# Evaluation"
   ]
  },
  {
   "cell_type": "code",
   "execution_count": 12,
   "metadata": {},
   "outputs": [],
   "source": [
    "mainZumberDF = pd.concat([zumber0, zumber1, zumber2, zumber3])"
   ]
  },
  {
   "cell_type": "code",
   "execution_count": 13,
   "metadata": {},
   "outputs": [
    {
     "data": {
      "text/html": [
       "<div>\n",
       "<style scoped>\n",
       "    .dataframe tbody tr th:only-of-type {\n",
       "        vertical-align: middle;\n",
       "    }\n",
       "\n",
       "    .dataframe tbody tr th {\n",
       "        vertical-align: top;\n",
       "    }\n",
       "\n",
       "    .dataframe thead th {\n",
       "        text-align: right;\n",
       "    }\n",
       "</style>\n",
       "<table border=\"1\" class=\"dataframe\">\n",
       "  <thead>\n",
       "    <tr style=\"text-align: right;\">\n",
       "      <th></th>\n",
       "      <th>DateListed</th>\n",
       "      <th>PostalCode</th>\n",
       "      <th>Monthly</th>\n",
       "      <th>Number of beds</th>\n",
       "      <th>Number of baths</th>\n",
       "    </tr>\n",
       "  </thead>\n",
       "  <tbody>\n",
       "    <tr>\n",
       "      <th>0</th>\n",
       "      <td>2d ago</td>\n",
       "      <td>V6G 1P5</td>\n",
       "      <td>1900.0</td>\n",
       "      <td>Studio</td>\n",
       "      <td>1</td>\n",
       "    </tr>\n",
       "    <tr>\n",
       "      <th>1</th>\n",
       "      <td>17h ago</td>\n",
       "      <td>V6E 1H1</td>\n",
       "      <td>2700.0</td>\n",
       "      <td>Studio</td>\n",
       "      <td>1</td>\n",
       "    </tr>\n",
       "    <tr>\n",
       "      <th>2</th>\n",
       "      <td>1d ago</td>\n",
       "      <td>V6G 1G2</td>\n",
       "      <td>2500.0</td>\n",
       "      <td>Studio</td>\n",
       "      <td>1</td>\n",
       "    </tr>\n",
       "    <tr>\n",
       "      <th>3</th>\n",
       "      <td>1d ago</td>\n",
       "      <td>V6G 0C4</td>\n",
       "      <td>2095.0</td>\n",
       "      <td>Studio</td>\n",
       "      <td>1</td>\n",
       "    </tr>\n",
       "    <tr>\n",
       "      <th>4</th>\n",
       "      <td>1d ago</td>\n",
       "      <td>V6G 2A1</td>\n",
       "      <td>2200.0</td>\n",
       "      <td>Studio</td>\n",
       "      <td>1</td>\n",
       "    </tr>\n",
       "    <tr>\n",
       "      <th>...</th>\n",
       "      <td>...</td>\n",
       "      <td>...</td>\n",
       "      <td>...</td>\n",
       "      <td>...</td>\n",
       "      <td>...</td>\n",
       "    </tr>\n",
       "    <tr>\n",
       "      <th>19</th>\n",
       "      <td>5d+ ago</td>\n",
       "      <td>V6G 3H7</td>\n",
       "      <td>8500.0</td>\n",
       "      <td>3</td>\n",
       "      <td>2</td>\n",
       "    </tr>\n",
       "    <tr>\n",
       "      <th>20</th>\n",
       "      <td>5d+ ago</td>\n",
       "      <td>V6B 3E1</td>\n",
       "      <td>6700.0</td>\n",
       "      <td>3</td>\n",
       "      <td>3</td>\n",
       "    </tr>\n",
       "    <tr>\n",
       "      <th>21</th>\n",
       "      <td>1d ago</td>\n",
       "      <td>V6Z 1C3</td>\n",
       "      <td>8000.0</td>\n",
       "      <td>3</td>\n",
       "      <td>3</td>\n",
       "    </tr>\n",
       "    <tr>\n",
       "      <th>22</th>\n",
       "      <td>5d+ ago</td>\n",
       "      <td>V6G 3J6</td>\n",
       "      <td>5500.0</td>\n",
       "      <td>3</td>\n",
       "      <td>2</td>\n",
       "    </tr>\n",
       "    <tr>\n",
       "      <th>23</th>\n",
       "      <td>2d ago</td>\n",
       "      <td>V6Z 2Z3</td>\n",
       "      <td>4950.0</td>\n",
       "      <td>3</td>\n",
       "      <td>2</td>\n",
       "    </tr>\n",
       "  </tbody>\n",
       "</table>\n",
       "<p>114 rows × 5 columns</p>\n",
       "</div>"
      ],
      "text/plain": [
       "   DateListed PostalCode  Monthly Number of beds Number of baths\n",
       "0      2d ago    V6G 1P5   1900.0         Studio               1\n",
       "1     17h ago    V6E 1H1   2700.0         Studio               1\n",
       "2      1d ago    V6G 1G2   2500.0         Studio               1\n",
       "3      1d ago    V6G 0C4   2095.0         Studio               1\n",
       "4      1d ago    V6G 2A1   2200.0         Studio               1\n",
       "..        ...        ...      ...            ...             ...\n",
       "19    5d+ ago    V6G 3H7   8500.0              3               2\n",
       "20    5d+ ago    V6B 3E1   6700.0              3               3\n",
       "21     1d ago    V6Z 1C3   8000.0              3               3\n",
       "22    5d+ ago    V6G 3J6   5500.0              3               2\n",
       "23     2d ago    V6Z 2Z3   4950.0              3               2\n",
       "\n",
       "[114 rows x 5 columns]"
      ]
     },
     "execution_count": 13,
     "metadata": {},
     "output_type": "execute_result"
    }
   ],
   "source": [
    "mainZumberDF = pd.concat([zumber0, zumber1, zumber2, zumber3])\n",
    "mainZumberDF['Number of baths'] = mainZumberDF['Number of baths'].str.split(\" \")\n",
    "mainZumberDF['Number of beds'] = mainZumberDF['Number of beds'].str.split(\" \")\n",
    "\n",
    "mainZumberDF['Number of baths'] = mainZumberDF['Number of baths'].str[1]\n",
    "mainZumberDF['Number of beds'] = mainZumberDF['Number of beds'].str[0]\n",
    "mainZumberDF\n",
    "\n"
   ]
  },
  {
   "cell_type": "code",
   "execution_count": 14,
   "metadata": {},
   "outputs": [],
   "source": [
    "import seaborn as sns"
   ]
  },
  {
   "cell_type": "code",
   "execution_count": 15,
   "metadata": {},
   "outputs": [
    {
     "data": {
      "text/plain": [
       "<AxesSubplot: xlabel='Number of beds', ylabel='Monthly'>"
      ]
     },
     "execution_count": 15,
     "metadata": {},
     "output_type": "execute_result"
    },
    {
     "data": {
      "image/png": "[encoded data removed]",
      "text/plain": [
       "<Figure size 432x288 with 1 Axes>"
      ]
     },
     "metadata": {
      "needs_background": "light"
     },
     "output_type": "display_data"
    }
   ],
   "source": [
    "sns.boxplot(x='Number of beds', y='Monthly', data= mainZumberDF)"
   ]
  },
  {
   "cell_type": "markdown",
   "metadata": {},
   "source": [
    "## Kijiji"
   ]
  },
  {
   "cell_type": "code",
   "execution_count": 16,
   "metadata": {},
   "outputs": [],
   "source": [
    "def kijiji(content): \n",
    "    soup = BeautifulSoup(content, \"lxml\")\n",
    "    realEstate = soup.findAll(\"div\", class_=\"container-results large-images\")[1]\n",
    "    realEstate2 = [x.find('div', class_=\"info\") for x in realEstate.findAll(\"div\", attrs={\"data-listing-id\":True})]\n",
    "\n",
    "    realEstateLinks = [x.find('div', class_=[\"title\"]) for x in realEstate2]\n",
    "    realEstateLinks1 = [x.find('a', attrs={\"href\":True}) for x in realEstate2]\n",
    "    realEstateLinks = [\"https://www.kijiji.ca\"+ x['href'] for x in realEstateLinks1]\n",
    "\n",
    "    dfKijiji = pd.DataFrame(columns=['DateListed','Postal Code','Monthly', 'Number of beds', 'Number of baths', 'square_feet'])\n",
    "    squareFeetTotal = []\n",
    "    for i in range(len(realEstateLinks)):\n",
    "        requestsIterate = requests.get(realEstateLinks[i])\n",
    "        soup3 = BeautifulSoup(requestsIterate.text, \"html.parser\")\n",
    "\n",
    "        squareFeetInfo = [x.find('dd', class_=\"twoLinesValue-2815147826\").text for x in soup3.find_all('li', class_=\"twoLinesAttribute-2286252302\")]\n",
    "        for x in soup3.find_all('div', class_=['realEstateTitle-1440881021']):\n",
    "            monthlyNum = x.find('span').text\n",
    "            bedAndBath = [section.text for section in x.findAll('span', class_='noLabelValue-3861810455')]\n",
    "            bedroomNum,bathroomNum = bedAndBath[1], bedAndBath[2]\n",
    "            if x.find('time') is not None: \n",
    "                DateListed = x.find('time').text\n",
    "            else:\n",
    "                DateListed = \"\"\n",
    "            if bool(re.match('V[0-9][A-Z] [0-9][A-Z][0-9]', x.find('span', class_=\"address-3617944557\").text[-7:])):\n",
    "                PostalCode = x.find('span', class_=\"address-3617944557\").text[-7:]\n",
    "            else:\n",
    "                PostalCode = \"\"\n",
    "            dfKijiji = dfKijiji.append({'DateListed':DateListed, 'Postal Code':PostalCode, 'Monthly': monthlyNum, 'Number of beds': bedroomNum,  'Number of baths': bathroomNum}, ignore_index=True)\n",
    "        if len(squareFeetInfo) > 3:\n",
    "            squareFeetTotal.append(squareFeetInfo[3])\n",
    "    dfKijiji['square_feet']= squareFeetTotal\n",
    "    \n",
    "    \n",
    "    dfKijiji = dfKijiji.replace({'Number of beds': 'Bedrooms: Bachelor/Studio', 'Number of baths': 'Bathrooms: '}, \n",
    "    {'Number of beds': 'Studio', 'Number of baths': ''}, regex=True)\n",
    "\n",
    "    dfKijiji['Number of baths'] = dfKijiji['Number of baths'] + \" baths\"\n",
    "\n",
    "    dfKijiji['Monthly'] = dfKijiji['Monthly'].apply(lambda x:x.replace('$','').replace(',','').replace(\"+\",'').strip())\n",
    "    dfKijiji = dfKijiji[dfKijiji.Monthly != \"Please Contact\"]\n",
    "    dfKijiji['Monthly']= dfKijiji['Monthly'].replace({'K':'*1e3'}, regex=True).map(pd.eval)\n",
    "    return dfKijiji\n",
    "    \n",
    "\n"
   ]
  },
  {
   "cell_type": "markdown",
   "metadata": {},
   "source": [
    "### Studios"
   ]
  },
  {
   "cell_type": "code",
   "execution_count": 17,
   "metadata": {},
   "outputs": [],
   "source": [
    "URL2 = \"https://www.kijiji.ca/b-apartments-condos/vancouver-downtown-west-end/bachelor+studio/c37l1700292a27949001\"\n",
    "requestURL2 = requests.get(URL2)\n",
    "content2 = requestURL2.content"
   ]
  },
  {
   "cell_type": "code",
   "execution_count": 18,
   "metadata": {},
   "outputs": [],
   "source": [
    "kijijiStudios = kijiji(content2)"
   ]
  },
  {
   "cell_type": "markdown",
   "metadata": {},
   "source": [
    "### 1 bedroom"
   ]
  },
  {
   "cell_type": "code",
   "execution_count": 19,
   "metadata": {},
   "outputs": [],
   "source": [
    "URL2 = \"https://www.kijiji.ca/b-apartments-condos/vancouver-downtown-west-end/1+bedroom/c37l1700292a27949001\"\n",
    "requestURL2 = requests.get(URL2)\n",
    "contentOneBedRoom = requestURL2.content"
   ]
  },
  {
   "cell_type": "code",
   "execution_count": 20,
   "metadata": {},
   "outputs": [],
   "source": [
    "kijijiOne = kijiji(contentOneBedRoom)"
   ]
  },
  {
   "cell_type": "markdown",
   "metadata": {},
   "source": [
    "### 2 bed"
   ]
  },
  {
   "cell_type": "code",
   "execution_count": 29,
   "metadata": {},
   "outputs": [],
   "source": [
    "URL2 = \"https://www.kijiji.ca/b-apartments-condos/vancouver-downtown-west-end/2+bedrooms/c37l1700292a27949001\"\n",
    "requestURL2 = requests.get(URL2)\n",
    "contentTwoBedRoom = requestURL2.content"
   ]
  },
  {
   "cell_type": "code",
   "execution_count": 30,
   "metadata": {},
   "outputs": [],
   "source": [
    "kijijiTwo = kijiji(contentTwoBedRoom)"
   ]
  },
  {
   "cell_type": "markdown",
   "metadata": {},
   "source": [
    "### 3 bed"
   ]
  },
  {
   "cell_type": "code",
   "execution_count": 31,
   "metadata": {},
   "outputs": [],
   "source": [
    "URL2 = \"https://www.kijiji.ca/b-apartments-condos/vancouver-downtown-west-end/3+bedrooms/c37l1700292a27949001\"\n",
    "requestURL2 = requests.get(URL2)\n",
    "contentThreeBedRoom = requestURL2.content"
   ]
  },
  {
   "cell_type": "code",
   "execution_count": 32,
   "metadata": {},
   "outputs": [],
   "source": [
    "kijijiThree = kijiji(contentThreeBedRoom)"
   ]
  },
  {
   "cell_type": "code",
   "execution_count": 33,
   "metadata": {},
   "outputs": [
    {
     "data": {
      "text/html": [
       "<div>\n",
       "<style scoped>\n",
       "    .dataframe tbody tr th:only-of-type {\n",
       "        vertical-align: middle;\n",
       "    }\n",
       "\n",
       "    .dataframe tbody tr th {\n",
       "        vertical-align: top;\n",
       "    }\n",
       "\n",
       "    .dataframe thead th {\n",
       "        text-align: right;\n",
       "    }\n",
       "</style>\n",
       "<table border=\"1\" class=\"dataframe\">\n",
       "  <thead>\n",
       "    <tr style=\"text-align: right;\">\n",
       "      <th></th>\n",
       "      <th>DateListed</th>\n",
       "      <th>Postal Code</th>\n",
       "      <th>Monthly</th>\n",
       "      <th>Number of beds</th>\n",
       "      <th>Number of baths</th>\n",
       "      <th>square_feet</th>\n",
       "    </tr>\n",
       "  </thead>\n",
       "  <tbody>\n",
       "    <tr>\n",
       "      <th>0</th>\n",
       "      <td>about 16 hours ago</td>\n",
       "      <td>V6E 1L7</td>\n",
       "      <td>2369</td>\n",
       "      <td>Studio</td>\n",
       "      <td>1</td>\n",
       "      <td>455</td>\n",
       "    </tr>\n",
       "    <tr>\n",
       "      <th>1</th>\n",
       "      <td>about 11 hours ago</td>\n",
       "      <td>V6E 4S7</td>\n",
       "      <td>2375</td>\n",
       "      <td>Studio</td>\n",
       "      <td>1</td>\n",
       "      <td>Not Available</td>\n",
       "    </tr>\n",
       "    <tr>\n",
       "      <th>2</th>\n",
       "      <td>about 16 hours ago</td>\n",
       "      <td>V6E 1L7</td>\n",
       "      <td>2369</td>\n",
       "      <td>Studio</td>\n",
       "      <td>1</td>\n",
       "      <td>455</td>\n",
       "    </tr>\n",
       "    <tr>\n",
       "      <th>3</th>\n",
       "      <td>3 days ago</td>\n",
       "      <td>V3J 1M8</td>\n",
       "      <td>2268</td>\n",
       "      <td>Studio</td>\n",
       "      <td>1</td>\n",
       "      <td>440</td>\n",
       "    </tr>\n",
       "    <tr>\n",
       "      <th>4</th>\n",
       "      <td>6 days ago</td>\n",
       "      <td>V6E 1C8</td>\n",
       "      <td>2650</td>\n",
       "      <td>Studio</td>\n",
       "      <td>1</td>\n",
       "      <td>500</td>\n",
       "    </tr>\n",
       "    <tr>\n",
       "      <th>...</th>\n",
       "      <td>...</td>\n",
       "      <td>...</td>\n",
       "      <td>...</td>\n",
       "      <td>...</td>\n",
       "      <td>...</td>\n",
       "      <td>...</td>\n",
       "    </tr>\n",
       "    <tr>\n",
       "      <th>19</th>\n",
       "      <td></td>\n",
       "      <td>V6Z 1W4</td>\n",
       "      <td>4499</td>\n",
       "      <td>2</td>\n",
       "      <td>2</td>\n",
       "      <td>Limited</td>\n",
       "    </tr>\n",
       "    <tr>\n",
       "      <th>20</th>\n",
       "      <td></td>\n",
       "      <td>V7S 1X8</td>\n",
       "      <td>2500</td>\n",
       "      <td>2</td>\n",
       "      <td>1</td>\n",
       "      <td>No</td>\n",
       "    </tr>\n",
       "    <tr>\n",
       "      <th>0</th>\n",
       "      <td>4 days ago</td>\n",
       "      <td>V7V 2Z5</td>\n",
       "      <td>5800</td>\n",
       "      <td>3</td>\n",
       "      <td>2</td>\n",
       "      <td>No</td>\n",
       "    </tr>\n",
       "    <tr>\n",
       "      <th>1</th>\n",
       "      <td>22 days ago</td>\n",
       "      <td></td>\n",
       "      <td>11995</td>\n",
       "      <td>3</td>\n",
       "      <td>3.5</td>\n",
       "      <td>Limited</td>\n",
       "    </tr>\n",
       "    <tr>\n",
       "      <th>2</th>\n",
       "      <td>27 days ago</td>\n",
       "      <td>V6G 3H7</td>\n",
       "      <td>8500</td>\n",
       "      <td>3</td>\n",
       "      <td>2</td>\n",
       "      <td>Limited</td>\n",
       "    </tr>\n",
       "  </tbody>\n",
       "</table>\n",
       "<p>61 rows × 6 columns</p>\n",
       "</div>"
      ],
      "text/plain": [
       "            DateListed Postal Code  Monthly Number of beds Number of baths  \\\n",
       "0   about 16 hours ago     V6E 1L7     2369         Studio               1   \n",
       "1   about 11 hours ago     V6E 4S7     2375         Studio               1   \n",
       "2   about 16 hours ago     V6E 1L7     2369         Studio               1   \n",
       "3           3 days ago     V3J 1M8     2268         Studio               1   \n",
       "4           6 days ago     V6E 1C8     2650         Studio               1   \n",
       "..                 ...         ...      ...            ...             ...   \n",
       "19                         V6Z 1W4     4499              2               2   \n",
       "20                         V7S 1X8     2500              2               1   \n",
       "0           4 days ago     V7V 2Z5     5800              3               2   \n",
       "1          22 days ago                11995              3             3.5   \n",
       "2          27 days ago     V6G 3H7     8500              3               2   \n",
       "\n",
       "      square_feet  \n",
       "0             455  \n",
       "1   Not Available  \n",
       "2             455  \n",
       "3             440  \n",
       "4             500  \n",
       "..            ...  \n",
       "19        Limited  \n",
       "20             No  \n",
       "0              No  \n",
       "1         Limited  \n",
       "2         Limited  \n",
       "\n",
       "[61 rows x 6 columns]"
      ]
     },
     "execution_count": 33,
     "metadata": {},
     "output_type": "execute_result"
    }
   ],
   "source": [
    "\n",
    "mainKijiji = pd.concat([kijijiStudios, kijijiOne, kijijiTwo, kijijiThree])\n",
    "mainKijiji['Number of baths'] = mainKijiji['Number of baths'].str.split(\" \")\n",
    "mainKijiji['Number of beds'] = mainKijiji['Number of beds'].str.split(\" \")\n",
    "\n",
    "mainKijiji['Number of baths'] = mainKijiji['Number of baths'].str[0]\n",
    "mainKijiji['Number of beds'] = mainKijiji['Number of beds'].str[-1]\n",
    "\n",
    "mainKijiji"
   ]
  },
  {
   "cell_type": "code",
   "execution_count": 34,
   "metadata": {},
   "outputs": [
    {
     "data": {
      "text/plain": [
       "<AxesSubplot: xlabel='Number of beds', ylabel='Monthly'>"
      ]
     },
     "execution_count": 34,
     "metadata": {},
     "output_type": "execute_result"
    },
    {
     "data": {
      "image/png": "[encoded data removed]",
      "text/plain": [
       "<Figure size 432x288 with 1 Axes>"
      ]
     },
     "metadata": {
      "needs_background": "light"
     },
     "output_type": "display_data"
    }
   ],
   "source": [
    "sns.boxplot(x='Number of beds', y='Monthly', data= mainKijiji)"
   ]
  },
  {
   "cell_type": "code",
   "execution_count": 35,
   "metadata": {},
   "outputs": [],
   "source": [
    "mainKijiji[mainKijiji['Postal Code']=='V6R 2W5']\n",
    "mainKijiji.rename(columns={'Postal Code': 'PostalCode'}, inplace=True)"
   ]
  },
  {
   "cell_type": "markdown",
   "metadata": {},
   "source": [
    "## Pad Mapper"
   ]
  },
  {
   "cell_type": "code",
   "execution_count": 36,
   "metadata": {},
   "outputs": [],
   "source": [
    "import requests\n",
    "import json\n",
    "\n",
    "url = \"https://www.padmapper.com/api/t/1/pins\"\n",
    "\n",
    "payload = json.dumps({\n",
    "  \"external\": True,\n",
    "  \"longTerm\": False,\n",
    "  \"maxLat\": 49.39453,\n",
    "  \"maxLng\": -123.04687,\n",
    "  \"minLat\": 49.21875,\n",
    "  \"minLng\": -123.22265,\n",
    "  \"minPrice\": 0,\n",
    "  \"shortTerm\": False,\n",
    "  \"transits\": {},\n",
    "  \"limit\": 100\n",
    "})\n",
    "headers = {\n",
    "  'Accept': '*/*',\n",
    "  'Accept-Language': 'en-US,en;q=0.9',\n",
    "  'Connection': 'keep-alive',\n",
    "  'Content-Type': 'application/json',\n",
    "  'Origin': 'https://www.padmapper.com',\n",
    "  'Pragma': 'no-cache',\n",
    "  'Sec-Fetch-Dest': 'empty',\n",
    "  'X-Zumper-XZ-Token': 'qdt1cqxfdc.5rnfdicf6'\n",
    "}\n",
    "\n",
    "response = requests.request(\"POST\", url, headers=headers, data=payload)\n",
    "\n",
    "jsonLoader = json.loads(response.text)\n"
   ]
  },
  {
   "cell_type": "code",
   "execution_count": 37,
   "metadata": {},
   "outputs": [],
   "source": [
    "import datetime\n",
    "from datetime import timedelta"
   ]
  },
  {
   "cell_type": "code",
   "execution_count": 38,
   "metadata": {},
   "outputs": [],
   "source": [
    "\n",
    "def padMapper(content): \n",
    "    #dict = {'DateListed': dateListed, 'PostalCode':PostalCode,'Monthly': rent,  'Number of beds': bed, 'Number of baths': bath}\n",
    "    #df= pd.DataFrame(dict)\n",
    "    soupPad = BeautifulSoup(content, \"html.parser\").find('body')\n",
    "\n",
    "    infoBubble= soupPad.findAll('script')[1].text\n",
    "    linksInfo = [x['href'].split(\"/\")[2] for x in soupPad.findAll(\"a\", class_='ListItemMobile_bubbleLink__fWhNX')]\n",
    "    postalCodes = [x['href'].split(\"/\")[-1][-7:] for x in soupPad.findAll(\"a\", class_='ListItemMobile_bubbleLink__fWhNX')]\n",
    "    textAdjustment = [int(x.replace('p', '')) for x in linksInfo]\n",
    "    idToPostal = dict(map(lambda first,second : (first,second) , textAdjustment,postalCodes))\n",
    "    outPut = [x for x in jsonLoader if x['pb_id'] in textAdjustment]\n",
    "    df= pd.json_normalize(outPut)\n",
    "    df['DateListed'] = pd.to_timedelta(df['listed_on'], unit=\"ms\").dt.days.astype(str) + \" days ago\"\n",
    "    df['Number of beds'] = df['min_bedrooms']\n",
    "    df['Number of baths'] = df['min_bathrooms']\n",
    "    df['Monthly'] = df['min_price']\n",
    "    df['square_feet'] = df['min_square_feet']\n",
    "    df['PostalCode'] = df['pb_id']\n",
    "    df.replace({'PostalCode': idToPostal },inplace=True)\n",
    "    df['PostalCode'] = df['PostalCode'].apply(str.upper)\n",
    "    df = df[[\"DateListed\",\"PostalCode\", \"Monthly\", \"Number of beds\", \"Number of baths\", \"square_feet\"]]\n",
    "    return df"
   ]
  },
  {
   "cell_type": "markdown",
   "metadata": {},
   "source": [
    "### Studio "
   ]
  },
  {
   "cell_type": "code",
   "execution_count": 39,
   "metadata": {},
   "outputs": [],
   "source": [
    "URL3 = \"https://www.padmapper.com/apartments/vancouver-bc/west-end/studios\"\n",
    "requestURL3 = requests.get(URL3)\n",
    "content3 = requestURL3.content\n",
    "padStudio = padMapper(content3)"
   ]
  },
  {
   "cell_type": "markdown",
   "metadata": {},
   "source": [
    "### 1 bathrooms"
   ]
  },
  {
   "cell_type": "code",
   "execution_count": 40,
   "metadata": {},
   "outputs": [],
   "source": [
    "URL4 = \"https://www.padmapper.com/apartments/vancouver-bc/west-end/1-beds\"\n",
    "requestURL4 = requests.get(URL4)\n",
    "content4 = requestURL4.content\n",
    "\n",
    "padOne =padMapper(content4)"
   ]
  },
  {
   "cell_type": "markdown",
   "metadata": {},
   "source": [
    "### 2 bathrooms"
   ]
  },
  {
   "cell_type": "code",
   "execution_count": 41,
   "metadata": {},
   "outputs": [],
   "source": [
    "URL4 = \"https://www.padmapper.com/apartments/vancouver-bc/west-end/2-beds\"\n",
    "requestURL4 = requests.get(URL4)\n",
    "content4 = requestURL4.content\n",
    "\n",
    "padTwo = padMapper(content4)"
   ]
  },
  {
   "cell_type": "code",
   "execution_count": 42,
   "metadata": {},
   "outputs": [],
   "source": [
    "URL4 = \"https://www.padmapper.com/apartments/vancouver-bc/west-end/3-beds\"\n",
    "requestURL4 = requests.get(URL4)\n",
    "content4 = requestURL4.content\n",
    "\n",
    "padThree = padMapper(content4)"
   ]
  },
  {
   "cell_type": "code",
   "execution_count": 43,
   "metadata": {},
   "outputs": [],
   "source": [
    "mainPad = pd.concat([padStudio, padOne, padTwo, padThree])\n",
    "\n",
    "mainPad['Number of beds'] = mainPad['Number of beds'].astype(str)\n",
    "\n",
    "mainPad['Number of baths'] = mainPad['Number of baths'].astype(str)"
   ]
  },
  {
   "cell_type": "code",
   "execution_count": 44,
   "metadata": {},
   "outputs": [
    {
     "data": {
      "text/html": [
       "<div>\n",
       "<style scoped>\n",
       "    .dataframe tbody tr th:only-of-type {\n",
       "        vertical-align: middle;\n",
       "    }\n",
       "\n",
       "    .dataframe tbody tr th {\n",
       "        vertical-align: top;\n",
       "    }\n",
       "\n",
       "    .dataframe thead th {\n",
       "        text-align: right;\n",
       "    }\n",
       "</style>\n",
       "<table border=\"1\" class=\"dataframe\">\n",
       "  <thead>\n",
       "    <tr style=\"text-align: right;\">\n",
       "      <th></th>\n",
       "      <th>DateListed</th>\n",
       "      <th>PostalCode</th>\n",
       "      <th>Monthly</th>\n",
       "      <th>Number of beds</th>\n",
       "      <th>Number of baths</th>\n",
       "      <th>square_feet</th>\n",
       "    </tr>\n",
       "  </thead>\n",
       "  <tbody>\n",
       "    <tr>\n",
       "      <th>0</th>\n",
       "      <td>19 days ago</td>\n",
       "      <td>V6G-1P5</td>\n",
       "      <td>2450</td>\n",
       "      <td>1</td>\n",
       "      <td>1</td>\n",
       "      <td>640</td>\n",
       "    </tr>\n",
       "    <tr>\n",
       "      <th>1</th>\n",
       "      <td>19 days ago</td>\n",
       "      <td>V6G-1P5</td>\n",
       "      <td>1900</td>\n",
       "      <td>0</td>\n",
       "      <td>1</td>\n",
       "      <td>418</td>\n",
       "    </tr>\n",
       "    <tr>\n",
       "      <th>2</th>\n",
       "      <td>19 days ago</td>\n",
       "      <td>V6E-1L7</td>\n",
       "      <td>2369</td>\n",
       "      <td>0</td>\n",
       "      <td>1</td>\n",
       "      <td>455</td>\n",
       "    </tr>\n",
       "    <tr>\n",
       "      <th>3</th>\n",
       "      <td>19 days ago</td>\n",
       "      <td>V6E-2B8</td>\n",
       "      <td>2268</td>\n",
       "      <td>0</td>\n",
       "      <td>1</td>\n",
       "      <td>440</td>\n",
       "    </tr>\n",
       "    <tr>\n",
       "      <th>4</th>\n",
       "      <td>19 days ago</td>\n",
       "      <td>V6G-1G6</td>\n",
       "      <td>3000</td>\n",
       "      <td>1</td>\n",
       "      <td>1</td>\n",
       "      <td>629</td>\n",
       "    </tr>\n",
       "    <tr>\n",
       "      <th>...</th>\n",
       "      <td>...</td>\n",
       "      <td>...</td>\n",
       "      <td>...</td>\n",
       "      <td>...</td>\n",
       "      <td>...</td>\n",
       "      <td>...</td>\n",
       "    </tr>\n",
       "    <tr>\n",
       "      <th>4</th>\n",
       "      <td>19 days ago</td>\n",
       "      <td>V6G-0C6</td>\n",
       "      <td>4500</td>\n",
       "      <td>3</td>\n",
       "      <td>2</td>\n",
       "      <td>1082</td>\n",
       "    </tr>\n",
       "    <tr>\n",
       "      <th>5</th>\n",
       "      <td>19 days ago</td>\n",
       "      <td>V6G-1G2</td>\n",
       "      <td>2375</td>\n",
       "      <td>0</td>\n",
       "      <td>1</td>\n",
       "      <td>259</td>\n",
       "    </tr>\n",
       "    <tr>\n",
       "      <th>6</th>\n",
       "      <td>19 days ago</td>\n",
       "      <td>V6G-1G2</td>\n",
       "      <td>3300</td>\n",
       "      <td>2</td>\n",
       "      <td>1</td>\n",
       "      <td>512</td>\n",
       "    </tr>\n",
       "    <tr>\n",
       "      <th>7</th>\n",
       "      <td>19 days ago</td>\n",
       "      <td>V6G-0C4</td>\n",
       "      <td>2095</td>\n",
       "      <td>0</td>\n",
       "      <td>1</td>\n",
       "      <td>420</td>\n",
       "    </tr>\n",
       "    <tr>\n",
       "      <th>8</th>\n",
       "      <td>19 days ago</td>\n",
       "      <td>V6G-0C4</td>\n",
       "      <td>3450</td>\n",
       "      <td>2</td>\n",
       "      <td>2</td>\n",
       "      <td>757</td>\n",
       "    </tr>\n",
       "  </tbody>\n",
       "</table>\n",
       "<p>64 rows × 6 columns</p>\n",
       "</div>"
      ],
      "text/plain": [
       "     DateListed PostalCode  Monthly Number of beds Number of baths  \\\n",
       "0   19 days ago    V6G-1P5     2450              1               1   \n",
       "1   19 days ago    V6G-1P5     1900              0               1   \n",
       "2   19 days ago    V6E-1L7     2369              0               1   \n",
       "3   19 days ago    V6E-2B8     2268              0               1   \n",
       "4   19 days ago    V6G-1G6     3000              1               1   \n",
       "..          ...        ...      ...            ...             ...   \n",
       "4   19 days ago    V6G-0C6     4500              3               2   \n",
       "5   19 days ago    V6G-1G2     2375              0               1   \n",
       "6   19 days ago    V6G-1G2     3300              2               1   \n",
       "7   19 days ago    V6G-0C4     2095              0               1   \n",
       "8   19 days ago    V6G-0C4     3450              2               2   \n",
       "\n",
       "    square_feet  \n",
       "0           640  \n",
       "1           418  \n",
       "2           455  \n",
       "3           440  \n",
       "4           629  \n",
       "..          ...  \n",
       "4          1082  \n",
       "5           259  \n",
       "6           512  \n",
       "7           420  \n",
       "8           757  \n",
       "\n",
       "[64 rows x 6 columns]"
      ]
     },
     "execution_count": 44,
     "metadata": {},
     "output_type": "execute_result"
    }
   ],
   "source": [
    "mainPad"
   ]
  },
  {
   "cell_type": "code",
   "execution_count": 45,
   "metadata": {},
   "outputs": [
    {
     "data": {
      "text/plain": [
       "<AxesSubplot: xlabel='Number of beds', ylabel='Monthly'>"
      ]
     },
     "execution_count": 45,
     "metadata": {},
     "output_type": "execute_result"
    },
    {
     "data": {
      "image/png": "[encoded data removed]",
      "text/plain": [
       "<Figure size 432x288 with 1 Axes>"
      ]
     },
     "metadata": {
      "needs_background": "light"
     },
     "output_type": "display_data"
    }
   ],
   "source": [
    "sns.boxplot(x='Number of beds', y='Monthly', data= mainPad)"
   ]
  },
  {
   "cell_type": "markdown",
   "metadata": {},
   "source": [
    "## Rent cafe"
   ]
  },
  {
   "cell_type": "code",
   "execution_count": 46,
   "metadata": {},
   "outputs": [],
   "source": [
    "def getLastUpdatedDate(propertyId):\n",
    "  url = \"https://www.rentcafe.com/Preview/Details/{}/?context=Flyout\".format(propertyId)\n",
    "\n",
    "  payload={}\n",
    "  headers = {\n",
    "    'authority': 'www.rentcafe.com',\n",
    "    'accept': '*/*',\n",
    "    'accept-language': 'en-US,en;q=0.9',\n",
    "    'Cookie': '__cf_bm=FDpcueUTZpjtex2phw101Fm2Fh6XLL3v2F857RVfk9E-1666315131-0-AX4uocMgJpg1EJIKqvfGhQFzFbJ3txOuWqy83jT/lE6jSDPm3KTkmlQdWh/stfmEQQXl+xhm6s6/CfA1lzgppG8=; PropLeadSource_845951=rentcafe'\n",
    "  }\n",
    "\n",
    "  response = requests.request(\"GET\", url, headers=headers, data=payload)\n",
    "\n",
    "  rentCafePopUpInfo = json.loads(response.text)['data']\n",
    "\n",
    "  rentCafePopUpInfo = rentCafePopUpInfo.replace(\"\\\\r\\\\n\", \"\");\n",
    "\n",
    "  rentSoup = BeautifulSoup(rentCafePopUpInfo, \"html.parser\")\n",
    "  return [\" \".join(x.text.strip().split(\" \")[-3:])[:-1] for x in rentSoup.find('p', id=\"collapseLastUpdatedDateFAQ\")]\n"
   ]
  },
  {
   "cell_type": "code",
   "execution_count": 47,
   "metadata": {},
   "outputs": [],
   "source": [
    "def rentCafe(content): \n",
    "    soup3 = BeautifulSoup(content, \"html.parser\")\n",
    "    realEstate = soup3.findAll([\"li\", \"div\"], class_=[\"listing-beds-rent data-rent-ask\",\"data-rent\"])\n",
    "    rentInfo = [x.strip() for x in soup3.findAll(\"script\", type=\"text/javascript\")[4]]\n",
    "    #lastUpdated = [x.strip() for x in soup3.find(\"section\")]\n",
    "    rent = [x.text.strip() for x in realEstate]\n",
    "    \n",
    "    jsonData = json.loads(rentInfo[0][47:-3])\n",
    "    baths, beds, PostalCode, area = [], [], [], []\n",
    "    for i in range(len(jsonData)): \n",
    "        baths.append(jsonData[i]['Baths']), beds.append(jsonData[i]['Beds']), PostalCode.append(jsonData[i]['AddressFormatted'][-7:]), area.append(jsonData[i][\"Area\"])\n",
    "    \n",
    "    results = [getLastUpdatedDate(x['PropertyId']) for x in jsonData]\n",
    "    dateListed = [x[0] for x in results]\n",
    "    dict = {'DateListed':dateListed, 'PostalCode':PostalCode,'Monthly': rent,  'Number of beds': beds, 'Number of baths': baths, 'Area': area}\n",
    "    df= pd.DataFrame(dict)\n",
    "    df = df[df['Monthly'] != \"Ask for pricing\"]\n",
    "    df['Monthly'] = df['Monthly'].apply(lambda x:x.replace('$','').replace(',','').replace(\"+\",'').strip()).astype(int)\n",
    "    df.rename(columns={'Area':'square_feet', 'Postal Code':'PostalCode'})\n",
    "    return df\n",
    "   \n",
    "    "
   ]
  },
  {
   "cell_type": "code",
   "execution_count": 48,
   "metadata": {},
   "outputs": [],
   "source": [
    "URLCafe1 = \"https://www.rentcafe.com/studio-apartments-for-rent/ca/bc/vancouver/west-end-vancouver/\"\n",
    "requestURLCafe1 = requests.get(URLCafe1)\n",
    "contentCafe1 = requestURLCafe1.content\n",
    "\n",
    "cafeStudio = rentCafe(contentCafe1)"
   ]
  },
  {
   "cell_type": "code",
   "execution_count": 49,
   "metadata": {},
   "outputs": [],
   "source": [
    "URLCafe1 = \"https://www.rentcafe.com/1-bedroom-apartments-for-rent/ca/bc/vancouver/west-end-vancouver/\"\n",
    "requestURLCafe1 = requests.get(URLCafe1)\n",
    "contentCafe1 = requestURLCafe1.content\n",
    "\n",
    "cafeOne = rentCafe(contentCafe1)"
   ]
  },
  {
   "cell_type": "code",
   "execution_count": 50,
   "metadata": {},
   "outputs": [],
   "source": [
    "URLCafe1 = \"https://www.rentcafe.com/2-bedroom-apartments-for-rent/ca/bc/vancouver/west-end-vancouver/\"\n",
    "requestURLCafe1 = requests.get(URLCafe1)\n",
    "contentCafe1 = requestURLCafe1.content\n",
    "\n",
    "cafeTwo = rentCafe(contentCafe1)"
   ]
  },
  {
   "cell_type": "code",
   "execution_count": 51,
   "metadata": {},
   "outputs": [],
   "source": [
    "URLCafe1 = \"https://www.rentcafe.com/3-bedroom-apartments-for-rent/ca/bc/vancouver/west-end-vancouver/\"\n",
    "requestURLCafe1 = requests.get(URLCafe1)\n",
    "contentCafe1 = requestURLCafe1.content\n",
    "\n",
    "cafeThree = rentCafe(contentCafe1)"
   ]
  },
  {
   "cell_type": "code",
   "execution_count": 91,
   "metadata": {},
   "outputs": [],
   "source": [
    "mainCafe = pd.concat([cafeStudio, cafeOne, cafeTwo, cafeThree])\n",
    "mainCafe = mainCafe[mainCafe['Monthly'] != \"Ask for pricing\"]\n",
    "\n",
    "mainCafe['Number of baths'] = mainCafe['Number of baths'].str.split(\" \")\n",
    "mainCafe['Number of beds'] = mainCafe['Number of beds'].str.split(\" \")\n",
    "\n",
    "mainCafe['Number of baths'] = mainCafe['Number of baths'].str[0]\n",
    "mainCafe['Number of beds'] = mainCafe['Number of beds'].str[0]\n",
    "\n",
    "mainCafe.rename(columns={'Area':'square_feet'}, inplace=True)\n",
    "\n",
    "mainDF =  mainCafe[mainCafe['Number of beds'] != 0]\n"
   ]
  },
  {
   "cell_type": "code",
   "execution_count": 92,
   "metadata": {},
   "outputs": [
    {
     "data": {
      "text/html": [
       "<div>\n",
       "<style scoped>\n",
       "    .dataframe tbody tr th:only-of-type {\n",
       "        vertical-align: middle;\n",
       "    }\n",
       "\n",
       "    .dataframe tbody tr th {\n",
       "        vertical-align: top;\n",
       "    }\n",
       "\n",
       "    .dataframe thead th {\n",
       "        text-align: right;\n",
       "    }\n",
       "</style>\n",
       "<table border=\"1\" class=\"dataframe\">\n",
       "  <thead>\n",
       "    <tr style=\"text-align: right;\">\n",
       "      <th></th>\n",
       "      <th>DateListed</th>\n",
       "      <th>PostalCode</th>\n",
       "      <th>Monthly</th>\n",
       "      <th>Number of beds</th>\n",
       "      <th>Number of baths</th>\n",
       "      <th>square_feet</th>\n",
       "    </tr>\n",
       "  </thead>\n",
       "  <tbody>\n",
       "    <tr>\n",
       "      <th>3</th>\n",
       "      <td>19 Oct 2022</td>\n",
       "      <td>V5N 1V9</td>\n",
       "      <td>2025</td>\n",
       "      <td>Studio</td>\n",
       "      <td>1</td>\n",
       "      <td>None</td>\n",
       "    </tr>\n",
       "    <tr>\n",
       "      <th>4</th>\n",
       "      <td>19 Oct 2022</td>\n",
       "      <td>V7L 3J4</td>\n",
       "      <td>2240</td>\n",
       "      <td>Studio</td>\n",
       "      <td>1</td>\n",
       "      <td>480 - 1,064 Sq.Ft.</td>\n",
       "    </tr>\n",
       "    <tr>\n",
       "      <th>0</th>\n",
       "      <td>18 Oct 2022</td>\n",
       "      <td>V6G 1X4</td>\n",
       "      <td>2175</td>\n",
       "      <td>1</td>\n",
       "      <td>1</td>\n",
       "      <td>450 - 650 Sq.Ft.</td>\n",
       "    </tr>\n",
       "    <tr>\n",
       "      <th>1</th>\n",
       "      <td>20 Oct 2022</td>\n",
       "      <td>V6G 2L2</td>\n",
       "      <td>2950</td>\n",
       "      <td>1</td>\n",
       "      <td>1.5</td>\n",
       "      <td>450 - 1,200 Sq.Ft.</td>\n",
       "    </tr>\n",
       "    <tr>\n",
       "      <th>2</th>\n",
       "      <td>15 Oct 2022</td>\n",
       "      <td>V6G 1X3</td>\n",
       "      <td>2350</td>\n",
       "      <td>1</td>\n",
       "      <td>1</td>\n",
       "      <td>450 - 500 Sq.Ft.</td>\n",
       "    </tr>\n",
       "    <tr>\n",
       "      <th>4</th>\n",
       "      <td>18 Oct 2022</td>\n",
       "      <td>V6Z 0E7</td>\n",
       "      <td>2800</td>\n",
       "      <td>1</td>\n",
       "      <td>1</td>\n",
       "      <td>497 Sq.Ft.</td>\n",
       "    </tr>\n",
       "    <tr>\n",
       "      <th>7</th>\n",
       "      <td>21 Oct 2022</td>\n",
       "      <td>V6B 0P4</td>\n",
       "      <td>2700</td>\n",
       "      <td>1</td>\n",
       "      <td>1</td>\n",
       "      <td>513 Sq.Ft.</td>\n",
       "    </tr>\n",
       "    <tr>\n",
       "      <th>8</th>\n",
       "      <td>15 Oct 2022</td>\n",
       "      <td>V5L 2N1</td>\n",
       "      <td>2195</td>\n",
       "      <td>1</td>\n",
       "      <td>1</td>\n",
       "      <td>451 Sq.Ft.</td>\n",
       "    </tr>\n",
       "    <tr>\n",
       "      <th>9</th>\n",
       "      <td>17 Oct 2022</td>\n",
       "      <td>V5N 1V9</td>\n",
       "      <td>2275</td>\n",
       "      <td>1</td>\n",
       "      <td>1</td>\n",
       "      <td>None</td>\n",
       "    </tr>\n",
       "    <tr>\n",
       "      <th>10</th>\n",
       "      <td>19 Oct 2022</td>\n",
       "      <td>V7L 3J4</td>\n",
       "      <td>2270</td>\n",
       "      <td>1</td>\n",
       "      <td>1</td>\n",
       "      <td>480 - 1,064 Sq.Ft.</td>\n",
       "    </tr>\n",
       "    <tr>\n",
       "      <th>11</th>\n",
       "      <td>19 Oct 2022</td>\n",
       "      <td>V6X 0T8</td>\n",
       "      <td>2100</td>\n",
       "      <td>1</td>\n",
       "      <td>1</td>\n",
       "      <td>657 Sq.Ft.</td>\n",
       "    </tr>\n",
       "    <tr>\n",
       "      <th>1</th>\n",
       "      <td>20 Oct 2022</td>\n",
       "      <td>V6E 4S7</td>\n",
       "      <td>3650</td>\n",
       "      <td>2</td>\n",
       "      <td>1-2</td>\n",
       "      <td>371 - 1,291 Sq.Ft.</td>\n",
       "    </tr>\n",
       "    <tr>\n",
       "      <th>2</th>\n",
       "      <td>18 Oct 2022</td>\n",
       "      <td>V6G 3A3</td>\n",
       "      <td>3050</td>\n",
       "      <td>2</td>\n",
       "      <td>1.5-2</td>\n",
       "      <td>465 - 950 Sq.Ft.</td>\n",
       "    </tr>\n",
       "    <tr>\n",
       "      <th>4</th>\n",
       "      <td>20 Oct 2022</td>\n",
       "      <td>V6B 0E8</td>\n",
       "      <td>3800</td>\n",
       "      <td>2</td>\n",
       "      <td>2</td>\n",
       "      <td>1,088 Sq.Ft.</td>\n",
       "    </tr>\n",
       "    <tr>\n",
       "      <th>5</th>\n",
       "      <td>18 Oct 2022</td>\n",
       "      <td>V5N 1V9</td>\n",
       "      <td>3250</td>\n",
       "      <td>2</td>\n",
       "      <td>1-2</td>\n",
       "      <td>None</td>\n",
       "    </tr>\n",
       "    <tr>\n",
       "      <th>6</th>\n",
       "      <td>14 Oct 2022</td>\n",
       "      <td>V5V 3E2</td>\n",
       "      <td>2700</td>\n",
       "      <td>2</td>\n",
       "      <td>1</td>\n",
       "      <td>800 Sq.Ft.</td>\n",
       "    </tr>\n",
       "    <tr>\n",
       "      <th>7</th>\n",
       "      <td>19 Oct 2022</td>\n",
       "      <td>V7L 3J4</td>\n",
       "      <td>2950</td>\n",
       "      <td>2</td>\n",
       "      <td>1-2</td>\n",
       "      <td>480 - 1,064 Sq.Ft.</td>\n",
       "    </tr>\n",
       "    <tr>\n",
       "      <th>8</th>\n",
       "      <td>18 Oct 2022</td>\n",
       "      <td>V5S 2Y4</td>\n",
       "      <td>2100</td>\n",
       "      <td>2</td>\n",
       "      <td>2</td>\n",
       "      <td>725 Sq.Ft.</td>\n",
       "    </tr>\n",
       "    <tr>\n",
       "      <th>0</th>\n",
       "      <td>20 Oct 2022</td>\n",
       "      <td>V6G 0C7</td>\n",
       "      <td>6500</td>\n",
       "      <td>3</td>\n",
       "      <td>2</td>\n",
       "      <td>1,459 Sq.Ft.</td>\n",
       "    </tr>\n",
       "    <tr>\n",
       "      <th>1</th>\n",
       "      <td>17 Oct 2022</td>\n",
       "      <td>V6K 1K6</td>\n",
       "      <td>4200</td>\n",
       "      <td>3</td>\n",
       "      <td>2</td>\n",
       "      <td>897 - 1,282 Sq.Ft.</td>\n",
       "    </tr>\n",
       "    <tr>\n",
       "      <th>2</th>\n",
       "      <td>18 Oct 2022</td>\n",
       "      <td>V6R 2W5</td>\n",
       "      <td>12000</td>\n",
       "      <td>3</td>\n",
       "      <td>2.5</td>\n",
       "      <td>2,200 Sq.Ft.</td>\n",
       "    </tr>\n",
       "    <tr>\n",
       "      <th>3</th>\n",
       "      <td>18 Oct 2022</td>\n",
       "      <td>V5V 0B3</td>\n",
       "      <td>2850</td>\n",
       "      <td>3</td>\n",
       "      <td>2</td>\n",
       "      <td>950 Sq.Ft.</td>\n",
       "    </tr>\n",
       "    <tr>\n",
       "      <th>4</th>\n",
       "      <td>18 Oct 2022</td>\n",
       "      <td>V5N 1V9</td>\n",
       "      <td>4050</td>\n",
       "      <td>3</td>\n",
       "      <td>2</td>\n",
       "      <td>None</td>\n",
       "    </tr>\n",
       "    <tr>\n",
       "      <th>5</th>\n",
       "      <td>19 Oct 2022</td>\n",
       "      <td>V7L 3J4</td>\n",
       "      <td>3700</td>\n",
       "      <td>3</td>\n",
       "      <td>2</td>\n",
       "      <td>480 - 1,064 Sq.Ft.</td>\n",
       "    </tr>\n",
       "  </tbody>\n",
       "</table>\n",
       "</div>"
      ],
      "text/plain": [
       "     DateListed PostalCode  Monthly Number of beds Number of baths  \\\n",
       "3   19 Oct 2022    V5N 1V9     2025         Studio               1   \n",
       "4   19 Oct 2022    V7L 3J4     2240         Studio               1   \n",
       "0   18 Oct 2022    V6G 1X4     2175              1               1   \n",
       "1   20 Oct 2022    V6G 2L2     2950              1             1.5   \n",
       "2   15 Oct 2022    V6G 1X3     2350              1               1   \n",
       "4   18 Oct 2022    V6Z 0E7     2800              1               1   \n",
       "7   21 Oct 2022    V6B 0P4     2700              1               1   \n",
       "8   15 Oct 2022    V5L 2N1     2195              1               1   \n",
       "9   17 Oct 2022    V5N 1V9     2275              1               1   \n",
       "10  19 Oct 2022    V7L 3J4     2270              1               1   \n",
       "11  19 Oct 2022    V6X 0T8     2100              1               1   \n",
       "1   20 Oct 2022    V6E 4S7     3650              2             1-2   \n",
       "2   18 Oct 2022    V6G 3A3     3050              2           1.5-2   \n",
       "4   20 Oct 2022    V6B 0E8     3800              2               2   \n",
       "5   18 Oct 2022    V5N 1V9     3250              2             1-2   \n",
       "6   14 Oct 2022    V5V 3E2     2700              2               1   \n",
       "7   19 Oct 2022    V7L 3J4     2950              2             1-2   \n",
       "8   18 Oct 2022    V5S 2Y4     2100              2               2   \n",
       "0   20 Oct 2022    V6G 0C7     6500              3               2   \n",
       "1   17 Oct 2022    V6K 1K6     4200              3               2   \n",
       "2   18 Oct 2022    V6R 2W5    12000              3             2.5   \n",
       "3   18 Oct 2022    V5V 0B3     2850              3               2   \n",
       "4   18 Oct 2022    V5N 1V9     4050              3               2   \n",
       "5   19 Oct 2022    V7L 3J4     3700              3               2   \n",
       "\n",
       "           square_feet  \n",
       "3                 None  \n",
       "4   480 - 1,064 Sq.Ft.  \n",
       "0     450 - 650 Sq.Ft.  \n",
       "1   450 - 1,200 Sq.Ft.  \n",
       "2     450 - 500 Sq.Ft.  \n",
       "4           497 Sq.Ft.  \n",
       "7           513 Sq.Ft.  \n",
       "8           451 Sq.Ft.  \n",
       "9                 None  \n",
       "10  480 - 1,064 Sq.Ft.  \n",
       "11          657 Sq.Ft.  \n",
       "1   371 - 1,291 Sq.Ft.  \n",
       "2     465 - 950 Sq.Ft.  \n",
       "4         1,088 Sq.Ft.  \n",
       "5                 None  \n",
       "6           800 Sq.Ft.  \n",
       "7   480 - 1,064 Sq.Ft.  \n",
       "8           725 Sq.Ft.  \n",
       "0         1,459 Sq.Ft.  \n",
       "1   897 - 1,282 Sq.Ft.  \n",
       "2         2,200 Sq.Ft.  \n",
       "3           950 Sq.Ft.  \n",
       "4                 None  \n",
       "5   480 - 1,064 Sq.Ft.  "
      ]
     },
     "execution_count": 92,
     "metadata": {},
     "output_type": "execute_result"
    }
   ],
   "source": [
    "mainDF"
   ]
  },
  {
   "cell_type": "code",
   "execution_count": 93,
   "metadata": {},
   "outputs": [
    {
     "data": {
      "text/plain": [
       "<AxesSubplot: xlabel='Number of beds', ylabel='Monthly'>"
      ]
     },
     "execution_count": 93,
     "metadata": {},
     "output_type": "execute_result"
    },
    {
     "data": {
      "image/png": "[encoded data removed]",
      "text/plain": [
       "<Figure size 432x288 with 1 Axes>"
      ]
     },
     "metadata": {
      "needs_background": "light"
     },
     "output_type": "display_data"
    }
   ],
   "source": [
    "sns.boxplot(x='Number of beds', y='Monthly', data= mainCafe)"
   ]
  },
  {
   "cell_type": "code",
   "execution_count": 122,
   "metadata": {},
   "outputs": [
    {
     "data": {
      "text/plain": [
       "1         106\n",
       "2          74\n",
       "3          36\n",
       "Studio     32\n",
       "0          15\n",
       "Name: Number of beds, dtype: int64"
      ]
     },
     "execution_count": 122,
     "metadata": {},
     "output_type": "execute_result"
    }
   ],
   "source": [
    "allCollected = pd.concat([mainZumberDF,mainDF, mainKijiji, mainPad])\n",
    "allCollected['PostalCode'] = allCollected['PostalCode'].apply(lambda x:x.replace('-',' '))\n",
    "allCollected['DateListed'] = allCollected['DateListed'].apply(lambda x:x.replace('h ago',' hours ago').replace('d ago',' days ago'))\n",
    "allCollected['DateListed'] = allCollected['DateListed'].apply(lambda x:x.replace('about ',''))\n",
    "allCollected['square_feet'] = allCollected['square_feet'].apply(lambda x:str(x).replace(' Sq.Ft. ',''))\n",
    "\n",
    "allCollected['Number of beds'] = allCollected['Number of beds'].astype(str)\n",
    "allCollected['Number of beds'].value_counts()"
   ]
  },
  {
   "cell_type": "code",
   "execution_count": 123,
   "metadata": {},
   "outputs": [
    {
     "data": {
      "text/html": [
       "<div>\n",
       "<style scoped>\n",
       "    .dataframe tbody tr th:only-of-type {\n",
       "        vertical-align: middle;\n",
       "    }\n",
       "\n",
       "    .dataframe tbody tr th {\n",
       "        vertical-align: top;\n",
       "    }\n",
       "\n",
       "    .dataframe thead th {\n",
       "        text-align: right;\n",
       "    }\n",
       "</style>\n",
       "<table border=\"1\" class=\"dataframe\">\n",
       "  <thead>\n",
       "    <tr style=\"text-align: right;\">\n",
       "      <th></th>\n",
       "      <th>DateListed</th>\n",
       "      <th>PostalCode</th>\n",
       "      <th>Monthly</th>\n",
       "      <th>Number of beds</th>\n",
       "      <th>Number of baths</th>\n",
       "      <th>square_feet</th>\n",
       "    </tr>\n",
       "  </thead>\n",
       "  <tbody>\n",
       "    <tr>\n",
       "      <th>0</th>\n",
       "      <td>2 days ago</td>\n",
       "      <td>V6G 1P5</td>\n",
       "      <td>1900.0</td>\n",
       "      <td>Studio</td>\n",
       "      <td>1</td>\n",
       "      <td>nan</td>\n",
       "    </tr>\n",
       "    <tr>\n",
       "      <th>1</th>\n",
       "      <td>17 hours ago</td>\n",
       "      <td>V6E 1H1</td>\n",
       "      <td>2700.0</td>\n",
       "      <td>Studio</td>\n",
       "      <td>1</td>\n",
       "      <td>nan</td>\n",
       "    </tr>\n",
       "    <tr>\n",
       "      <th>2</th>\n",
       "      <td>1 days ago</td>\n",
       "      <td>V6G 1G2</td>\n",
       "      <td>2500.0</td>\n",
       "      <td>Studio</td>\n",
       "      <td>1</td>\n",
       "      <td>nan</td>\n",
       "    </tr>\n",
       "    <tr>\n",
       "      <th>3</th>\n",
       "      <td>1 days ago</td>\n",
       "      <td>V6G 0C4</td>\n",
       "      <td>2095.0</td>\n",
       "      <td>Studio</td>\n",
       "      <td>1</td>\n",
       "      <td>nan</td>\n",
       "    </tr>\n",
       "    <tr>\n",
       "      <th>4</th>\n",
       "      <td>1 days ago</td>\n",
       "      <td>V6G 2A1</td>\n",
       "      <td>2200.0</td>\n",
       "      <td>Studio</td>\n",
       "      <td>1</td>\n",
       "      <td>nan</td>\n",
       "    </tr>\n",
       "    <tr>\n",
       "      <th>...</th>\n",
       "      <td>...</td>\n",
       "      <td>...</td>\n",
       "      <td>...</td>\n",
       "      <td>...</td>\n",
       "      <td>...</td>\n",
       "      <td>...</td>\n",
       "    </tr>\n",
       "    <tr>\n",
       "      <th>4</th>\n",
       "      <td>19 days ago</td>\n",
       "      <td>V6G 0C6</td>\n",
       "      <td>4500.0</td>\n",
       "      <td>3</td>\n",
       "      <td>2</td>\n",
       "      <td>1082</td>\n",
       "    </tr>\n",
       "    <tr>\n",
       "      <th>5</th>\n",
       "      <td>19 days ago</td>\n",
       "      <td>V6G 1G2</td>\n",
       "      <td>2375.0</td>\n",
       "      <td>0</td>\n",
       "      <td>1</td>\n",
       "      <td>259</td>\n",
       "    </tr>\n",
       "    <tr>\n",
       "      <th>6</th>\n",
       "      <td>19 days ago</td>\n",
       "      <td>V6G 1G2</td>\n",
       "      <td>3300.0</td>\n",
       "      <td>2</td>\n",
       "      <td>1</td>\n",
       "      <td>512</td>\n",
       "    </tr>\n",
       "    <tr>\n",
       "      <th>7</th>\n",
       "      <td>19 days ago</td>\n",
       "      <td>V6G 0C4</td>\n",
       "      <td>2095.0</td>\n",
       "      <td>0</td>\n",
       "      <td>1</td>\n",
       "      <td>420</td>\n",
       "    </tr>\n",
       "    <tr>\n",
       "      <th>8</th>\n",
       "      <td>19 days ago</td>\n",
       "      <td>V6G 0C4</td>\n",
       "      <td>3450.0</td>\n",
       "      <td>2</td>\n",
       "      <td>2</td>\n",
       "      <td>757</td>\n",
       "    </tr>\n",
       "  </tbody>\n",
       "</table>\n",
       "<p>263 rows × 6 columns</p>\n",
       "</div>"
      ],
      "text/plain": [
       "      DateListed PostalCode  Monthly Number of beds Number of baths  \\\n",
       "0     2 days ago    V6G 1P5   1900.0         Studio               1   \n",
       "1   17 hours ago    V6E 1H1   2700.0         Studio               1   \n",
       "2     1 days ago    V6G 1G2   2500.0         Studio               1   \n",
       "3     1 days ago    V6G 0C4   2095.0         Studio               1   \n",
       "4     1 days ago    V6G 2A1   2200.0         Studio               1   \n",
       "..           ...        ...      ...            ...             ...   \n",
       "4    19 days ago    V6G 0C6   4500.0              3               2   \n",
       "5    19 days ago    V6G 1G2   2375.0              0               1   \n",
       "6    19 days ago    V6G 1G2   3300.0              2               1   \n",
       "7    19 days ago    V6G 0C4   2095.0              0               1   \n",
       "8    19 days ago    V6G 0C4   3450.0              2               2   \n",
       "\n",
       "   square_feet  \n",
       "0          nan  \n",
       "1          nan  \n",
       "2          nan  \n",
       "3          nan  \n",
       "4          nan  \n",
       "..         ...  \n",
       "4         1082  \n",
       "5          259  \n",
       "6          512  \n",
       "7          420  \n",
       "8          757  \n",
       "\n",
       "[263 rows x 6 columns]"
      ]
     },
     "execution_count": 123,
     "metadata": {},
     "output_type": "execute_result"
    }
   ],
   "source": [
    "allCollected"
   ]
  },
  {
   "cell_type": "code",
   "execution_count": 124,
   "metadata": {},
   "outputs": [
    {
     "data": {
      "text/plain": [
       "<AxesSubplot: xlabel='Number of beds', ylabel='Monthly'>"
      ]
     },
     "execution_count": 124,
     "metadata": {},
     "output_type": "execute_result"
    },
    {
     "data": {
      "image/png": "[encoded data removed]",
      "text/plain": [
       "<Figure size 432x288 with 1 Axes>"
      ]
     },
     "metadata": {
      "needs_background": "light"
     },
     "output_type": "display_data"
    }
   ],
   "source": [
    "\n",
    "allCollected =  allCollected[allCollected['Number of beds'] != \"0\"]\n",
    "\n",
    "sns.boxplot(x='Number of beds', y='Monthly', data= allCollected)"
   ]
  },
  {
   "cell_type": "code",
   "execution_count": 125,
   "metadata": {},
   "outputs": [],
   "source": [
    "import numpy as np\n",
    "\n",
    "def removalOutliers(group):\n",
    "\n",
    "    q1 = group.quantile(0.25)\n",
    "    q3 = group.quantile(0.75)\n",
    "    iqr = q3-q1\n",
    "    lower  = q1-1.5*iqr\n",
    "    upper = q3+1.5*iqr\n",
    "\n",
    "    print(lower, upper)\n",
    "    return ~group.between(lower, upper)"
   ]
  },
  {
   "cell_type": "code",
   "execution_count": 126,
   "metadata": {},
   "outputs": [],
   "source": [
    "allCollected.reset_index(inplace=True, drop=True)\n"
   ]
  },
  {
   "cell_type": "code",
   "execution_count": 127,
   "metadata": {},
   "outputs": [
    {
     "data": {
      "text/html": [
       "<div>\n",
       "<style scoped>\n",
       "    .dataframe tbody tr th:only-of-type {\n",
       "        vertical-align: middle;\n",
       "    }\n",
       "\n",
       "    .dataframe tbody tr th {\n",
       "        vertical-align: top;\n",
       "    }\n",
       "\n",
       "    .dataframe thead th {\n",
       "        text-align: right;\n",
       "    }\n",
       "</style>\n",
       "<table border=\"1\" class=\"dataframe\">\n",
       "  <thead>\n",
       "    <tr style=\"text-align: right;\">\n",
       "      <th></th>\n",
       "      <th>DateListed</th>\n",
       "      <th>PostalCode</th>\n",
       "      <th>Monthly</th>\n",
       "      <th>Number of beds</th>\n",
       "      <th>Number of baths</th>\n",
       "      <th>square_feet</th>\n",
       "    </tr>\n",
       "  </thead>\n",
       "  <tbody>\n",
       "    <tr>\n",
       "      <th>0</th>\n",
       "      <td>2 days ago</td>\n",
       "      <td>V6G 1P5</td>\n",
       "      <td>1900.0</td>\n",
       "      <td>Studio</td>\n",
       "      <td>1</td>\n",
       "      <td>nan</td>\n",
       "    </tr>\n",
       "    <tr>\n",
       "      <th>1</th>\n",
       "      <td>17 hours ago</td>\n",
       "      <td>V6E 1H1</td>\n",
       "      <td>2700.0</td>\n",
       "      <td>Studio</td>\n",
       "      <td>1</td>\n",
       "      <td>nan</td>\n",
       "    </tr>\n",
       "    <tr>\n",
       "      <th>2</th>\n",
       "      <td>1 days ago</td>\n",
       "      <td>V6G 1G2</td>\n",
       "      <td>2500.0</td>\n",
       "      <td>Studio</td>\n",
       "      <td>1</td>\n",
       "      <td>nan</td>\n",
       "    </tr>\n",
       "    <tr>\n",
       "      <th>3</th>\n",
       "      <td>1 days ago</td>\n",
       "      <td>V6G 0C4</td>\n",
       "      <td>2095.0</td>\n",
       "      <td>Studio</td>\n",
       "      <td>1</td>\n",
       "      <td>nan</td>\n",
       "    </tr>\n",
       "    <tr>\n",
       "      <th>4</th>\n",
       "      <td>1 days ago</td>\n",
       "      <td>V6G 2A1</td>\n",
       "      <td>2200.0</td>\n",
       "      <td>Studio</td>\n",
       "      <td>1</td>\n",
       "      <td>nan</td>\n",
       "    </tr>\n",
       "    <tr>\n",
       "      <th>...</th>\n",
       "      <td>...</td>\n",
       "      <td>...</td>\n",
       "      <td>...</td>\n",
       "      <td>...</td>\n",
       "      <td>...</td>\n",
       "      <td>...</td>\n",
       "    </tr>\n",
       "    <tr>\n",
       "      <th>243</th>\n",
       "      <td>19 days ago</td>\n",
       "      <td>V6G 2C4</td>\n",
       "      <td>3775.0</td>\n",
       "      <td>1</td>\n",
       "      <td>1</td>\n",
       "      <td>627</td>\n",
       "    </tr>\n",
       "    <tr>\n",
       "      <th>244</th>\n",
       "      <td>19 days ago</td>\n",
       "      <td>V6G 0C6</td>\n",
       "      <td>2695.0</td>\n",
       "      <td>1</td>\n",
       "      <td>1</td>\n",
       "      <td>630</td>\n",
       "    </tr>\n",
       "    <tr>\n",
       "      <th>245</th>\n",
       "      <td>19 days ago</td>\n",
       "      <td>V6G 0C6</td>\n",
       "      <td>4500.0</td>\n",
       "      <td>3</td>\n",
       "      <td>2</td>\n",
       "      <td>1082</td>\n",
       "    </tr>\n",
       "    <tr>\n",
       "      <th>246</th>\n",
       "      <td>19 days ago</td>\n",
       "      <td>V6G 1G2</td>\n",
       "      <td>3300.0</td>\n",
       "      <td>2</td>\n",
       "      <td>1</td>\n",
       "      <td>512</td>\n",
       "    </tr>\n",
       "    <tr>\n",
       "      <th>247</th>\n",
       "      <td>19 days ago</td>\n",
       "      <td>V6G 0C4</td>\n",
       "      <td>3450.0</td>\n",
       "      <td>2</td>\n",
       "      <td>2</td>\n",
       "      <td>757</td>\n",
       "    </tr>\n",
       "  </tbody>\n",
       "</table>\n",
       "<p>248 rows × 6 columns</p>\n",
       "</div>"
      ],
      "text/plain": [
       "       DateListed PostalCode  Monthly Number of beds Number of baths  \\\n",
       "0      2 days ago    V6G 1P5   1900.0         Studio               1   \n",
       "1    17 hours ago    V6E 1H1   2700.0         Studio               1   \n",
       "2      1 days ago    V6G 1G2   2500.0         Studio               1   \n",
       "3      1 days ago    V6G 0C4   2095.0         Studio               1   \n",
       "4      1 days ago    V6G 2A1   2200.0         Studio               1   \n",
       "..            ...        ...      ...            ...             ...   \n",
       "243   19 days ago    V6G 2C4   3775.0              1               1   \n",
       "244   19 days ago    V6G 0C6   2695.0              1               1   \n",
       "245   19 days ago    V6G 0C6   4500.0              3               2   \n",
       "246   19 days ago    V6G 1G2   3300.0              2               1   \n",
       "247   19 days ago    V6G 0C4   3450.0              2               2   \n",
       "\n",
       "    square_feet  \n",
       "0           nan  \n",
       "1           nan  \n",
       "2           nan  \n",
       "3           nan  \n",
       "4           nan  \n",
       "..          ...  \n",
       "243         627  \n",
       "244         630  \n",
       "245        1082  \n",
       "246         512  \n",
       "247         757  \n",
       "\n",
       "[248 rows x 6 columns]"
      ]
     },
     "execution_count": 127,
     "metadata": {},
     "output_type": "execute_result"
    }
   ],
   "source": [
    "allCollected"
   ]
  },
  {
   "cell_type": "code",
   "execution_count": 128,
   "metadata": {},
   "outputs": [
    {
     "data": {
      "text/html": [
       "<div>\n",
       "<style scoped>\n",
       "    .dataframe tbody tr th:only-of-type {\n",
       "        vertical-align: middle;\n",
       "    }\n",
       "\n",
       "    .dataframe tbody tr th {\n",
       "        vertical-align: top;\n",
       "    }\n",
       "\n",
       "    .dataframe thead th {\n",
       "        text-align: right;\n",
       "    }\n",
       "</style>\n",
       "<table border=\"1\" class=\"dataframe\">\n",
       "  <thead>\n",
       "    <tr style=\"text-align: right;\">\n",
       "      <th></th>\n",
       "      <th>DateListed</th>\n",
       "      <th>PostalCode</th>\n",
       "      <th>Monthly</th>\n",
       "      <th>Number of beds</th>\n",
       "      <th>Number of baths</th>\n",
       "      <th>square_feet</th>\n",
       "    </tr>\n",
       "  </thead>\n",
       "  <tbody>\n",
       "    <tr>\n",
       "      <th>0</th>\n",
       "      <td>2 days ago</td>\n",
       "      <td>V6G 1P5</td>\n",
       "      <td>1900.0</td>\n",
       "      <td>Studio</td>\n",
       "      <td>1</td>\n",
       "      <td>nan</td>\n",
       "    </tr>\n",
       "    <tr>\n",
       "      <th>1</th>\n",
       "      <td>17 hours ago</td>\n",
       "      <td>V6E 1H1</td>\n",
       "      <td>2700.0</td>\n",
       "      <td>Studio</td>\n",
       "      <td>1</td>\n",
       "      <td>nan</td>\n",
       "    </tr>\n",
       "    <tr>\n",
       "      <th>2</th>\n",
       "      <td>1 days ago</td>\n",
       "      <td>V6G 1G2</td>\n",
       "      <td>2500.0</td>\n",
       "      <td>Studio</td>\n",
       "      <td>1</td>\n",
       "      <td>nan</td>\n",
       "    </tr>\n",
       "    <tr>\n",
       "      <th>3</th>\n",
       "      <td>1 days ago</td>\n",
       "      <td>V6G 0C4</td>\n",
       "      <td>2095.0</td>\n",
       "      <td>Studio</td>\n",
       "      <td>1</td>\n",
       "      <td>nan</td>\n",
       "    </tr>\n",
       "    <tr>\n",
       "      <th>4</th>\n",
       "      <td>1 days ago</td>\n",
       "      <td>V6G 2A1</td>\n",
       "      <td>2200.0</td>\n",
       "      <td>Studio</td>\n",
       "      <td>1</td>\n",
       "      <td>nan</td>\n",
       "    </tr>\n",
       "    <tr>\n",
       "      <th>...</th>\n",
       "      <td>...</td>\n",
       "      <td>...</td>\n",
       "      <td>...</td>\n",
       "      <td>...</td>\n",
       "      <td>...</td>\n",
       "      <td>...</td>\n",
       "    </tr>\n",
       "    <tr>\n",
       "      <th>243</th>\n",
       "      <td>19 days ago</td>\n",
       "      <td>V6G 2C4</td>\n",
       "      <td>3775.0</td>\n",
       "      <td>1</td>\n",
       "      <td>1</td>\n",
       "      <td>627</td>\n",
       "    </tr>\n",
       "    <tr>\n",
       "      <th>244</th>\n",
       "      <td>19 days ago</td>\n",
       "      <td>V6G 0C6</td>\n",
       "      <td>2695.0</td>\n",
       "      <td>1</td>\n",
       "      <td>1</td>\n",
       "      <td>630</td>\n",
       "    </tr>\n",
       "    <tr>\n",
       "      <th>245</th>\n",
       "      <td>19 days ago</td>\n",
       "      <td>V6G 0C6</td>\n",
       "      <td>4500.0</td>\n",
       "      <td>3</td>\n",
       "      <td>2</td>\n",
       "      <td>1082</td>\n",
       "    </tr>\n",
       "    <tr>\n",
       "      <th>246</th>\n",
       "      <td>19 days ago</td>\n",
       "      <td>V6G 1G2</td>\n",
       "      <td>3300.0</td>\n",
       "      <td>2</td>\n",
       "      <td>1</td>\n",
       "      <td>512</td>\n",
       "    </tr>\n",
       "    <tr>\n",
       "      <th>247</th>\n",
       "      <td>19 days ago</td>\n",
       "      <td>V6G 0C4</td>\n",
       "      <td>3450.0</td>\n",
       "      <td>2</td>\n",
       "      <td>2</td>\n",
       "      <td>757</td>\n",
       "    </tr>\n",
       "  </tbody>\n",
       "</table>\n",
       "<p>248 rows × 6 columns</p>\n",
       "</div>"
      ],
      "text/plain": [
       "       DateListed PostalCode  Monthly Number of beds Number of baths  \\\n",
       "0      2 days ago    V6G 1P5   1900.0         Studio               1   \n",
       "1    17 hours ago    V6E 1H1   2700.0         Studio               1   \n",
       "2      1 days ago    V6G 1G2   2500.0         Studio               1   \n",
       "3      1 days ago    V6G 0C4   2095.0         Studio               1   \n",
       "4      1 days ago    V6G 2A1   2200.0         Studio               1   \n",
       "..            ...        ...      ...            ...             ...   \n",
       "243   19 days ago    V6G 2C4   3775.0              1               1   \n",
       "244   19 days ago    V6G 0C6   2695.0              1               1   \n",
       "245   19 days ago    V6G 0C6   4500.0              3               2   \n",
       "246   19 days ago    V6G 1G2   3300.0              2               1   \n",
       "247   19 days ago    V6G 0C4   3450.0              2               2   \n",
       "\n",
       "    square_feet  \n",
       "0           nan  \n",
       "1           nan  \n",
       "2           nan  \n",
       "3           nan  \n",
       "4           nan  \n",
       "..          ...  \n",
       "243         627  \n",
       "244         630  \n",
       "245        1082  \n",
       "246         512  \n",
       "247         757  \n",
       "\n",
       "[248 rows x 6 columns]"
      ]
     },
     "execution_count": 128,
     "metadata": {},
     "output_type": "execute_result"
    }
   ],
   "source": [
    "allCollected"
   ]
  },
  {
   "cell_type": "code",
   "execution_count": 129,
   "metadata": {},
   "outputs": [
    {
     "name": "stdout",
     "output_type": "stream",
     "text": [
      "Number of beds\n",
      "1         1775.0\n",
      "2         2100.0\n",
      "3         2850.0\n",
      "Studio    1625.0\n",
      "Name: Monthly, dtype: float64 Number of beds\n",
      "1          4200.0\n",
      "2         11000.0\n",
      "3         12900.0\n",
      "Studio     3500.0\n",
      "Name: Monthly, dtype: float64\n"
     ]
    }
   ],
   "source": [
    "print(allCollected.groupby('Number of beds')['Monthly'].min(),\n",
    "allCollected.groupby('Number of beds')['Monthly'].max())"
   ]
  },
  {
   "cell_type": "code",
   "execution_count": 130,
   "metadata": {},
   "outputs": [
    {
     "data": {
      "text/plain": [
       "1         106\n",
       "2          74\n",
       "3          36\n",
       "Studio     32\n",
       "Name: Number of beds, dtype: int64"
      ]
     },
     "execution_count": 130,
     "metadata": {},
     "output_type": "execute_result"
    }
   ],
   "source": [
    "allCollected['Number of beds'].value_counts()"
   ]
  },
  {
   "cell_type": "markdown",
   "metadata": {},
   "source": [
    "# Outliers removed and anomalies are removed"
   ]
  },
  {
   "cell_type": "code",
   "execution_count": 131,
   "metadata": {},
   "outputs": [
    {
     "data": {
      "text/plain": [
       "<AxesSubplot: xlabel='Number of beds', ylabel='Monthly'>"
      ]
     },
     "execution_count": 131,
     "metadata": {},
     "output_type": "execute_result"
    },
    {
     "data": {
      "image/png": "[encoded data removed]",
      "text/plain": [
       "<Figure size 432x288 with 1 Axes>"
      ]
     },
     "metadata": {
      "needs_background": "light"
     },
     "output_type": "display_data"
    }
   ],
   "source": [
    "sns.boxplot(x='Number of beds', y='Monthly', data= allCollected)"
   ]
  },
  {
   "cell_type": "code",
   "execution_count": 132,
   "metadata": {},
   "outputs": [],
   "source": [
    "allCollected.reset_index(inplace=True, drop=True)"
   ]
  },
  {
   "cell_type": "code",
   "execution_count": 133,
   "metadata": {},
   "outputs": [
    {
     "data": {
      "text/html": [
       "<div>\n",
       "<style scoped>\n",
       "    .dataframe tbody tr th:only-of-type {\n",
       "        vertical-align: middle;\n",
       "    }\n",
       "\n",
       "    .dataframe tbody tr th {\n",
       "        vertical-align: top;\n",
       "    }\n",
       "\n",
       "    .dataframe thead th {\n",
       "        text-align: right;\n",
       "    }\n",
       "</style>\n",
       "<table border=\"1\" class=\"dataframe\">\n",
       "  <thead>\n",
       "    <tr style=\"text-align: right;\">\n",
       "      <th></th>\n",
       "      <th>DateListed</th>\n",
       "      <th>PostalCode</th>\n",
       "      <th>Monthly</th>\n",
       "      <th>Number of beds</th>\n",
       "      <th>Number of baths</th>\n",
       "      <th>square_feet</th>\n",
       "    </tr>\n",
       "  </thead>\n",
       "  <tbody>\n",
       "    <tr>\n",
       "      <th>0</th>\n",
       "      <td>2 days ago</td>\n",
       "      <td>V6G 1P5</td>\n",
       "      <td>1900.0</td>\n",
       "      <td>Studio</td>\n",
       "      <td>1</td>\n",
       "      <td>nan</td>\n",
       "    </tr>\n",
       "    <tr>\n",
       "      <th>1</th>\n",
       "      <td>17 hours ago</td>\n",
       "      <td>V6E 1H1</td>\n",
       "      <td>2700.0</td>\n",
       "      <td>Studio</td>\n",
       "      <td>1</td>\n",
       "      <td>nan</td>\n",
       "    </tr>\n",
       "    <tr>\n",
       "      <th>2</th>\n",
       "      <td>1 days ago</td>\n",
       "      <td>V6G 1G2</td>\n",
       "      <td>2500.0</td>\n",
       "      <td>Studio</td>\n",
       "      <td>1</td>\n",
       "      <td>nan</td>\n",
       "    </tr>\n",
       "    <tr>\n",
       "      <th>3</th>\n",
       "      <td>1 days ago</td>\n",
       "      <td>V6G 0C4</td>\n",
       "      <td>2095.0</td>\n",
       "      <td>Studio</td>\n",
       "      <td>1</td>\n",
       "      <td>nan</td>\n",
       "    </tr>\n",
       "    <tr>\n",
       "      <th>4</th>\n",
       "      <td>1 days ago</td>\n",
       "      <td>V6G 2A1</td>\n",
       "      <td>2200.0</td>\n",
       "      <td>Studio</td>\n",
       "      <td>1</td>\n",
       "      <td>nan</td>\n",
       "    </tr>\n",
       "    <tr>\n",
       "      <th>...</th>\n",
       "      <td>...</td>\n",
       "      <td>...</td>\n",
       "      <td>...</td>\n",
       "      <td>...</td>\n",
       "      <td>...</td>\n",
       "      <td>...</td>\n",
       "    </tr>\n",
       "    <tr>\n",
       "      <th>243</th>\n",
       "      <td>19 days ago</td>\n",
       "      <td>V6G 2C4</td>\n",
       "      <td>3775.0</td>\n",
       "      <td>1</td>\n",
       "      <td>1</td>\n",
       "      <td>627</td>\n",
       "    </tr>\n",
       "    <tr>\n",
       "      <th>244</th>\n",
       "      <td>19 days ago</td>\n",
       "      <td>V6G 0C6</td>\n",
       "      <td>2695.0</td>\n",
       "      <td>1</td>\n",
       "      <td>1</td>\n",
       "      <td>630</td>\n",
       "    </tr>\n",
       "    <tr>\n",
       "      <th>245</th>\n",
       "      <td>19 days ago</td>\n",
       "      <td>V6G 0C6</td>\n",
       "      <td>4500.0</td>\n",
       "      <td>3</td>\n",
       "      <td>2</td>\n",
       "      <td>1082</td>\n",
       "    </tr>\n",
       "    <tr>\n",
       "      <th>246</th>\n",
       "      <td>19 days ago</td>\n",
       "      <td>V6G 1G2</td>\n",
       "      <td>3300.0</td>\n",
       "      <td>2</td>\n",
       "      <td>1</td>\n",
       "      <td>512</td>\n",
       "    </tr>\n",
       "    <tr>\n",
       "      <th>247</th>\n",
       "      <td>19 days ago</td>\n",
       "      <td>V6G 0C4</td>\n",
       "      <td>3450.0</td>\n",
       "      <td>2</td>\n",
       "      <td>2</td>\n",
       "      <td>757</td>\n",
       "    </tr>\n",
       "  </tbody>\n",
       "</table>\n",
       "<p>248 rows × 6 columns</p>\n",
       "</div>"
      ],
      "text/plain": [
       "       DateListed PostalCode  Monthly Number of beds Number of baths  \\\n",
       "0      2 days ago    V6G 1P5   1900.0         Studio               1   \n",
       "1    17 hours ago    V6E 1H1   2700.0         Studio               1   \n",
       "2      1 days ago    V6G 1G2   2500.0         Studio               1   \n",
       "3      1 days ago    V6G 0C4   2095.0         Studio               1   \n",
       "4      1 days ago    V6G 2A1   2200.0         Studio               1   \n",
       "..            ...        ...      ...            ...             ...   \n",
       "243   19 days ago    V6G 2C4   3775.0              1               1   \n",
       "244   19 days ago    V6G 0C6   2695.0              1               1   \n",
       "245   19 days ago    V6G 0C6   4500.0              3               2   \n",
       "246   19 days ago    V6G 1G2   3300.0              2               1   \n",
       "247   19 days ago    V6G 0C4   3450.0              2               2   \n",
       "\n",
       "    square_feet  \n",
       "0           nan  \n",
       "1           nan  \n",
       "2           nan  \n",
       "3           nan  \n",
       "4           nan  \n",
       "..          ...  \n",
       "243         627  \n",
       "244         630  \n",
       "245        1082  \n",
       "246         512  \n",
       "247         757  \n",
       "\n",
       "[248 rows x 6 columns]"
      ]
     },
     "execution_count": 133,
     "metadata": {},
     "output_type": "execute_result"
    }
   ],
   "source": [
    "allCollected"
   ]
  }
 ],
 "metadata": {
  "kernelspec": {
   "display_name": "Python 3.10.0 64-bit ('jobby': venv)",
   "language": "python",
   "name": "python3"
  },
  "language_info": {
   "codemirror_mode": {
    "name": "ipython",
    "version": 3
   },
   "file_extension": ".py",
   "mimetype": "text/x-python",
   "name": "python",
   "nbconvert_exporter": "python",
   "pygments_lexer": "ipython3",
   "version": "3.10.0"
  },
  "orig_nbformat": 4,
  "vscode": {
   "interpreter": {
    "hash": "48d350f5f181397a19360741f9002fc700ff8626a9f57dcf745937f45eb19683"
   }
  }
 },
 "nbformat": 4,
 "nbformat_minor": 2
}
